{
  "cells": [
    {
      "cell_type": "markdown",
      "metadata": {
        "id": "FjipwnC5T_0k"
      },
      "source": [
        "# Week 2 Dictionary Week"
      ]
    },
    {
      "cell_type": "code",
      "execution_count": null,
      "metadata": {
        "colab": {
          "base_uri": "https://localhost:8080/"
        },
        "id": "nL1ORwm6c8-h",
        "outputId": "57d4b755-cfc0-4d7b-b131-2c9e5440e681"
      },
      "outputs": [
        {
          "data": {
            "text/plain": [
              "dict_values"
            ]
          },
          "execution_count": 10,
          "metadata": {},
          "output_type": "execute_result"
        }
      ],
      "source": [
        "dict={'a':1, 'b':2}\n",
        "type(dict.values())\n",
        "zzzz"
      ]
    },
    {
      "cell_type": "markdown",
      "metadata": {
        "id": "MyRy5gecc8wg"
      },
      "source": []
    },
    {
      "cell_type": "code",
      "execution_count": null,
      "metadata": {
        "colab": {
          "base_uri": "https://localhost:8080/"
        },
        "id": "Im5ygn6rHHEe",
        "outputId": "71aefe1c-730e-4c91-de64-e766df8578ab"
      },
      "outputs": [
        {
          "name": "stdout",
          "output_type": "stream",
          "text": [
            "[0, 1, 2, 3, 4]\n"
          ]
        }
      ],
      "source": [
        "midpoint=[]\n",
        "midpointtwo=[]\n",
        "mid=5\n",
        "for i in range(10):\n",
        "  if i < mid:\n",
        "    midpoint.append(i)\n",
        "  else:\n",
        "    midpointtwo.append(i)\n",
        "\n",
        "print(midpoint)"
      ]
    },
    {
      "cell_type": "code",
      "execution_count": null,
      "metadata": {
        "colab": {
          "base_uri": "https://localhost:8080/"
        },
        "id": "l6KHc92wHfP3",
        "outputId": "4848d3ea-0806-44ea-a6ba-6820c2e92ce5"
      },
      "outputs": [
        {
          "name": "stdout",
          "output_type": "stream",
          "text": [
            "[0, 2, 4, 6, 8, 10, 12, 14, 16, 18, 20, 22, 24, 26, 28, 30, 32, 34, 36, 38, 40, 42, 44, 46, 48, 50, 52, 54, 56, 58, 60, 62, 64, 66, 68, 70, 72, 74, 76, 78, 80, 82, 84, 86, 88, 90, 92, 94, 96, 98]\n"
          ]
        }
      ],
      "source": [
        "evennumbers=[]\n",
        "for i in range(100):\n",
        "  if i % 2 ==0:\n",
        "    evennumbers.append(i)\n",
        "\n",
        "print(evennumbers)"
      ]
    },
    {
      "cell_type": "code",
      "execution_count": null,
      "metadata": {
        "colab": {
          "base_uri": "https://localhost:8080/"
        },
        "id": "qJ1JR-zGJGv-",
        "outputId": "aa7c61bf-5c84-45ef-90d9-d497b8c3d594"
      },
      "outputs": [
        {
          "name": "stdout",
          "output_type": "stream",
          "text": [
            "[1, 2, 3, 4]\n",
            "[1, 2, 3, 4, 7] [1, 2, 3, 4, 7]\n",
            "[1, 2, 3, 4, 7]\n"
          ]
        },
        {
          "data": {
            "text/plain": [
              "True"
            ]
          },
          "execution_count": 16,
          "metadata": {},
          "output_type": "execute_result"
        }
      ],
      "source": [
        "x=[1,2,3]\n",
        "y=x\n",
        "x.append(4)\n",
        "print(y)\n",
        "y.append(7)\n",
        "print(x,y)\n",
        "print(y)\n",
        "x==y\n"
      ]
    },
    {
      "cell_type": "code",
      "execution_count": null,
      "metadata": {
        "colab": {
          "base_uri": "https://localhost:8080/"
        },
        "id": "tjH8dsbtKYdl",
        "outputId": "7d5f55e6-65ea-4bf0-9ea3-e3baf2cc917e"
      },
      "outputs": [
        {
          "name": "stdout",
          "output_type": "stream",
          "text": [
            "[5, 42, 5]\n"
          ]
        }
      ],
      "source": [
        "x=[5, 42, 17]\n",
        "y=[1, 2, 3]\n",
        "z=y\n",
        "\n",
        "x[2]=5\n",
        "print(x)\n",
        "\n",
        "\n"
      ]
    },
    {
      "cell_type": "code",
      "execution_count": null,
      "metadata": {
        "colab": {
          "base_uri": "https://localhost:8080/"
        },
        "id": "KFZww__cSvAy",
        "outputId": "f148abff-0c20-4eb5-d7b0-bc025707a829"
      },
      "outputs": [
        {
          "name": "stdout",
          "output_type": "stream",
          "text": [
            "{'a': 3, 'set': 3, 'b': 5, 'c': 9}\n"
          ]
        },
        {
          "data": {
            "text/plain": [
              "False"
            ]
          },
          "execution_count": 39,
          "metadata": {},
          "output_type": "execute_result"
        }
      ],
      "source": [
        "x={\"a\":3, \"b\": 5, \"c\": 9}\n",
        "\n",
        "y={\"a\":2, \"set\":3}\n",
        "\n",
        "y.update(x)\n",
        "\n",
        "print(y)\n",
        "\n",
        "3 in y\n",
        "\n"
      ]
    },
    {
      "cell_type": "code",
      "execution_count": null,
      "metadata": {
        "colab": {
          "base_uri": "https://localhost:8080/"
        },
        "id": "T6HvkuolWewz",
        "outputId": "230438e0-9c3d-42b8-a9ad-28da9459e1db"
      },
      "outputs": [
        {
          "name": "stdout",
          "output_type": "stream",
          "text": [
            "0\n",
            "1\n",
            "2\n",
            "3\n",
            "4\n",
            "5\n",
            "6\n",
            "7\n",
            "8\n",
            "9\n"
          ]
        }
      ],
      "source": [
        "for i in range(10):\n",
        "  print (i)"
      ]
    },
    {
      "cell_type": "code",
      "execution_count": null,
      "metadata": {
        "colab": {
          "base_uri": "https://localhost:8080/"
        },
        "id": "igFeo09icEZi",
        "outputId": "692f3b37-3443-433e-bf9a-1bb495f38c79"
      },
      "outputs": [
        {
          "name": "stdout",
          "output_type": "stream",
          "text": [
            "[0, 2, 4, 6, 8, 10, 12, 14, 16, 18, 0, 3, 6, 9, 12, 15, 18, 21, 24, 27, 0, 5, 10, 15, 20, 25, 30, 35, 40, 45, 0, 7, 14, 21, 28, 35, 42, 49, 56, 63]\n"
          ]
        }
      ],
      "source": [
        "q7 = []\n",
        "for p in [2, 3, 5, 7]:\n",
        "    for i in range(10):\n",
        "        q7.append(p * i)\n",
        "\n",
        "print(q7)"
      ]
    },
    {
      "cell_type": "code",
      "execution_count": null,
      "metadata": {
        "id": "2SOGOIgJcMmU"
      },
      "outputs": [],
      "source": [
        "my_list = [i * i * i for i in range(10)]\n",
        "\n"
      ]
    },
    {
      "cell_type": "code",
      "execution_count": null,
      "metadata": {
        "colab": {
          "base_uri": "https://localhost:8080/"
        },
        "id": "gsC_hU3FKJn3",
        "outputId": "8b1c857f-18ec-4e08-ac5e-4bf2917c1c6d"
      },
      "outputs": [
        {
          "data": {
            "text/plain": [
              "1"
            ]
          },
          "execution_count": 6,
          "metadata": {},
          "output_type": "execute_result"
        }
      ],
      "source": [
        "my_list[1]"
      ]
    },
    {
      "cell_type": "code",
      "execution_count": null,
      "metadata": {
        "colab": {
          "base_uri": "https://localhost:8080/"
        },
        "id": "jFRK4CrGKUVH",
        "outputId": "c6bd6096-1a3f-46fe-b224-993966b48fee"
      },
      "outputs": [
        {
          "name": "stdout",
          "output_type": "stream",
          "text": [
            "b\n"
          ]
        }
      ],
      "source": [
        "     if 1 > 2:\n",
        "         print(\"a\")\n",
        "     elif True:\n",
        "         print(\"b\")\n",
        "     else:\n",
        "         print(\"c\")"
      ]
    },
    {
      "cell_type": "code",
      "execution_count": null,
      "metadata": {
        "colab": {
          "base_uri": "https://localhost:8080/"
        },
        "id": "YhMiiSuMLsuT",
        "outputId": "3cf89cbf-12ac-4ddb-c54c-a68b7883dd14"
      },
      "outputs": [
        {
          "name": "stdout",
          "output_type": "stream",
          "text": [
            "0\n",
            "1\n",
            "2\n",
            "3\n",
            "4\n",
            "5\n",
            "6\n",
            "7\n",
            "8\n",
            "9\n"
          ]
        }
      ],
      "source": [
        "  for i in range(10):\n",
        "        print(i)"
      ]
    },
    {
      "cell_type": "code",
      "execution_count": null,
      "metadata": {
        "colab": {
          "base_uri": "https://localhost:8080/"
        },
        "id": "8VHAZmu5Lzn5",
        "outputId": "757a134b-bf39-4c12-f80b-3374419a01ff"
      },
      "outputs": [
        {
          "name": "stdout",
          "output_type": "stream",
          "text": [
            "green\n",
            "yellow\n"
          ]
        }
      ],
      "source": [
        "    color = \"green\"\n",
        "    while color != \"red\":\n",
        "       print(color)\n",
        "       if color == \"yellow\":\n",
        "         color = \"red\"\n",
        "       else:\n",
        "          color = \"yellow\""
      ]
    },
    {
      "cell_type": "code",
      "execution_count": null,
      "metadata": {
        "colab": {
          "base_uri": "https://localhost:8080/"
        },
        "id": "W3kbePXpL_TC",
        "outputId": "0f6d9438-e059-494f-dbbf-32edff371be3"
      },
      "outputs": [
        {
          "name": "stdout",
          "output_type": "stream",
          "text": [
            "white\n",
            "yellow\n"
          ]
        }
      ],
      "source": [
        "    color = \"white\"\n",
        "    while color != \"red\":\n",
        "       print(color)\n",
        "       if color == \"yellow\":\n",
        "         color = \"red\"\n",
        "       else:\n",
        "          color = \"yellow\""
      ]
    },
    {
      "cell_type": "code",
      "execution_count": null,
      "metadata": {
        "colab": {
          "base_uri": "https://localhost:8080/"
        },
        "id": "-viGzzWwMFmp",
        "outputId": "666606f2-3094-4c6b-c143-d99b0ad37f6f"
      },
      "outputs": [
        {
          "name": "stdout",
          "output_type": "stream",
          "text": [
            "[24, 25, 26]\n"
          ]
        }
      ],
      "source": [
        "q8a = [1, 2, 3, 6, 98, 23, 24, 25, 26]\n",
        "q8b = [26, 25, 24, 22, 5, 5, 5, 5, 5, 5]\n",
        "\n",
        "p8 = list(set(q8a) & set(q8b))\n",
        "print(p8)"
      ]
    },
    {
      "cell_type": "code",
      "execution_count": null,
      "metadata": {
        "colab": {
          "base_uri": "https://localhost:8080/"
        },
        "id": "TasO330cOaFu",
        "outputId": "7ef5fd4c-3157-4aee-b592-68de6462c45e"
      },
      "outputs": [
        {
          "data": {
            "text/plain": [
              "[0, 1, 8, 27, 64, 125, 216, 343, 512, 729]"
            ]
          },
          "execution_count": 32,
          "metadata": {},
          "output_type": "execute_result"
        }
      ],
      "source": [
        "my_list = [word * word * word for word in range(10)]\n",
        "\n",
        "my_list"
      ]
    },
    {
      "cell_type": "code",
      "execution_count": null,
      "metadata": {
        "colab": {
          "base_uri": "https://localhost:8080/"
        },
        "id": "tl7BPpYwh83p",
        "outputId": "81b54e34-680e-4e60-d5ae-d8848e70b507"
      },
      "outputs": [
        {
          "name": "stdout",
          "output_type": "stream",
          "text": [
            "0\n",
            "0\n",
            "1\n",
            "8\n",
            "2\n",
            "27\n",
            "64\n",
            "4\n",
            "125\n",
            "216\n",
            "6\n",
            "343\n",
            "512\n",
            "8\n",
            "729\n"
          ]
        }
      ],
      "source": [
        "for i in range(10):\n",
        "  print(i*i*i)\n",
        "  if i % 2 ==0:\n",
        "    print(i)\n",
        "\n",
        "\n"
      ]
    },
    {
      "cell_type": "code",
      "execution_count": null,
      "metadata": {
        "colab": {
          "base_uri": "https://localhost:8080/"
        },
        "id": "czbK5XIWkifd",
        "outputId": "44834713-dbe5-452d-86c1-c55e92bb694e"
      },
      "outputs": [
        {
          "data": {
            "text/plain": [
              "True"
            ]
          },
          "execution_count": 1,
          "metadata": {},
          "output_type": "execute_result"
        }
      ],
      "source": [
        "3>1"
      ]
    },
    {
      "cell_type": "code",
      "execution_count": null,
      "metadata": {
        "colab": {
          "base_uri": "https://localhost:8080/",
          "height": 110
        },
        "id": "-OP-HOpqQPw0",
        "outputId": "b43b801f-f650-4098-93d6-794ca0427ac9"
      },
      "outputs": [
        {
          "ename": "SyntaxError",
          "evalue": "unexpected character after line continuation character (<ipython-input-18-c273f6da700e>, line 1)",
          "output_type": "error",
          "traceback": [
            "\u001b[0;36m  File \u001b[0;32m\"<ipython-input-18-c273f6da700e>\"\u001b[0;36m, line \u001b[0;32m1\u001b[0m\n\u001b[0;31m    x=1+2+3+4+\\5+6+7+8\u001b[0m\n\u001b[0m               ^\u001b[0m\n\u001b[0;31mSyntaxError\u001b[0m\u001b[0;31m:\u001b[0m unexpected character after line continuation character\n"
          ]
        }
      ],
      "source": [
        "x=1+2+3+4+\\5+6+7+8\n",
        "x"
      ]
    },
    {
      "cell_type": "code",
      "execution_count": null,
      "metadata": {
        "colab": {
          "base_uri": "https://localhost:8080/"
        },
        "id": "1AZSRFxcQhPC",
        "outputId": "b63d8cdb-56ed-458f-ec19-34d7a0d209ff"
      },
      "outputs": [
        {
          "data": {
            "text/plain": [
              "[1, 3, 5, 7, 9]"
            ]
          },
          "execution_count": 23,
          "metadata": {},
          "output_type": "execute_result"
        }
      ],
      "source": [
        "x=[]\n",
        "for i in range(10):\n",
        "  if i %2 == 1:\n",
        "    x.append(i)\n",
        "\n",
        "x\n",
        "\n"
      ]
    },
    {
      "cell_type": "code",
      "execution_count": null,
      "metadata": {
        "colab": {
          "base_uri": "https://localhost:8080/"
        },
        "id": "xAh_GWxbVkuT",
        "outputId": "dad3fff9-ea70-44a0-85c5-979170f32256"
      },
      "outputs": [
        {
          "data": {
            "text/plain": [
              "True"
            ]
          },
          "execution_count": 24,
          "metadata": {},
          "output_type": "execute_result"
        }
      ],
      "source": [
        "a=2\n",
        "b=2\n",
        "\n",
        "a is b"
      ]
    },
    {
      "cell_type": "code",
      "execution_count": null,
      "metadata": {
        "colab": {
          "base_uri": "https://localhost:8080/"
        },
        "id": "Mgz15DxsXNRj",
        "outputId": "0a1df252-42af-42fe-904c-09d455756d07"
      },
      "outputs": [
        {
          "data": {
            "text/plain": [
              "3"
            ]
          },
          "execution_count": 2,
          "metadata": {},
          "output_type": "execute_result"
        }
      ],
      "source": [
        "a=[1, 3, 5, 7, 9]\n",
        "a[1]"
      ]
    },
    {
      "cell_type": "code",
      "execution_count": null,
      "metadata": {
        "colab": {
          "base_uri": "https://localhost:8080/"
        },
        "id": "guuI-HmqxraJ",
        "outputId": "a3402232-8f05-40b9-f225-e4175afcece0"
      },
      "outputs": [
        {
          "name": "stdout",
          "output_type": "stream",
          "text": [
            "x 1\n",
            "y 2\n",
            "zee 3\n",
            "beta 4\n",
            "2 5\n"
          ]
        }
      ],
      "source": [
        "dictionary={'x':1, 'y':2, 'zee':3, 'beta':4, 2:5}\n",
        "\n",
        "for x , y in dictionary.items():\n",
        "  print(x, y)\n",
        "\n",
        "\n",
        "\n",
        "\n"
      ]
    },
    {
      "cell_type": "code",
      "execution_count": null,
      "metadata": {
        "colab": {
          "base_uri": "https://localhost:8080/",
          "height": 141
        },
        "id": "2_M4gkGACHQ7",
        "outputId": "b43e7e23-5303-4f67-bf4a-11dca7e5da8c"
      },
      "outputs": [
        {
          "ename": "NameError",
          "evalue": "name 'dictionary' is not defined",
          "output_type": "error",
          "traceback": [
            "\u001b[0;31m---------------------------------------------------------------------------\u001b[0m",
            "\u001b[0;31mNameError\u001b[0m                                 Traceback (most recent call last)",
            "\u001b[0;32m<ipython-input-8-cd6842156ad6>\u001b[0m in \u001b[0;36m<cell line: 0>\u001b[0;34m()\u001b[0m\n\u001b[0;32m----> 1\u001b[0;31m \u001b[0mdictionary\u001b[0m\u001b[0;34m[\u001b[0m\u001b[0;36m2\u001b[0m\u001b[0;34m]\u001b[0m\u001b[0;34m\u001b[0m\u001b[0;34m\u001b[0m\u001b[0m\n\u001b[0m",
            "\u001b[0;31mNameError\u001b[0m: name 'dictionary' is not defined"
          ]
        }
      ],
      "source": [
        "dictionary[2]"
      ]
    },
    {
      "cell_type": "code",
      "execution_count": null,
      "metadata": {
        "colab": {
          "base_uri": "https://localhost:8080/"
        },
        "id": "HJbXKp_rGgCp",
        "outputId": "fb956844-2c9f-4e1b-92d4-ff3351b1d840"
      },
      "outputs": [
        {
          "name": "stdout",
          "output_type": "stream",
          "text": [
            "0, 1, 2, 3, 4, 5, 6, 7, 8, 9, "
          ]
        }
      ],
      "source": [
        "N = 10 ** 12\n",
        "for i in range(N):\n",
        "  if i >= 10:\n",
        "    break\n",
        "  print(i, end=', ')"
      ]
    },
    {
      "cell_type": "code",
      "execution_count": null,
      "metadata": {
        "colab": {
          "base_uri": "https://localhost:8080/"
        },
        "id": "Txa8ySHp3ae-",
        "outputId": "48f93a16-a4a4-4e15-96d0-0cbf905fc4cb"
      },
      "outputs": [
        {
          "data": {
            "text/plain": [
              "(1, 2, 3)"
            ]
          },
          "execution_count": 15,
          "metadata": {},
          "output_type": "execute_result"
        }
      ],
      "source": [
        "t=(1,2,3)\n",
        "t[0]\n",
        "t[0:3]"
      ]
    },
    {
      "cell_type": "code",
      "execution_count": null,
      "metadata": {
        "colab": {
          "base_uri": "https://localhost:8080/"
        },
        "id": "xI8AoLvEIhA9",
        "outputId": "0a20370a-5ba9-448d-ae90-d52c7d7030ac"
      },
      "outputs": [
        {
          "name": "stdout",
          "output_type": "stream",
          "text": [
            "1 8\n"
          ]
        }
      ],
      "source": [
        "x=.125\n",
        "num, denom=x.as_integer_ratio()\n",
        "print(num,denom)"
      ]
    },
    {
      "cell_type": "code",
      "execution_count": null,
      "metadata": {
        "colab": {
          "base_uri": "https://localhost:8080/"
        },
        "id": "Y2UI9Kf1KLJc",
        "outputId": "09965046-8dbb-4d29-f283-d72aaaac9d8e"
      },
      "outputs": [
        {
          "data": {
            "text/plain": [
              "{'d', 'r'}"
            ]
          },
          "execution_count": 27,
          "metadata": {},
          "output_type": "execute_result"
        }
      ],
      "source": [
        "sets={c for c in 'abracadabra' if c not in 'abc'}\n",
        "sets"
      ]
    },
    {
      "cell_type": "code",
      "execution_count": null,
      "metadata": {
        "colab": {
          "base_uri": "https://localhost:8080/"
        },
        "id": "nL3hB-tQZwlL",
        "outputId": "c1e95f8c-9ff7-4e7a-b407-ebdf9dd51312"
      },
      "outputs": [
        {
          "name": "stdout",
          "output_type": "stream",
          "text": [
            "1\n",
            "3\n",
            "5\n",
            "7\n",
            "9\n",
            "11\n",
            "13\n",
            "15\n",
            "17\n",
            "19\n"
          ]
        }
      ],
      "source": [
        "for n in range(20):\n",
        "  if n % 2 == 0:\n",
        "      continue\n",
        "  print(n)"
      ]
    },
    {
      "cell_type": "code",
      "execution_count": null,
      "metadata": {
        "colab": {
          "base_uri": "https://localhost:8080/"
        },
        "id": "LG43hMgGhvZc",
        "outputId": "b168018b-edc7-44aa-8ef3-efa50a48be0c"
      },
      "outputs": [
        {
          "name": "stdout",
          "output_type": "stream",
          "text": [
            "1\n",
            "2\n",
            "3\n",
            "4\n",
            "Found 5! Stopping the loop.\n"
          ]
        }
      ],
      "source": [
        "numbers = [1, 2, 3, 4, 5, 6, 7, 8, 9]\n",
        "\n",
        "for num in numbers:\n",
        "  if num == 5:\n",
        "    print(\"Found 5! Stopping the loop.\")\n",
        "    break  # Exit the loop when num is 5\n",
        "  print(num)\n",
        "\n"
      ]
    },
    {
      "cell_type": "code",
      "execution_count": null,
      "metadata": {
        "colab": {
          "base_uri": "https://localhost:8080/"
        },
        "id": "Peo1zh4cjFr_",
        "outputId": "4528fcd0-adbd-4059-a235-bdffefe2fa98"
      },
      "outputs": [
        {
          "name": "stdout",
          "output_type": "stream",
          "text": [
            "1 2 3 "
          ]
        }
      ],
      "source": [
        "print(1,2,3,end=' ')"
      ]
    },
    {
      "cell_type": "code",
      "execution_count": null,
      "metadata": {
        "colab": {
          "base_uri": "https://localhost:8080/"
        },
        "id": "8QJ9MY3Wl--c",
        "outputId": "052e5bb5-2605-4222-b19f-f2185c037449"
      },
      "outputs": [
        {
          "name": "stdout",
          "output_type": "stream",
          "text": [
            "1\n",
            "2\n",
            "3\n",
            "4\n",
            "5\n",
            "6\n",
            "7\n",
            "8\n",
            "9\n",
            "10\n",
            "11\n",
            "12\n",
            "13\n",
            "14\n",
            "15\n",
            "16\n",
            "17\n",
            "18\n",
            "19\n",
            "20\n"
          ]
        },
        {
          "data": {
            "text/plain": [
              "20"
            ]
          },
          "execution_count": 3,
          "metadata": {},
          "output_type": "execute_result"
        }
      ],
      "source": [
        "for x in range(20):\n",
        "  x += 1\n",
        "  print(x)\n",
        "\n",
        "x"
      ]
    },
    {
      "cell_type": "code",
      "execution_count": null,
      "metadata": {
        "id": "bJDqiyfvznyh"
      },
      "outputs": [],
      "source": [
        "q10 = {}\n",
        "def add_data_10(row):\n",
        "  if row['score'] < 0:\n",
        "    return\n",
        "  else:\n",
        "    q10.setdefault(row['zipcode'], [])\n",
        "    q10[row['zipcode']].append(row) # would this give same output if I wrote else in fromt of q10.setdefault?"
      ]
    },
    {
      "cell_type": "code",
      "execution_count": null,
      "metadata": {
        "colab": {
          "base_uri": "https://localhost:8080/"
        },
        "id": "iLx4UqKd12Mh",
        "outputId": "7d1f1904-2e8c-4ba4-d2e0-bf6578235f45"
      },
      "outputs": [
        {
          "data": {
            "text/plain": [
              "{0: 0, 1: 1, 2: 4, 3: 9, 4: 16, 5: 25, 6: 36, 7: 49, 8: 64, 9: 81}"
            ]
          },
          "execution_count": 12,
          "metadata": {},
          "output_type": "execute_result"
        }
      ],
      "source": [
        "squares= {i: i**2 for i in range(10)}\n",
        "squares"
      ]
    },
    {
      "cell_type": "code",
      "execution_count": null,
      "metadata": {
        "colab": {
          "base_uri": "https://localhost:8080/"
        },
        "id": "sfh8sd8SNbi5",
        "outputId": "683915ea-94b5-40c6-ab31-1f017ed5ba39"
      },
      "outputs": [
        {
          "data": {
            "text/plain": [
              "{0: 0, 1: 1, 4: 2, 9: 3, 16: 4, 25: 5, 36: 6, 49: 7, 64: 8, 81: 9}"
            ]
          },
          "execution_count": 14,
          "metadata": {},
          "output_type": "execute_result"
        }
      ],
      "source": [
        "square_roots={squares[v]: v for v in squares}\n",
        "square_roots"
      ]
    },
    {
      "cell_type": "code",
      "execution_count": null,
      "metadata": {
        "colab": {
          "base_uri": "https://localhost:8080/"
        },
        "id": "JouMqHs_NraQ",
        "outputId": "1a7017bd-57ad-41de-c647-6c3ad29c7560"
      },
      "outputs": [
        {
          "data": {
            "text/plain": [
              "{0: 3.4, 1: 1, 4: 2, 9: 3, 16: 4, 25: 5, 36: 6, 49: 7, 64: 8, 81: 9, 111: 11}"
            ]
          },
          "execution_count": 19,
          "metadata": {},
          "output_type": "execute_result"
        }
      ],
      "source": [
        "square_roots[111]=11\n",
        "square_roots\n",
        "square_roots[0]=3.4\n",
        "square_roots"
      ]
    },
    {
      "cell_type": "code",
      "execution_count": null,
      "metadata": {
        "colab": {
          "base_uri": "https://localhost:8080/"
        },
        "id": "3xIh-wJQQMgB",
        "outputId": "fe50b4eb-2f5e-4cbd-da76-bc5d75e48659"
      },
      "outputs": [
        {
          "data": {
            "text/plain": [
              "['__and__',\n",
              " '__class__',\n",
              " '__class_getitem__',\n",
              " '__contains__',\n",
              " '__delattr__',\n",
              " '__dir__',\n",
              " '__doc__',\n",
              " '__eq__',\n",
              " '__format__',\n",
              " '__ge__',\n",
              " '__getattribute__',\n",
              " '__getstate__',\n",
              " '__gt__',\n",
              " '__hash__',\n",
              " '__iand__',\n",
              " '__init__',\n",
              " '__init_subclass__',\n",
              " '__ior__',\n",
              " '__isub__',\n",
              " '__iter__',\n",
              " '__ixor__',\n",
              " '__le__',\n",
              " '__len__',\n",
              " '__lt__',\n",
              " '__ne__',\n",
              " '__new__',\n",
              " '__or__',\n",
              " '__rand__',\n",
              " '__reduce__',\n",
              " '__reduce_ex__',\n",
              " '__repr__',\n",
              " '__ror__',\n",
              " '__rsub__',\n",
              " '__rxor__',\n",
              " '__setattr__',\n",
              " '__sizeof__',\n",
              " '__str__',\n",
              " '__sub__',\n",
              " '__subclasshook__',\n",
              " '__xor__',\n",
              " 'add',\n",
              " 'clear',\n",
              " 'copy',\n",
              " 'difference',\n",
              " 'difference_update',\n",
              " 'discard',\n",
              " 'intersection',\n",
              " 'intersection_update',\n",
              " 'isdisjoint',\n",
              " 'issubset',\n",
              " 'issuperset',\n",
              " 'pop',\n",
              " 'remove',\n",
              " 'symmetric_difference',\n",
              " 'symmetric_difference_update',\n",
              " 'union',\n",
              " 'update']"
            ]
          },
          "execution_count": 20,
          "metadata": {},
          "output_type": "execute_result"
        }
      ],
      "source": [
        "dir(set)"
      ]
    },
    {
      "cell_type": "code",
      "execution_count": null,
      "metadata": {
        "colab": {
          "base_uri": "https://localhost:8080/"
        },
        "id": "h4Nj6buxSSAr",
        "outputId": "01b08b8d-0a99-459f-9249-1f80c35b9d3e"
      },
      "outputs": [
        {
          "data": {
            "text/plain": [
              "['__add__',\n",
              " '__class__',\n",
              " '__class_getitem__',\n",
              " '__contains__',\n",
              " '__delattr__',\n",
              " '__delitem__',\n",
              " '__dir__',\n",
              " '__doc__',\n",
              " '__eq__',\n",
              " '__format__',\n",
              " '__ge__',\n",
              " '__getattribute__',\n",
              " '__getitem__',\n",
              " '__getstate__',\n",
              " '__gt__',\n",
              " '__hash__',\n",
              " '__iadd__',\n",
              " '__imul__',\n",
              " '__init__',\n",
              " '__init_subclass__',\n",
              " '__iter__',\n",
              " '__le__',\n",
              " '__len__',\n",
              " '__lt__',\n",
              " '__mul__',\n",
              " '__ne__',\n",
              " '__new__',\n",
              " '__reduce__',\n",
              " '__reduce_ex__',\n",
              " '__repr__',\n",
              " '__reversed__',\n",
              " '__rmul__',\n",
              " '__setattr__',\n",
              " '__setitem__',\n",
              " '__sizeof__',\n",
              " '__str__',\n",
              " '__subclasshook__',\n",
              " 'append',\n",
              " 'clear',\n",
              " 'copy',\n",
              " 'count',\n",
              " 'extend',\n",
              " 'index',\n",
              " 'insert',\n",
              " 'pop',\n",
              " 'remove',\n",
              " 'reverse',\n",
              " 'sort']"
            ]
          },
          "execution_count": 21,
          "metadata": {},
          "output_type": "execute_result"
        }
      ],
      "source": [
        "dir(list)"
      ]
    },
    {
      "cell_type": "code",
      "execution_count": null,
      "metadata": {
        "colab": {
          "base_uri": "https://localhost:8080/"
        },
        "id": "d8U9A_vESZ46",
        "outputId": "d11b63ae-d560-4086-9a3c-f32f65d344ba"
      },
      "outputs": [
        {
          "data": {
            "text/plain": [
              "['__class__',\n",
              " '__class_getitem__',\n",
              " '__contains__',\n",
              " '__delattr__',\n",
              " '__delitem__',\n",
              " '__dir__',\n",
              " '__doc__',\n",
              " '__eq__',\n",
              " '__format__',\n",
              " '__ge__',\n",
              " '__getattribute__',\n",
              " '__getitem__',\n",
              " '__getstate__',\n",
              " '__gt__',\n",
              " '__hash__',\n",
              " '__init__',\n",
              " '__init_subclass__',\n",
              " '__ior__',\n",
              " '__iter__',\n",
              " '__le__',\n",
              " '__len__',\n",
              " '__lt__',\n",
              " '__ne__',\n",
              " '__new__',\n",
              " '__or__',\n",
              " '__reduce__',\n",
              " '__reduce_ex__',\n",
              " '__repr__',\n",
              " '__reversed__',\n",
              " '__ror__',\n",
              " '__setattr__',\n",
              " '__setitem__',\n",
              " '__sizeof__',\n",
              " '__str__',\n",
              " '__subclasshook__',\n",
              " 'clear',\n",
              " 'copy',\n",
              " 'fromkeys',\n",
              " 'get',\n",
              " 'items',\n",
              " 'keys',\n",
              " 'pop',\n",
              " 'popitem',\n",
              " 'setdefault',\n",
              " 'update',\n",
              " 'values']"
            ]
          },
          "execution_count": 23,
          "metadata": {},
          "output_type": "execute_result"
        }
      ],
      "source": [
        "dir(dict)"
      ]
    },
    {
      "cell_type": "code",
      "execution_count": null,
      "metadata": {
        "colab": {
          "base_uri": "https://localhost:8080/"
        },
        "id": "UJM4ajgVScH3",
        "outputId": "a8f3fc15-2fc7-4153-d119-16ff3539f1c1"
      },
      "outputs": [
        {
          "data": {
            "text/plain": [
              "[1, 2, 3]"
            ]
          },
          "execution_count": 26,
          "metadata": {},
          "output_type": "execute_result"
        }
      ],
      "source": [
        "x=[1,2,3]\n",
        "y=x\n",
        "z=x.copy()\n",
        "z"
      ]
    },
    {
      "cell_type": "code",
      "execution_count": null,
      "metadata": {
        "colab": {
          "base_uri": "https://localhost:8080/"
        },
        "id": "jUx_XYejZ081",
        "outputId": "1f022a36-9a75-4a12-a235-7d236cbed031"
      },
      "outputs": [
        {
          "name": "stdout",
          "output_type": "stream",
          "text": [
            "False\n",
            "True\n",
            "True\n",
            "False\n",
            "True\n",
            "True\n",
            "True\n",
            "False\n",
            "True\n"
          ]
        }
      ],
      "source": [
        "list=[0, 1, 2, None, 4, \"a\", \"b\", False, True]\n",
        "\n",
        "for x in list:\n",
        "  print(bool(x))"
      ]
    },
    {
      "cell_type": "code",
      "execution_count": null,
      "metadata": {
        "colab": {
          "base_uri": "https://localhost:8080/"
        },
        "id": "0u8DTmichRFP",
        "outputId": "70296076-55b2-47f4-92b8-993afa5c698b"
      },
      "outputs": [
        {
          "data": {
            "text/plain": [
              "[1, 2, 4, 'a', 'b', True]"
            ]
          },
          "execution_count": 29,
          "metadata": {},
          "output_type": "execute_result"
        }
      ],
      "source": [
        "def p2(sequence):\n",
        "    return [item for item in sequence if item]\n",
        "\n",
        "p2([0, 1, 2, None, 4, \"a\", \"b\", False, True])"
      ]
    },
    {
      "cell_type": "code",
      "execution_count": null,
      "metadata": {
        "id": "G5Cd-xqGjqjP"
      },
      "outputs": [],
      "source": [
        "def p2(seq):\n",
        "    true_list=[]\n",
        "    for x in seq:\n",
        "        if bool(x) is True:\n",
        "            true_list.append(x)\n",
        "\n",
        "p2([0, 1, 2, None, 4, \"a\", \"b\", False, True])"
      ]
    },
    {
      "cell_type": "code",
      "execution_count": null,
      "metadata": {
        "colab": {
          "base_uri": "https://localhost:8080/"
        },
        "id": "RGG0_VmPiumV",
        "outputId": "94b155a0-da25-4858-b755-cd8467f96028"
      },
      "outputs": [
        {
          "data": {
            "text/plain": [
              "[0, False]"
            ]
          },
          "execution_count": 31,
          "metadata": {},
          "output_type": "execute_result"
        }
      ],
      "source": [
        "def p3(sequence):\n",
        "    result = []\n",
        "    for item in sequence:\n",
        "        if item is not None and not item:  # Check if the item is falsy but not None\n",
        "            result.append(item)\n",
        "    return result\n",
        "\n",
        "\n",
        "p3([0, 1, 2, None, 4, \"a\", \"b\", False, True])"
      ]
    },
    {
      "cell_type": "code",
      "execution_count": null,
      "metadata": {
        "colab": {
          "base_uri": "https://localhost:8080/"
        },
        "id": "BZv1QvAXm1hs",
        "outputId": "a133ec4e-4f49-4074-d778-f03732d3474d"
      },
      "outputs": [
        {
          "name": "stdout",
          "output_type": "stream",
          "text": [
            "0\n",
            "1\n",
            "2\n",
            "3\n",
            "4\n",
            "5\n"
          ]
        }
      ],
      "source": [
        "N=11\n",
        "for i in range(N):\n",
        "  if i > 5:\n",
        "    break\n",
        "  print(i)"
      ]
    },
    {
      "cell_type": "code",
      "execution_count": null,
      "metadata": {
        "colab": {
          "base_uri": "https://localhost:8080/"
        },
        "id": "5okJRdGWtRX9",
        "outputId": "c7e9c561-2d1f-4627-96dc-a097939b4245"
      },
      "outputs": [
        {
          "data": {
            "text/plain": [
              "7"
            ]
          },
          "execution_count": 38,
          "metadata": {},
          "output_type": "execute_result"
        }
      ],
      "source": [
        "def my_add(x, y):\n",
        "           return x+y\n",
        "f = my_add\n",
        "x = f(3, 4)\n",
        "z = f(5, 2)\n",
        "\n",
        "x\n"
      ]
    },
    {
      "cell_type": "code",
      "execution_count": null,
      "metadata": {
        "colab": {
          "base_uri": "https://localhost:8080/"
        },
        "id": "5yMNP5k1vy3_",
        "outputId": "b5dee321-1093-4528-bfff-819a81311d00"
      },
      "outputs": [
        {
          "name": "stdout",
          "output_type": "stream",
          "text": [
            "0\n",
            "1\n",
            "2\n",
            "3\n",
            "4\n",
            "5\n",
            "6\n",
            "7\n",
            "8\n",
            "9\n",
            "10\n",
            "11\n",
            "12\n",
            "13\n",
            "14\n",
            "15\n",
            "16\n",
            "17\n",
            "18\n",
            "19\n"
          ]
        }
      ],
      "source": [
        "for i in range(20):\n",
        "  print(i)"
      ]
    },
    {
      "cell_type": "code",
      "execution_count": null,
      "metadata": {
        "colab": {
          "base_uri": "https://localhost:8080/"
        },
        "id": "pSxzQ6zSNy_B",
        "outputId": "cd60bda5-3316-40a7-dc35-125c0db47680"
      },
      "outputs": [
        {
          "name": "stdout",
          "output_type": "stream",
          "text": [
            "1\n",
            "4\n",
            "9\n",
            "16\n",
            "25\n"
          ]
        },
        {
          "data": {
            "text/plain": [
              "int"
            ]
          },
          "execution_count": 5,
          "metadata": {},
          "output_type": "execute_result"
        }
      ],
      "source": [
        "L=[1,2,3,4,5]\n",
        "for i in L:\n",
        "  n=i**2\n",
        "  print(n)\n",
        "\n",
        "type(n)"
      ]
    },
    {
      "cell_type": "code",
      "execution_count": null,
      "metadata": {
        "colab": {
          "base_uri": "https://localhost:8080/"
        },
        "id": "qsRFpopqN37O",
        "outputId": "e886a154-0fd5-49cf-af56-5ad08133adec"
      },
      "outputs": [
        {
          "data": {
            "text/plain": [
              "[1, -2, -4, 5, 7, -8, -10, 11, 13, -14, -16, 17, 19]"
            ]
          },
          "execution_count": 8,
          "metadata": {},
          "output_type": "execute_result"
        }
      ],
      "source": [
        "newlist=[i if i % 2 else -i for i in range(20) if i % 3]\n",
        "newlist"
      ]
    },
    {
      "cell_type": "code",
      "execution_count": null,
      "metadata": {
        "colab": {
          "base_uri": "https://localhost:8080/"
        },
        "id": "MG6Fhz2GPJDx",
        "outputId": "9272b625-1f9c-4c86-da5e-63838c69d126"
      },
      "outputs": [
        {
          "data": {
            "text/plain": [
              "{(1, 0),\n",
              " (1, 1),\n",
              " (1, 2),\n",
              " (1, 3),\n",
              " (1, 4),\n",
              " (1, 5),\n",
              " (1, 6),\n",
              " (1, 7),\n",
              " (1, 8),\n",
              " (1, 9),\n",
              " (5, 0),\n",
              " (5, 1),\n",
              " (5, 2),\n",
              " (5, 3),\n",
              " (5, 4),\n",
              " (5, 5),\n",
              " (5, 6),\n",
              " (5, 7),\n",
              " (5, 8),\n",
              " (5, 9),\n",
              " (7, 0),\n",
              " (7, 1),\n",
              " (7, 2),\n",
              " (7, 3),\n",
              " (7, 4),\n",
              " (7, 5),\n",
              " (7, 6),\n",
              " (7, 7),\n",
              " (7, 8),\n",
              " (7, 9)}"
            ]
          },
          "execution_count": 10,
          "metadata": {},
          "output_type": "execute_result"
        }
      ],
      "source": [
        "set={(i,j) for i in range (10) if i % 2 for j in range (10) if i % 3}\n",
        "set"
      ]
    },
    {
      "cell_type": "code",
      "execution_count": null,
      "metadata": {
        "colab": {
          "base_uri": "https://localhost:8080/"
        },
        "id": "rjG3zQHWQrTo",
        "outputId": "1b6a5425-32d1-4476-bee1-cb8061950172"
      },
      "outputs": [
        {
          "data": {
            "text/plain": [
              "False"
            ]
          },
          "execution_count": 11,
          "metadata": {},
          "output_type": "execute_result"
        }
      ],
      "source": [
        "True and True # True\n",
        "True and False #False\n",
        "False and False #False\n",
        "False and True #False"
      ]
    },
    {
      "cell_type": "code",
      "execution_count": null,
      "metadata": {
        "colab": {
          "base_uri": "https://localhost:8080/"
        },
        "id": "RSY1pEXxbmhj",
        "outputId": "1db80a06-700c-46bb-c62c-fb8bb489fd11"
      },
      "outputs": [
        {
          "data": {
            "text/plain": [
              "4"
            ]
          },
          "execution_count": 12,
          "metadata": {},
          "output_type": "execute_result"
        }
      ],
      "source": [
        "3 and 4"
      ]
    },
    {
      "cell_type": "code",
      "execution_count": null,
      "metadata": {
        "colab": {
          "base_uri": "https://localhost:8080/"
        },
        "id": "KXsJrm5BcVkY",
        "outputId": "3736cbd2-dfcd-4e3e-d1d4-3551b7e76d83"
      },
      "outputs": [
        {
          "data": {
            "text/plain": [
              "0"
            ]
          },
          "execution_count": 13,
          "metadata": {},
          "output_type": "execute_result"
        }
      ],
      "source": [
        "0 and 2"
      ]
    },
    {
      "cell_type": "code",
      "execution_count": null,
      "metadata": {
        "colab": {
          "base_uri": "https://localhost:8080/"
        },
        "id": "eXbKdel9cWZy",
        "outputId": "3ae5a2ac-0631-48ac-d9b2-d4ac4074c83f"
      },
      "outputs": [
        {
          "data": {
            "text/plain": [
              "{}"
            ]
          },
          "execution_count": 14,
          "metadata": {},
          "output_type": "execute_result"
        }
      ],
      "source": [
        "{} and 3"
      ]
    },
    {
      "cell_type": "code",
      "execution_count": null,
      "metadata": {
        "colab": {
          "base_uri": "https://localhost:8080/",
          "height": 141
        },
        "id": "piUO189bcXav",
        "outputId": "6ea14a05-90ca-46d2-86a8-c8bd51f62451"
      },
      "outputs": [
        {
          "ename": "NameError",
          "evalue": "name 'first_choice' is not defined",
          "output_type": "error",
          "traceback": [
            "\u001b[0;31m---------------------------------------------------------------------------\u001b[0m",
            "\u001b[0;31mNameError\u001b[0m                                 Traceback (most recent call last)",
            "\u001b[0;32m<ipython-input-15-6a39c78a0aff>\u001b[0m in \u001b[0;36m<cell line: 0>\u001b[0;34m()\u001b[0m\n\u001b[0;32m----> 1\u001b[0;31m \u001b[0mchoice\u001b[0m\u001b[0;34m=\u001b[0m\u001b[0mfirst_choice\u001b[0m \u001b[0;32mor\u001b[0m \u001b[0msecond_choice\u001b[0m\u001b[0;34m\u001b[0m\u001b[0;34m\u001b[0m\u001b[0m\n\u001b[0m",
            "\u001b[0;31mNameError\u001b[0m: name 'first_choice' is not defined"
          ]
        }
      ],
      "source": [
        "choice=first_choice or second_choice"
      ]
    },
    {
      "cell_type": "code",
      "execution_count": null,
      "metadata": {
        "colab": {
          "base_uri": "https://localhost:8080/"
        },
        "id": "L9bsj-VPc0tS",
        "outputId": "15bbc97d-2c97-43d1-fb66-a8e7ec7a1b2b"
      },
      "outputs": [
        {
          "data": {
            "text/plain": [
              "[0, 1, 2, 3, 4]"
            ]
          },
          "execution_count": 16,
          "metadata": {},
          "output_type": "execute_result"
        }
      ],
      "source": [
        "[x for x in range(5)]"
      ]
    },
    {
      "cell_type": "code",
      "execution_count": null,
      "metadata": {
        "colab": {
          "base_uri": "https://localhost:8080/"
        },
        "id": "DalmTkBbf6mV",
        "outputId": "6e8f275e-c944-4863-c44e-7b450e909ba0"
      },
      "outputs": [
        {
          "name": "stdout",
          "output_type": "stream",
          "text": [
            "0.9129452507276277\n",
            "0.9129452507276277\n"
          ]
        }
      ],
      "source": [
        "import math\n",
        "f=math.sin\n",
        "print(f(20))\n",
        "print(math.sin(20))\n"
      ]
    },
    {
      "cell_type": "code",
      "execution_count": null,
      "metadata": {
        "id": "x0QnDtrdlgHn"
      },
      "outputs": [],
      "source": [
        "f= lambda x: x+1 #lambda is used to make a new anonymous function; after lambda, there are one or more variable names and those variable names are the input to the new function; after the colon, there is an expression that is returned from the anonymous function; DO NOT USE RETURN WITH LAMBDA; these lambdas are used for brief functions that don't need to have a persistent name. Like other functions, lambda functions can access the variables around them when they are defined."
      ]
    },
    {
      "cell_type": "code",
      "execution_count": null,
      "metadata": {
        "id": "pjYK1Phjpxwe"
      },
      "outputs": [],
      "source": [
        "def make_linear_function(m, b): #the outside function, makelinearfunction, takes in two paramteres, m and b, and it returns the function that implements the linear function y=mx +b.\n",
        "  return lambda x: m*x+b"
      ]
    },
    {
      "cell_type": "code",
      "execution_count": null,
      "metadata": {
        "id": "-ImXopw6p433"
      },
      "outputs": [],
      "source": [
        "f=make_linear_function(3,2)"
      ]
    },
    {
      "cell_type": "code",
      "execution_count": null,
      "metadata": {
        "colab": {
          "base_uri": "https://localhost:8080/"
        },
        "id": "JhpZdidjqEbB",
        "outputId": "10bd0072-fb6c-4c97-82a5-d92d56b3a2c9"
      },
      "outputs": [
        {
          "data": {
            "text/plain": [
              "<function __main__.make_linear_function.<locals>.<lambda>(x)>"
            ]
          },
          "execution_count": 6,
          "metadata": {},
          "output_type": "execute_result"
        }
      ],
      "source": [
        "f"
      ]
    },
    {
      "cell_type": "code",
      "execution_count": null,
      "metadata": {
        "id": "KhvDUBQ5qF0j"
      },
      "outputs": [],
      "source": [
        "f2=make_linear_function(4, 3)"
      ]
    },
    {
      "cell_type": "code",
      "execution_count": null,
      "metadata": {
        "colab": {
          "base_uri": "https://localhost:8080/"
        },
        "id": "HjqF0IbfqRBp",
        "outputId": "a9339478-108f-4d6d-d1a5-461cd90106bd"
      },
      "outputs": [
        {
          "data": {
            "text/plain": [
              "<function __main__.make_linear_function.<locals>.<lambda>(x)>"
            ]
          },
          "execution_count": 8,
          "metadata": {},
          "output_type": "execute_result"
        }
      ],
      "source": [
        "f2"
      ]
    },
    {
      "cell_type": "code",
      "execution_count": null,
      "metadata": {
        "colab": {
          "base_uri": "https://localhost:8080/"
        },
        "id": "PmGeZP7AqSLE",
        "outputId": "3c7d9178-e196-4fda-d1ab-9b87543affdc"
      },
      "outputs": [
        {
          "data": {
            "text/plain": [
              "3"
            ]
          },
          "execution_count": 9,
          "metadata": {},
          "output_type": "execute_result"
        }
      ],
      "source": [
        "f2(0)"
      ]
    },
    {
      "cell_type": "code",
      "execution_count": null,
      "metadata": {
        "colab": {
          "base_uri": "https://localhost:8080/"
        },
        "id": "CuiW-lCfqVTI",
        "outputId": "507b1a6f-b1e0-40cb-dda5-e7d909035037"
      },
      "outputs": [
        {
          "data": {
            "text/plain": [
              "2"
            ]
          },
          "execution_count": 10,
          "metadata": {},
          "output_type": "execute_result"
        }
      ],
      "source": [
        "f(0)"
      ]
    },
    {
      "cell_type": "code",
      "execution_count": null,
      "metadata": {
        "colab": {
          "base_uri": "https://localhost:8080/"
        },
        "id": "Fbpk9SwlqXla",
        "outputId": "da853101-e2c1-4822-db4e-60006f7c1fa4"
      },
      "outputs": [
        {
          "data": {
            "text/plain": [
              "[{'a': 2}, {'a': 3}, {'a': 4}]"
            ]
          },
          "execution_count": 12,
          "metadata": {},
          "output_type": "execute_result"
        }
      ],
      "source": [
        "my_data = [{'a': 3}, {'a': 4}, {'a':2}]\n",
        "\n",
        "my_data.sort(key = lambda r:r['a'])\n",
        "\n",
        "my_data"
      ]
    },
    {
      "cell_type": "code",
      "execution_count": null,
      "metadata": {
        "colab": {
          "base_uri": "https://localhost:8080/"
        },
        "id": "3KHlLbGzrbrm",
        "outputId": "a00e758c-d68d-4673-be19-e24c655890f6"
      },
      "outputs": [
        {
          "data": {
            "text/plain": [
              "[{'a': 4}, {'a': 3}, {'a': 2}]"
            ]
          },
          "execution_count": 15,
          "metadata": {},
          "output_type": "execute_result"
        }
      ],
      "source": [
        "my_data.sort(key=lambda r:r['a'], reverse=True)\n",
        "my_data"
      ]
    },
    {
      "cell_type": "code",
      "execution_count": null,
      "metadata": {
        "id": "3sUoGLiusJtN"
      },
      "outputs": [],
      "source": [
        "def my_key_func(r):\n",
        "  return r[\"a\"]\n"
      ]
    },
    {
      "cell_type": "code",
      "execution_count": null,
      "metadata": {
        "colab": {
          "base_uri": "https://localhost:8080/"
        },
        "id": "vu7uNjL3sbc_",
        "outputId": "00f48a40-c55d-4207-bc26-f67682a68d47"
      },
      "outputs": [
        {
          "data": {
            "text/plain": [
              "[{'a': 4}, {'a': 3}, {'a': 2}]"
            ]
          },
          "execution_count": 18,
          "metadata": {},
          "output_type": "execute_result"
        }
      ],
      "source": [
        "my_data.sort(key=my_key_func, reverse=True)\n",
        "my_data"
      ]
    },
    {
      "cell_type": "code",
      "execution_count": null,
      "metadata": {
        "colab": {
          "base_uri": "https://localhost:8080/"
        },
        "id": "FOaLA82Nseoq",
        "outputId": "3ac661da-96a5-4538-c8d2-4560aabb74fc"
      },
      "outputs": [
        {
          "data": {
            "text/plain": [
              "[{'a': 2}, {'a': 3}, {'a': 4}]"
            ]
          },
          "execution_count": 19,
          "metadata": {},
          "output_type": "execute_result"
        }
      ],
      "source": [
        "sorted(my_data, key=lambda r:r['a'])"
      ]
    },
    {
      "cell_type": "code",
      "execution_count": null,
      "metadata": {
        "colab": {
          "base_uri": "https://localhost:8080/"
        },
        "id": "l1yhNiQjs0kC",
        "outputId": "7b4428dd-93e1-479f-f043-d7b9c5be5a3f"
      },
      "outputs": [
        {
          "data": {
            "text/plain": [
              "{'a': 2}"
            ]
          },
          "execution_count": 20,
          "metadata": {},
          "output_type": "execute_result"
        }
      ],
      "source": [
        "min(my_data, key=lambda r: r['a'])"
      ]
    },
    {
      "cell_type": "code",
      "execution_count": null,
      "metadata": {
        "colab": {
          "base_uri": "https://localhost:8080/"
        },
        "id": "Gd1xdcrXtWMI",
        "outputId": "48f117cb-5551-4393-aa5c-269faed06341"
      },
      "outputs": [
        {
          "data": {
            "text/plain": [
              "{'a': 4}"
            ]
          },
          "execution_count": 21,
          "metadata": {},
          "output_type": "execute_result"
        }
      ],
      "source": [
        "max(my_data, key=lambda r: r['a'])"
      ]
    },
    {
      "cell_type": "code",
      "execution_count": null,
      "metadata": {
        "id": "IrD12UNt6W5g"
      },
      "outputs": [],
      "source": []
    },
    {
      "cell_type": "code",
      "execution_count": null,
      "metadata": {
        "colab": {
          "base_uri": "https://localhost:8080/"
        },
        "id": "f8C7Ok3vtdeU",
        "outputId": "8e502dc0-5298-4356-9da5-037c9c32c228"
      },
      "outputs": [
        {
          "data": {
            "text/plain": [
              "[0, 1, 2, 3, 4]"
            ]
          },
          "execution_count": 22,
          "metadata": {},
          "output_type": "execute_result"
        }
      ],
      "source": [
        "[x for x in range(5)]"
      ]
    },
    {
      "cell_type": "code",
      "execution_count": null,
      "metadata": {
        "colab": {
          "base_uri": "https://localhost:8080/"
        },
        "id": "K96SToL9xJMm",
        "outputId": "c247a2ec-1ca1-4a0b-ad7b-bb289e0d0964"
      },
      "outputs": [
        {
          "name": "stdout",
          "output_type": "stream",
          "text": [
            "2\n",
            "3\n",
            "4\n"
          ]
        }
      ],
      "source": [
        "d=[{'a': 2}, {'a': 3}, {'a': 4}]\n",
        "for dict in d:\n",
        "  if \"a\" in dict:\n",
        "    print (dict[\"a\"])\n",
        "\n"
      ]
    },
    {
      "cell_type": "code",
      "execution_count": null,
      "metadata": {
        "colab": {
          "base_uri": "https://localhost:8080/"
        },
        "id": "Ax9fK00Z3b0B",
        "outputId": "ba2d6acd-e326-47df-a514-980cf2cb1580"
      },
      "outputs": [
        {
          "data": {
            "text/plain": [
              "{1, 2, 3}"
            ]
          },
          "execution_count": 31,
          "metadata": {},
          "output_type": "execute_result"
        }
      ],
      "source": [
        "set([1,2,3])"
      ]
    },
    {
      "cell_type": "code",
      "execution_count": null,
      "metadata": {
        "colab": {
          "base_uri": "https://localhost:8080/"
        },
        "id": "2tESMmWS56pm",
        "outputId": "e8cad0cd-a964-4926-facb-822902816616"
      },
      "outputs": [
        {
          "data": {
            "text/plain": [
              "False"
            ]
          },
          "execution_count": 36,
          "metadata": {},
          "output_type": "execute_result"
        }
      ],
      "source": [
        "bool({})"
      ]
    },
    {
      "cell_type": "code",
      "execution_count": null,
      "metadata": {
        "colab": {
          "base_uri": "https://localhost:8080/"
        },
        "id": "1kUwi42GEAjU",
        "outputId": "2e38109a-12b4-4dbb-84ac-b8ed6721934b"
      },
      "outputs": [
        {
          "name": "stdout",
          "output_type": "stream",
          "text": [
            "True\n",
            "True\n",
            "True\n",
            "True\n"
          ]
        }
      ],
      "source": [
        "data=[\n",
        "    {\"name\": \"Alice\", \"age\": 25, \"city\": \"New York\"},\n",
        "    {\"name\": \"Bob\", \"age\": None, \"city\": \"Los Angeles\"},\n",
        "    {\"name\": \"Charlie\", \"age\": 30, \"city\": \"\"},\n",
        "    {\"name\": \"David\", \"age\": 35, \"city\": \"Chicago\"}\n",
        "]\n",
        "\n",
        "for d in data:\n",
        "  print (bool(\"name\" in d))\n"
      ]
    },
    {
      "cell_type": "code",
      "execution_count": null,
      "metadata": {
        "colab": {
          "base_uri": "https://localhost:8080/"
        },
        "id": "8ZyTXNNxFNkh",
        "outputId": "fd69fa07-6adf-4c77-8a3d-6817d0f8cb6e"
      },
      "outputs": [
        {
          "data": {
            "text/plain": [
              "1"
            ]
          },
          "execution_count": 50,
          "metadata": {},
          "output_type": "execute_result"
        }
      ],
      "source": [
        "def f(x):\n",
        "    x = x * 3\n",
        "    return x\n",
        "\n",
        "def g(y):\n",
        "    f(y)\n",
        "    return y\n",
        "\n",
        "\n",
        "x=4\n",
        "f(x)\n",
        "g(x)\n",
        "print(x)\n",
        "\n"
      ]
    },
    {
      "cell_type": "code",
      "execution_count": null,
      "metadata": {
        "colab": {
          "base_uri": "https://localhost:8080/"
        },
        "id": "rlm-859EGrae",
        "outputId": "5e01c7af-0ab8-47c2-80ca-d69dbb1c7b28"
      },
      "outputs": [
        {
          "data": {
            "text/plain": [
              "5"
            ]
          },
          "execution_count": 3,
          "metadata": {},
          "output_type": "execute_result"
        }
      ],
      "source": [
        "def f(x):\n",
        "    def g(y):\n",
        "        def h(x):\n",
        "            return x + y\n",
        "\n",
        "        return h(x)\n",
        "\n",
        "    x = g(2)\n",
        "    return g(3)\n",
        "\n",
        "print(f(5))"
      ]
    },
    {
      "cell_type": "code",
      "execution_count": null,
      "metadata": {
        "colab": {
          "base_uri": "https://localhost:8080/"
        },
        "id": "XX7FL5jmFFgK",
        "outputId": "50df8846-a323-467f-df14-db83570d6ae7"
      },
      "outputs": [
        {
          "name": "stdout",
          "output_type": "stream",
          "text": [
            "a b\n"
          ]
        }
      ],
      "source": [
        "print (\"a\" , \"b\")"
      ]
    },
    {
      "cell_type": "code",
      "execution_count": null,
      "metadata": {
        "colab": {
          "base_uri": "https://localhost:8080/"
        },
        "id": "BzXAWAH_FWhR",
        "outputId": "d8f4a455-f133-4781-bd38-cbcf4cdaa0c4"
      },
      "outputs": [
        {
          "name": "stdout",
          "output_type": "stream",
          "text": [
            "1\n",
            "2\n",
            "3\n"
          ]
        }
      ],
      "source": [
        "if True:\n",
        "  print(1)\n",
        "if 1 == 1:\n",
        "  print(2)\n",
        "  print(3)"
      ]
    },
    {
      "cell_type": "code",
      "execution_count": null,
      "metadata": {
        "colab": {
          "base_uri": "https://localhost:8080/"
        },
        "id": "rQ3zpOsQNzpz",
        "outputId": "58e75da0-ec91-4427-a441-28ca06179aeb"
      },
      "outputs": [
        {
          "data": {
            "text/plain": [
              "3"
            ]
          },
          "execution_count": 6,
          "metadata": {},
          "output_type": "execute_result"
        }
      ],
      "source": [
        "list=[1,2,3]\n",
        "len(list)"
      ]
    },
    {
      "cell_type": "code",
      "execution_count": null,
      "metadata": {
        "colab": {
          "base_uri": "https://localhost:8080/"
        },
        "id": "xPPOLBkQVade",
        "outputId": "faa939bf-b59b-4fde-cae0-67c3794ee498"
      },
      "outputs": [
        {
          "name": "stdout",
          "output_type": "stream",
          "text": [
            "this worked\n"
          ]
        }
      ],
      "source": [
        "def func(x):\n",
        "  if bool(x) is False and x < 1:\n",
        "    print (\"this worked\")\n",
        "\n",
        "func(0)"
      ]
    },
    {
      "cell_type": "code",
      "execution_count": null,
      "metadata": {
        "colab": {
          "base_uri": "https://localhost:8080/"
        },
        "id": "L0dIIXOyXkoP",
        "outputId": "edd076ec-8d7b-4b46-fde8-c1e00e9d2ea8"
      },
      "outputs": [
        {
          "name": "stdout",
          "output_type": "stream",
          "text": [
            "1\n",
            "2\n",
            "3\n"
          ]
        }
      ],
      "source": [
        "x = 7\n",
        "y = 4\n",
        "for z in range(y):\n",
        "    if z:\n",
        "        x = x * z\n"
      ]
    },
    {
      "cell_type": "code",
      "execution_count": null,
      "metadata": {
        "id": "mJAoxSm9bqrb"
      },
      "outputs": [],
      "source": [
        "def my_func(x):\n",
        "  return sum(range(x*x*x))\n"
      ]
    },
    {
      "cell_type": "code",
      "execution_count": null,
      "metadata": {
        "colab": {
          "base_uri": "https://localhost:8080/"
        },
        "id": "lL_GKUfpcKqu",
        "outputId": "673a650d-37d2-4c0e-8d92-9e1a370decdd"
      },
      "outputs": [
        {
          "data": {
            "text/plain": [
              "351"
            ]
          },
          "execution_count": 23,
          "metadata": {},
          "output_type": "execute_result"
        }
      ],
      "source": [
        "def memoize(f):\n",
        "  #save the original function\n",
        "  old_f=f\n",
        "\n",
        "  old_outputs = {}\n",
        "  def new_f(x):\n",
        "    if x in old_outputs:\n",
        "      return old_outputs[x]\n",
        "\n",
        "    output = old_f(x)\n",
        "    #save output in case x repeated\n",
        "    old_outputs[x]=output\n",
        "\n",
        "    return output\n",
        "  return new_f\n",
        "\n",
        "\n",
        "faster_f=memoize(my_func)\n",
        "\n",
        "\n",
        "faster_f(3)"
      ]
    },
    {
      "cell_type": "code",
      "execution_count": null,
      "metadata": {
        "id": "K6eWYPvZcrXs"
      },
      "outputs": [],
      "source": [
        "@memoize\n",
        "def fibonnaci(n):\n",
        "  if n < 2:\n",
        "    return n\n",
        "  return fibonnaci(n-2) + fibonnaci(n-1)"
      ]
    },
    {
      "cell_type": "code",
      "execution_count": null,
      "metadata": {
        "colab": {
          "base_uri": "https://localhost:8080/"
        },
        "id": "TzxCPhgxez5W",
        "outputId": "243d5336-5ac5-4c88-d865-b3213095cbbf"
      },
      "outputs": [
        {
          "name": "stdout",
          "output_type": "stream",
          "text": [
            "10\n"
          ]
        }
      ],
      "source": [
        "def f(x):\n",
        "    def g(y):\n",
        "        def h(x):\n",
        "            return x + y\n",
        "\n",
        "        return h(x)\n",
        "\n",
        "    x = g(2)\n",
        "    return g(3)\n",
        "\n",
        "print(f(5))"
      ]
    },
    {
      "cell_type": "code",
      "execution_count": null,
      "metadata": {
        "colab": {
          "base_uri": "https://localhost:8080/"
        },
        "id": "Ni5IDmWCe0fd",
        "outputId": "37b965f3-487d-4898-b54a-ce7171638e72"
      },
      "outputs": [
        {
          "name": "stdout",
          "output_type": "stream",
          "text": [
            "None\n"
          ]
        }
      ],
      "source": [
        "a_totally_outside_variable = 3\n",
        "\n",
        "def outside_function(x):\n",
        "   y = x + 1\n",
        "\n",
        "   def inside_function(z):\n",
        "       x = z / 2\n",
        "       return x\n",
        "\n",
        "   def another_inside_function(z):\n",
        "       return x\n",
        "\n",
        "\n",
        "print(outside_function(3))"
      ]
    },
    {
      "cell_type": "code",
      "execution_count": null,
      "metadata": {
        "colab": {
          "base_uri": "https://localhost:8080/"
        },
        "id": "6t0lpGrdfNLM",
        "outputId": "6373d8e6-fc98-409c-b70c-cfc4fb1fa266"
      },
      "outputs": [
        {
          "name": "stdout",
          "output_type": "stream",
          "text": [
            "42\n"
          ]
        }
      ],
      "source": [
        "x = 7\n",
        "y = 4\n",
        "for z in range(1,4): #\n",
        "    x = x * z\n",
        "\n",
        "print(x)"
      ]
    },
    {
      "cell_type": "code",
      "execution_count": null,
      "metadata": {
        "colab": {
          "base_uri": "https://localhost:8080/"
        },
        "id": "DiJ7lyWrj28a",
        "outputId": "c0cbf7da-7569-458f-da3a-5ce63af29831"
      },
      "outputs": [
        {
          "name": "stdout",
          "output_type": "stream",
          "text": [
            "0\n",
            "1\n",
            "2\n",
            "3\n",
            "4\n",
            "5\n",
            "6\n",
            "7\n",
            "8\n",
            "9\n"
          ]
        }
      ],
      "source": [
        "data={0: 0, 1: 1, 2: 4, 3: 9, 4: 16, 5: 25, 6: 36, 7: 49, 8: 64, 9: 81}\n",
        "for x in data:\n",
        "  print(x)"
      ]
    },
    {
      "cell_type": "code",
      "execution_count": null,
      "metadata": {
        "colab": {
          "base_uri": "https://localhost:8080/"
        },
        "id": "Q1MNX0bTFnha",
        "outputId": "e4223007-bf08-43ac-d8e0-76d7712106e2"
      },
      "outputs": [
        {
          "name": "stdout",
          "output_type": "stream",
          "text": [
            "10\n",
            "19\n"
          ]
        }
      ],
      "source": [
        "def add(a, b):\n",
        "  a_sum= a + b\n",
        "  return a_sum\n",
        "\n",
        "print(add(a=9, b=1))\n",
        "print(add(9,10))"
      ]
    },
    {
      "cell_type": "code",
      "execution_count": null,
      "metadata": {
        "colab": {
          "base_uri": "https://localhost:8080/"
        },
        "id": "Wckh6MVJHWiw",
        "outputId": "012de9ef-f2e8-4b6c-d37c-08d893b358be"
      },
      "outputs": [
        {
          "data": {
            "text/plain": [
              "10.0"
            ]
          },
          "execution_count": 5,
          "metadata": {},
          "output_type": "execute_result"
        }
      ],
      "source": [
        "def findsum(list):\n",
        "  sum=0\n",
        "  for element in list:\n",
        "    sum+=float(element)\n",
        "  return sum\n",
        "\n",
        "findsum([1,2,3,4])"
      ]
    },
    {
      "cell_type": "code",
      "execution_count": null,
      "metadata": {
        "colab": {
          "base_uri": "https://localhost:8080/",
          "height": 35
        },
        "id": "5bwqRYIbH3AA",
        "outputId": "433945ad-26f3-4eb6-f5e2-f6a597f9a96d"
      },
      "outputs": [
        {
          "data": {
            "application/vnd.google.colaboratory.intrinsic+json": {
              "type": "string"
            },
            "text/plain": [
              "'the chair costs $3.'"
            ]
          },
          "execution_count": 10,
          "metadata": {},
          "output_type": "execute_result"
        }
      ],
      "source": [
        "def price(item,cost):\n",
        "  return \"the \" + item + \" costs $\" + str(cost) + \".\"\n",
        "\n",
        "price('chair',3)"
      ]
    },
    {
      "cell_type": "code",
      "execution_count": null,
      "metadata": {
        "colab": {
          "base_uri": "https://localhost:8080/"
        },
        "id": "_EqvGeI7JwM-",
        "outputId": "93e36624-9ba0-4afb-afa6-42589eae6d46"
      },
      "outputs": [
        {
          "name": "stdout",
          "output_type": "stream",
          "text": [
            "the chair costs $3.\n"
          ]
        }
      ],
      "source": [
        "def price(item,cost):\n",
        "  print(\"the \" + item + \" costs $\" + str(cost) + \".\")\n",
        "\n",
        "price('chair',3)"
      ]
    },
    {
      "cell_type": "code",
      "execution_count": null,
      "metadata": {
        "colab": {
          "base_uri": "https://localhost:8080/",
          "height": 35
        },
        "id": "UjY9U5s8KRbu",
        "outputId": "1a2517f9-9cc6-471f-a467-f806c191e418"
      },
      "outputs": [
        {
          "data": {
            "application/vnd.google.colaboratory.intrinsic+json": {
              "type": "string"
            },
            "text/plain": [
              "'The population of India is 13,240,000'"
            ]
          },
          "execution_count": 22,
          "metadata": {},
          "output_type": "execute_result"
        }
      ],
      "source": [
        "country=\"India\"\n",
        "population=13240000\n",
        "india_pop=f\"The population of {country} is {population:,}\"\n",
        "\n",
        "india_pop\n"
      ]
    },
    {
      "cell_type": "code",
      "execution_count": null,
      "metadata": {
        "colab": {
          "base_uri": "https://localhost:8080/",
          "height": 35
        },
        "id": "QzrN5_w_LrK_",
        "outputId": "2060f8eb-cfa8-4834-ad94-75b27bb1764c"
      },
      "outputs": [
        {
          "data": {
            "application/vnd.google.colaboratory.intrinsic+json": {
              "type": "string"
            },
            "text/plain": [
              "'one  !'"
            ]
          },
          "execution_count": 25,
          "metadata": {},
          "output_type": "execute_result"
        }
      ],
      "source": [
        "func=\"one two!\".replace(\"two\", \" \")\n",
        "func"
      ]
    },
    {
      "cell_type": "code",
      "execution_count": null,
      "metadata": {
        "colab": {
          "base_uri": "https://localhost:8080/",
          "height": 35
        },
        "id": "8slYJxiQP5hG",
        "outputId": "5fc6ef9a-8ae8-459a-a0dc-93d400fd430c"
      },
      "outputs": [
        {
          "data": {
            "application/vnd.google.colaboratory.intrinsic+json": {
              "type": "string"
            },
            "text/plain": [
              "'Well, this, is, a practice, sentence! Who Wouldve! thought! In, it!'"
            ]
          },
          "execution_count": 32,
          "metadata": {},
          "output_type": "execute_result"
        }
      ],
      "source": [
        "chars=[\",\",\"!\"]\n",
        "string=\"Well, this, is, a practice, sentence! Who Wouldve! thought! In, it!\"\n",
        "for item in chars:\n",
        "  string=string.replace(\"item\", \"\")\n",
        "\n",
        "string\n",
        "\n"
      ]
    },
    {
      "cell_type": "code",
      "execution_count": null,
      "metadata": {
        "colab": {
          "base_uri": "https://localhost:8080/",
          "height": 35
        },
        "id": "IEb9JoGkQXNi",
        "outputId": "65bd1d06-fbb0-4648-8205-0abbbbc7da0f"
      },
      "outputs": [
        {
          "data": {
            "application/vnd.google.colaboratory.intrinsic+json": {
              "type": "string"
            },
            "text/plain": [
              "'Hello'"
            ]
          },
          "execution_count": 34,
          "metadata": {},
          "output_type": "execute_result"
        }
      ],
      "source": [
        "Hello = \"hello\".title()\n",
        "\n",
        "Hello"
      ]
    },
    {
      "cell_type": "code",
      "execution_count": null,
      "metadata": {
        "colab": {
          "base_uri": "https://localhost:8080/",
          "height": 193
        },
        "id": "fuFKL5DxRODW",
        "outputId": "4d49a968-fffd-47cb-c720-94a08285cbce"
      },
      "outputs": [
        {
          "ename": "TypeError",
          "evalue": "print() takes 0 positional arguments but 1 was given",
          "output_type": "error",
          "traceback": [
            "\u001b[0;31m---------------------------------------------------------------------------\u001b[0m",
            "\u001b[0;31mTypeError\u001b[0m                                 Traceback (most recent call last)",
            "\u001b[0;32m<ipython-input-37-cc0e38a6ea4a>\u001b[0m in \u001b[0;36m<cell line: 0>\u001b[0;34m()\u001b[0m\n\u001b[1;32m      1\u001b[0m \u001b[0;32mif\u001b[0m \u001b[0;34m\"car\"\u001b[0m \u001b[0;32min\u001b[0m \u001b[0;34m\"carpet\"\u001b[0m\u001b[0;34m:\u001b[0m\u001b[0;34m\u001b[0m\u001b[0;34m\u001b[0m\u001b[0m\n\u001b[0;32m----> 2\u001b[0;31m   \u001b[0mprint\u001b[0m\u001b[0;34m(\u001b[0m\u001b[0;34m\"substring yes\"\u001b[0m\u001b[0;34m)\u001b[0m\u001b[0;34m\u001b[0m\u001b[0;34m\u001b[0m\u001b[0m\n\u001b[0m\u001b[1;32m      3\u001b[0m \u001b[0;32melse\u001b[0m\u001b[0;34m:\u001b[0m\u001b[0;34m\u001b[0m\u001b[0;34m\u001b[0m\u001b[0m\n\u001b[1;32m      4\u001b[0m   \u001b[0mprint\u001b[0m\u001b[0;34m(\u001b[0m\u001b[0;34m\"substring no\"\u001b[0m\u001b[0;34m)\u001b[0m\u001b[0;34m\u001b[0m\u001b[0;34m\u001b[0m\u001b[0m\n",
            "\u001b[0;31mTypeError\u001b[0m: print() takes 0 positional arguments but 1 was given"
          ]
        }
      ],
      "source": []
    },
    {
      "cell_type": "code",
      "execution_count": null,
      "metadata": {
        "id": "2yloUbZQRkuU"
      },
      "outputs": [],
      "source": [
        "def print():\n",
        "  pass"
      ]
    },
    {
      "cell_type": "code",
      "execution_count": null,
      "metadata": {
        "colab": {
          "base_uri": "https://localhost:8080/",
          "height": 193
        },
        "id": "LHqERiPARujg",
        "outputId": "6662b7e9-c65a-4e1c-bc66-77f227b0947e"
      },
      "outputs": [
        {
          "ename": "TypeError",
          "evalue": "print() takes 0 positional arguments but 1 was given",
          "output_type": "error",
          "traceback": [
            "\u001b[0;31m---------------------------------------------------------------------------\u001b[0m",
            "\u001b[0;31mTypeError\u001b[0m                                 Traceback (most recent call last)",
            "\u001b[0;32m<ipython-input-40-cc0e38a6ea4a>\u001b[0m in \u001b[0;36m<cell line: 0>\u001b[0;34m()\u001b[0m\n\u001b[1;32m      1\u001b[0m \u001b[0;32mif\u001b[0m \u001b[0;34m\"car\"\u001b[0m \u001b[0;32min\u001b[0m \u001b[0;34m\"carpet\"\u001b[0m\u001b[0;34m:\u001b[0m\u001b[0;34m\u001b[0m\u001b[0;34m\u001b[0m\u001b[0m\n\u001b[0;32m----> 2\u001b[0;31m   \u001b[0mprint\u001b[0m\u001b[0;34m(\u001b[0m\u001b[0;34m\"substring yes\"\u001b[0m\u001b[0;34m)\u001b[0m\u001b[0;34m\u001b[0m\u001b[0;34m\u001b[0m\u001b[0m\n\u001b[0m\u001b[1;32m      3\u001b[0m \u001b[0;32melse\u001b[0m\u001b[0;34m:\u001b[0m\u001b[0;34m\u001b[0m\u001b[0;34m\u001b[0m\u001b[0m\n\u001b[1;32m      4\u001b[0m   \u001b[0mprint\u001b[0m\u001b[0;34m(\u001b[0m\u001b[0;34m\"substring no\"\u001b[0m\u001b[0;34m)\u001b[0m\u001b[0;34m\u001b[0m\u001b[0;34m\u001b[0m\u001b[0m\n",
            "\u001b[0;31mTypeError\u001b[0m: print() takes 0 positional arguments but 1 was given"
          ]
        }
      ],
      "source": [
        "if \"car\" in \"carpet\":\n",
        "  print(\"substring yes\")\n",
        "else:\n",
        "  print(\"substring no\")"
      ]
    },
    {
      "cell_type": "code",
      "execution_count": null,
      "metadata": {
        "colab": {
          "base_uri": "https://localhost:8080/"
        },
        "id": "1LqTyxSyRwdK",
        "outputId": "4a54b46e-3784-47da-df7b-b97486f27630"
      },
      "outputs": [
        {
          "data": {
            "text/plain": [
              "True"
            ]
          },
          "execution_count": 41,
          "metadata": {},
          "output_type": "execute_result"
        }
      ],
      "source": [
        "\"string\" in \"strings\""
      ]
    },
    {
      "cell_type": "code",
      "execution_count": null,
      "metadata": {
        "id": "zphqbd1NSdVJ"
      },
      "outputs": [],
      "source": [
        "SCOPE_1_a_totally_outside_variable = 3\n",
        "\n",
        "def outside_function(SCOPE_2_x):\n",
        "    SCOPE_2_y = SCOPE_2_x + 1\n",
        "\n",
        "    def inside_function(SCOPE_3_z):\n",
        "       SCOPE_3_x = z / 2\n",
        "       return SCOPE_3_x\n",
        "\n",
        "    def another_inside_function(SCOPE_4_z):\n",
        "       return SCOPE_2_x\n",
        "\n",
        "\n",
        "    SCOPE_2_y\n",
        "\n",
        "\n"
      ]
    },
    {
      "cell_type": "code",
      "execution_count": null,
      "metadata": {
        "colab": {
          "base_uri": "https://localhost:8080/"
        },
        "id": "nEgFQydS6ERb",
        "outputId": "db843975-6f2c-4a0b-dd84-c63504d79320"
      },
      "outputs": [
        {
          "name": "stdout",
          "output_type": "stream",
          "text": [
            "Geeks For True\n"
          ]
        }
      ],
      "source": [
        "set1 = set([\"Geeks\", \"For\", \"Geeks\"])\n",
        "\n",
        "for i in set1:\n",
        "    print(i, end=\" \")\n",
        "print(\"Geeks\" in set1)"
      ]
    },
    {
      "cell_type": "code",
      "execution_count": null,
      "metadata": {
        "colab": {
          "base_uri": "https://localhost:8080/"
        },
        "id": "savD6huELpza",
        "outputId": "60865122-cb70-4abf-847d-212e394a2a5e"
      },
      "outputs": [
        {
          "name": "stdout",
          "output_type": "stream",
          "text": [
            "('apple', 'banana', 'cherry', 'orange')\n"
          ]
        }
      ],
      "source": [
        "thistuple = (\"apple\", \"banana\", \"cherry\")\n",
        "y = (\"orange\",)\n",
        "thistuple += y\n",
        "\n",
        "print(thistuple)"
      ]
    },
    {
      "cell_type": "code",
      "execution_count": null,
      "metadata": {
        "colab": {
          "base_uri": "https://localhost:8080/"
        },
        "id": "nvfDuvpLuJIJ",
        "outputId": "e3e340cb-e3da-41b5-8ed6-7f3e7873727d"
      },
      "outputs": [
        {
          "data": {
            "text/plain": [
              "('1', '2', '3', 'a', 'b', 'c')"
            ]
          },
          "execution_count": 30,
          "metadata": {},
          "output_type": "execute_result"
        }
      ],
      "source": [
        "tuple1=('1','2','3')\n",
        "tuple2=('a','b','c')\n",
        "tuple3=tuple1 + tuple2\n",
        "tuple3"
      ]
    },
    {
      "cell_type": "code",
      "execution_count": null,
      "metadata": {
        "colab": {
          "base_uri": "https://localhost:8080/"
        },
        "id": "-WRt_tM8ugDY",
        "outputId": "976271de-ad25-45b7-affe-9cdfb4ddd9be"
      },
      "outputs": [
        {
          "name": "stdout",
          "output_type": "stream",
          "text": [
            "apple\n",
            "['banana', 'cherry', 'strawberry']\n",
            "raspberry\n"
          ]
        }
      ],
      "source": [
        "fruits = (\"apple\", \"banana\", \"cherry\", \"strawberry\", \"raspberry\")\n",
        "\n",
        "(green, *yellow, red) = fruits\n",
        "\n",
        "print(green)\n",
        "print(yellow)\n",
        "print(red)"
      ]
    },
    {
      "cell_type": "code",
      "execution_count": null,
      "metadata": {
        "colab": {
          "base_uri": "https://localhost:8080/"
        },
        "id": "IE_o6BT1vZt1",
        "outputId": "a3f90a28-ea03-4c8b-dc06-63b2599b26db"
      },
      "outputs": [
        {
          "name": "stdout",
          "output_type": "stream",
          "text": [
            "apple\n",
            "banana\n",
            "cherry\n"
          ]
        }
      ],
      "source": [
        "thistuple = (\"apple\", \"banana\", \"cherry\")\n",
        "for x in thistuple:\n",
        "  print(x)"
      ]
    },
    {
      "cell_type": "code",
      "execution_count": null,
      "metadata": {
        "colab": {
          "base_uri": "https://localhost:8080/"
        },
        "id": "BDZYb1UMv0XN",
        "outputId": "d7ea4689-9eb1-441e-ae3f-cf9cc71248d1"
      },
      "outputs": [
        {
          "name": "stdout",
          "output_type": "stream",
          "text": [
            "('apple', 'banana', 'cherry', 'apple', 'banana', 'cherry')\n"
          ]
        }
      ],
      "source": [
        "fruits = (\"apple\", \"banana\", \"cherry\")\n",
        "mytuple = fruits * 2\n",
        "\n",
        "print(mytuple)"
      ]
    },
    {
      "cell_type": "code",
      "execution_count": null,
      "metadata": {
        "colab": {
          "base_uri": "https://localhost:8080/"
        },
        "id": "kYry4Emqwhiu",
        "outputId": "3d377a92-9439-42bd-c871-c32764545e70"
      },
      "outputs": [
        {
          "name": "stdout",
          "output_type": "stream",
          "text": [
            "{'banana', True, 2, 'apple', 'cherry'}\n"
          ]
        }
      ],
      "source": [
        "thisset = {\"apple\", \"banana\", \"cherry\", True, 1, 2}\n",
        "\n",
        "print(thisset)"
      ]
    },
    {
      "cell_type": "code",
      "execution_count": null,
      "metadata": {
        "colab": {
          "base_uri": "https://localhost:8080/"
        },
        "id": "X14kXQZixxXQ",
        "outputId": "d6c38b8b-7a7f-41ae-f1a0-4f679c24da9a"
      },
      "outputs": [
        {
          "name": "stdout",
          "output_type": "stream",
          "text": [
            "{'b', 'a', 'c'}\n"
          ]
        }
      ],
      "source": [
        "thisset = set(('a','b','c')) # note the double round-brackets\n",
        "print(thisset)"
      ]
    },
    {
      "cell_type": "code",
      "execution_count": null,
      "metadata": {
        "colab": {
          "base_uri": "https://localhost:8080/"
        },
        "id": "u1ux23XIyMrT",
        "outputId": "42bf1810-d3cf-46ce-925d-03f8e3313ac7"
      },
      "outputs": [
        {
          "name": "stdout",
          "output_type": "stream",
          "text": [
            "{'banana', 'orange', 'apple', 'cherry'}\n"
          ]
        }
      ],
      "source": [
        "thisset = {\"apple\", \"banana\", \"cherry\"}\n",
        "thisset.add(\"orange\")\n",
        "print(thisset)"
      ]
    },
    {
      "cell_type": "code",
      "execution_count": null,
      "metadata": {
        "colab": {
          "base_uri": "https://localhost:8080/"
        },
        "id": "aJO2VW99zz2x",
        "outputId": "865c9a7b-4867-4c46-cacc-e92f12210f8a"
      },
      "outputs": [
        {
          "name": "stdout",
          "output_type": "stream",
          "text": [
            "{'banana', 'apple', 'papaya', 'mango', 'pineapple', 'cherry'}\n"
          ]
        }
      ],
      "source": [
        "thisset = {\"apple\", \"banana\", \"cherry\"}\n",
        "tropical = {\"pineapple\", \"mango\", \"papaya\"}\n",
        "\n",
        "thisset.update(tropical)\n",
        "print(thisset)"
      ]
    },
    {
      "cell_type": "code",
      "execution_count": null,
      "metadata": {
        "colab": {
          "base_uri": "https://localhost:8080/"
        },
        "id": "wD7XDwUo0AhS",
        "outputId": "7129eb6d-24ed-4637-c504-7d6d7f975222"
      },
      "outputs": [
        {
          "name": "stdout",
          "output_type": "stream",
          "text": [
            "{'kiwi', 'apple', 'orange', 'cherry', 'banana'}\n"
          ]
        }
      ],
      "source": [
        "thisset = {\"apple\", \"banana\", \"cherry\"}\n",
        "mylist = [\"kiwi\", \"orange\"] #this is a list\n",
        "\n",
        "thisset.update(mylist)\n",
        "\n",
        "print(thisset)"
      ]
    },
    {
      "cell_type": "code",
      "execution_count": null,
      "metadata": {
        "colab": {
          "base_uri": "https://localhost:8080/"
        },
        "id": "2MKLIcxS0NqG",
        "outputId": "e8282fa7-dac4-4bb1-daac-a01db8e43e27"
      },
      "outputs": [
        {
          "name": "stdout",
          "output_type": "stream",
          "text": [
            "{'banana', 'apple', 'cherry'}\n"
          ]
        }
      ],
      "source": [
        "thisset = {\"apple\", \"banana\", \"cherry\"}\n",
        "\n",
        "thisset.discard(\"orange\")\n",
        "\n",
        "print(thisset)"
      ]
    },
    {
      "cell_type": "code",
      "execution_count": null,
      "metadata": {
        "colab": {
          "base_uri": "https://localhost:8080/"
        },
        "id": "btIpzJ291Fc4",
        "outputId": "55188ad0-48ca-4b53-e9c9-b830b35e0066"
      },
      "outputs": [
        {
          "name": "stdout",
          "output_type": "stream",
          "text": [
            "banana\n",
            "{'apple', 'cherry'}\n"
          ]
        }
      ],
      "source": [
        "thisset = {\"apple\", \"banana\", \"cherry\"}\n",
        "x = thisset.pop()\n",
        "\n",
        "print(x)\n",
        "print(thisset)"
      ]
    },
    {
      "cell_type": "code",
      "execution_count": null,
      "metadata": {
        "colab": {
          "base_uri": "https://localhost:8080/"
        },
        "id": "uJxB1Jz61Tlx",
        "outputId": "72747d39-0054-424a-aa5f-aa11e761a484"
      },
      "outputs": [
        {
          "name": "stdout",
          "output_type": "stream",
          "text": [
            "set()\n"
          ]
        }
      ],
      "source": [
        "thisset = {\"apple\", \"banana\", \"cherry\"}\n",
        "\n",
        "thisset.clear()\n",
        "\n",
        "print(thisset)"
      ]
    },
    {
      "cell_type": "code",
      "execution_count": null,
      "metadata": {
        "colab": {
          "base_uri": "https://localhost:8080/"
        },
        "id": "CDrd3siV1p8U",
        "outputId": "70d31df4-a620-4d5b-ffe4-6989facf8d6f"
      },
      "outputs": [
        {
          "name": "stdout",
          "output_type": "stream",
          "text": [
            "{'cherry', 'banana', 'google', 'microsoft'}\n"
          ]
        }
      ],
      "source": [
        "set1 = {\"apple\", \"banana\", \"cherry\"}\n",
        "set2 = {\"google\", \"microsoft\", \"apple\"}\n",
        "\n",
        "set3 = set1 ^  set2\n",
        "print(set3)"
      ]
    },
    {
      "cell_type": "code",
      "execution_count": null,
      "metadata": {
        "colab": {
          "base_uri": "https://localhost:8080/"
        },
        "id": "t9BT_Pkn29K_",
        "outputId": "ac13a68c-1a37-4311-960a-bbfee5ea47c3"
      },
      "outputs": [
        {
          "name": "stdout",
          "output_type": "stream",
          "text": [
            "{1, 2, 3, 'c', 'a', 'b'}\n"
          ]
        }
      ],
      "source": [
        "x = {\"a\", \"b\", \"c\"}\n",
        "y = (1, 2, 3)\n",
        "\n",
        "z = x.union(y)\n",
        "print(z)"
      ]
    },
    {
      "cell_type": "code",
      "execution_count": null,
      "metadata": {
        "colab": {
          "base_uri": "https://localhost:8080/"
        },
        "id": "oxt6Fjy23Mo7",
        "outputId": "f0f580fb-8d41-4465-f240-0f2e320f702f"
      },
      "outputs": [
        {
          "name": "stdout",
          "output_type": "stream",
          "text": [
            "{'apple'}\n"
          ]
        }
      ],
      "source": [
        "set1 = {\"apple\", \"banana\", \"cherry\"}\n",
        "set2 = {\"google\", \"microsoft\", \"apple\"}\n",
        "\n",
        "set3 = set1.intersection(set2)\n",
        "print(set3)"
      ]
    },
    {
      "cell_type": "code",
      "execution_count": null,
      "metadata": {
        "colab": {
          "base_uri": "https://localhost:8080/"
        },
        "id": "XLqd1UV03zFL",
        "outputId": "dac79865-f1b6-47e4-fa55-002f483b7468"
      },
      "outputs": [
        {
          "name": "stdout",
          "output_type": "stream",
          "text": [
            "{'apple'}\n"
          ]
        }
      ],
      "source": [
        "set1 = {\"apple\", \"banana\", \"cherry\"}\n",
        "set2 = {\"google\", \"microsoft\", \"apple\"}\n",
        "\n",
        "set1.intersection_update(set2)\n",
        "\n",
        "print(set1)"
      ]
    },
    {
      "cell_type": "code",
      "execution_count": null,
      "metadata": {
        "colab": {
          "base_uri": "https://localhost:8080/"
        },
        "id": "nX5cJtq236Lr",
        "outputId": "3d61226a-51bf-4348-e72c-64e8f9eb63d9"
      },
      "outputs": [
        {
          "name": "stdout",
          "output_type": "stream",
          "text": [
            "{False, 1, 'apple'}\n"
          ]
        }
      ],
      "source": [
        "set1 = {\"apple\", 1,  \"banana\", 0, \"cherry\"}\n",
        "set2 = {False, \"google\", 1, \"apple\", 2, True}\n",
        "\n",
        "set3 = set1.intersection(set2)\n",
        "\n",
        "print(set3)"
      ]
    },
    {
      "cell_type": "code",
      "execution_count": null,
      "metadata": {
        "colab": {
          "base_uri": "https://localhost:8080/"
        },
        "id": "O7vylgMY4OHl",
        "outputId": "fd40436d-e7bf-40fa-9743-3b6570f2781d"
      },
      "outputs": [
        {
          "name": "stdout",
          "output_type": "stream",
          "text": [
            "{'banana', 'cherry'}\n"
          ]
        }
      ],
      "source": [
        "set1 = {\"apple\", \"banana\", \"cherry\"}\n",
        "set2 = {\"google\", \"microsoft\", \"apple\"}\n",
        "\n",
        "set3 = set1 - set2\n",
        "print(set3)"
      ]
    },
    {
      "cell_type": "code",
      "execution_count": null,
      "metadata": {
        "colab": {
          "base_uri": "https://localhost:8080/"
        },
        "id": "64hFGb_c5N8p",
        "outputId": "443247ec-2646-4b9f-c156-812baf6e7d29"
      },
      "outputs": [
        {
          "name": "stdout",
          "output_type": "stream",
          "text": [
            "dict_values(['Ford', 'Mustang', 1964])\n",
            "dict_values(['Ford', 'Mustang', 1964, 'red'])\n"
          ]
        }
      ],
      "source": [
        "car = {\n",
        "\"brand\": \"Ford\",\n",
        "\"model\": \"Mustang\",\n",
        "\"year\": 1964\n",
        "}\n",
        "\n",
        "x = car.values()\n",
        "\n",
        "print(x) #before the change\n",
        "\n",
        "car[\"color\"] = \"red\"\n",
        "\n",
        "print(x) #after the change"
      ]
    },
    {
      "cell_type": "code",
      "execution_count": null,
      "metadata": {
        "colab": {
          "base_uri": "https://localhost:8080/"
        },
        "id": "z5no4bYI7AOg",
        "outputId": "c25839f6-a541-4905-9915-6de91e4d6b71"
      },
      "outputs": [
        {
          "name": "stdout",
          "output_type": "stream",
          "text": [
            "dict_items([('brand', 'Ford'), ('model', 'Mustang'), ('year', 1964)])\n"
          ]
        }
      ],
      "source": [
        "car = {\n",
        "\"brand\": \"Ford\",\n",
        "\"model\": \"Mustang\",\n",
        "\"year\": 1964\n",
        "}\n",
        "\n",
        "x = car.items()\n",
        "\n",
        "print(x)"
      ]
    },
    {
      "cell_type": "code",
      "execution_count": null,
      "metadata": {
        "colab": {
          "base_uri": "https://localhost:8080/"
        },
        "id": "K_xez-mV7JLN",
        "outputId": "3efbf7a9-d87d-4b89-ea13-142a1799522e"
      },
      "outputs": [
        {
          "data": {
            "text/plain": [
              "{'brand': 'Ford', 'model': 'Mustang', 'year': 2020}"
            ]
          },
          "execution_count": 72,
          "metadata": {},
          "output_type": "execute_result"
        }
      ],
      "source": [
        "thisdict = {\n",
        "  \"brand\": \"Ford\",\n",
        "  \"model\": \"Mustang\",\n",
        "  \"year\": 1964\n",
        "}\n",
        "thisdict.update({\"year\": 2020})\n",
        "\n",
        "thisdict"
      ]
    },
    {
      "cell_type": "code",
      "execution_count": null,
      "metadata": {
        "colab": {
          "base_uri": "https://localhost:8080/"
        },
        "id": "NLOCGb9E7lAU",
        "outputId": "7de1a6ca-2a2b-4db4-cb87-cbd120ca9b30"
      },
      "outputs": [
        {
          "name": "stdout",
          "output_type": "stream",
          "text": [
            "{'brand': 'Ford', 'model': 'Mustang', 'year': 1964, 'color': 'red'}\n"
          ]
        }
      ],
      "source": [
        "thisdict = {\n",
        "  \"brand\": \"Ford\",\n",
        "  \"model\": \"Mustang\",\n",
        "  \"year\": 1964\n",
        "}\n",
        "thisdict[\"color\"] = \"red\"\n",
        "print(thisdict)"
      ]
    },
    {
      "cell_type": "code",
      "execution_count": null,
      "metadata": {
        "colab": {
          "base_uri": "https://localhost:8080/"
        },
        "id": "XEtv9TGz8F5p",
        "outputId": "8e11427f-385a-454a-9bde-395703f8dfdb"
      },
      "outputs": [
        {
          "data": {
            "text/plain": [
              "{'brand': 'Ford', 'model': 'Mustang', 'year': 1964, 'color': 'red'}"
            ]
          },
          "execution_count": 75,
          "metadata": {},
          "output_type": "execute_result"
        }
      ],
      "source": [
        "thisdict = {\n",
        "  \"brand\": \"Ford\",\n",
        "  \"model\": \"Mustang\",\n",
        "  \"year\": 1964\n",
        "}\n",
        "thisdict.update({\"color\": \"red\"})\n",
        "thisdict"
      ]
    },
    {
      "cell_type": "code",
      "execution_count": null,
      "metadata": {
        "colab": {
          "base_uri": "https://localhost:8080/"
        },
        "id": "LPeqHfJx8Ied",
        "outputId": "1edbb300-5301-4c44-9d74-2998279bcecb"
      },
      "outputs": [
        {
          "name": "stdout",
          "output_type": "stream",
          "text": [
            "{'brand': 'Ford', 'year': 1964}\n"
          ]
        }
      ],
      "source": [
        "thisdict = {\n",
        "  \"brand\": \"Ford\",\n",
        "  \"model\": \"Mustang\",\n",
        "  \"year\": 1964\n",
        "}\n",
        "thisdict.pop(\"model\")\n",
        "print(thisdict)"
      ]
    },
    {
      "cell_type": "code",
      "execution_count": null,
      "metadata": {
        "colab": {
          "base_uri": "https://localhost:8080/"
        },
        "id": "8cSBc_nH8iHI",
        "outputId": "f92b34e9-7934-4833-d554-0a62879d89b0"
      },
      "outputs": [
        {
          "name": "stdout",
          "output_type": "stream",
          "text": [
            "{'brand': 'Ford', 'model': 'Mustang'}\n"
          ]
        }
      ],
      "source": [
        "thisdict = {\n",
        "  \"brand\": \"Ford\",\n",
        "  \"model\": \"Mustang\",\n",
        "  \"year\": 1964\n",
        "}\n",
        "thisdict.popitem()\n",
        "print(thisdict)"
      ]
    },
    {
      "cell_type": "code",
      "execution_count": null,
      "metadata": {
        "colab": {
          "base_uri": "https://localhost:8080/"
        },
        "id": "v22LpRI882JE",
        "outputId": "45c38986-8a2e-4e57-c482-8f49fef9fbec"
      },
      "outputs": [
        {
          "name": "stdout",
          "output_type": "stream",
          "text": [
            "{'brand': 'Ford', 'year': 1964}\n"
          ]
        }
      ],
      "source": [
        "thisdict = {\n",
        "  \"brand\": \"Ford\",\n",
        "  \"model\": \"Mustang\",\n",
        "  \"year\": 1964\n",
        "}\n",
        "del thisdict[\"model\"]\n",
        "print(thisdict)"
      ]
    },
    {
      "cell_type": "code",
      "execution_count": null,
      "metadata": {
        "colab": {
          "base_uri": "https://localhost:8080/"
        },
        "id": "HZVA1Abi89Oo",
        "outputId": "04f2368b-07dd-4fc2-bf66-11132479cff8"
      },
      "outputs": [
        {
          "data": {
            "text/plain": [
              "{'child1': {'name': 'Emil', 'year': 2004},\n",
              " 'child2': {'name': 'Tobias', 'year': 2007},\n",
              " 'child3': {'name': 'Linus', 'year': 2011}}"
            ]
          },
          "execution_count": 80,
          "metadata": {},
          "output_type": "execute_result"
        }
      ],
      "source": [
        "myfamily = {\n",
        "  \"child1\" : {\n",
        "    \"name\" : \"Emil\",\n",
        "    \"year\" : 2004\n",
        "  },\n",
        "  \"child2\" : {\n",
        "    \"name\" : \"Tobias\",\n",
        "    \"year\" : 2007\n",
        "  },\n",
        "  \"child3\" : {\n",
        "    \"name\" : \"Linus\",\n",
        "    \"year\" : 2011\n",
        "  }\n",
        "}\n",
        "\n",
        "myfamily"
      ]
    },
    {
      "cell_type": "code",
      "execution_count": null,
      "metadata": {
        "colab": {
          "base_uri": "https://localhost:8080/"
        },
        "id": "KrZd2MFe-8-5",
        "outputId": "8b61ed9b-3835-441a-c52d-586fd92e019a"
      },
      "outputs": [
        {
          "data": {
            "text/plain": [
              "{'child1': {'name': 'Emil', 'year': 2004},\n",
              " 'child2': {'name': 'Tobias', 'year': 2007},\n",
              " 'child3': {'name': 'Linus', 'year': 2011}}"
            ]
          },
          "execution_count": 83,
          "metadata": {},
          "output_type": "execute_result"
        }
      ],
      "source": [
        "child1 = {\"name\" : \"Emil\", \"year\" : 2004}\n",
        "child2 = {\"name\" : \"Tobias\", \"year\" : 2007}\n",
        "child3 = {\"name\" : \"Linus\", \"year\" : 2011}\n",
        "\n",
        "myfamily = {\"child1\" : child1,\"child2\" : child2, \"child3\" : child3}\n",
        "myfamily"
      ]
    },
    {
      "cell_type": "code",
      "execution_count": null,
      "metadata": {
        "colab": {
          "base_uri": "https://localhost:8080/"
        },
        "id": "b8gvM3ye_dtj",
        "outputId": "703984e1-8a50-47b8-a731-088ed2ad8b83"
      },
      "outputs": [
        {
          "name": "stdout",
          "output_type": "stream",
          "text": [
            "child1\n",
            "name: Emil\n",
            "year: 2004\n",
            "child2\n",
            "name: Tobias\n",
            "year: 2007\n",
            "child3\n",
            "name: Linus\n",
            "year: 2011\n"
          ]
        }
      ],
      "source": [
        "for child_num, child_dict in myfamily.items():\n",
        "  print(child_num)\n",
        "\n",
        "  for key in child_dict:\n",
        "    print(key + ':', child_dict[key])\n"
      ]
    },
    {
      "cell_type": "code",
      "execution_count": null,
      "metadata": {
        "colab": {
          "base_uri": "https://localhost:8080/"
        },
        "id": "sKMJHGjTAJzn",
        "outputId": "287e92cd-3879-4cc9-8f6b-d9a8171372cb"
      },
      "outputs": [
        {
          "name": "stdout",
          "output_type": "stream",
          "text": [
            "=\n"
          ]
        }
      ],
      "source": [
        "a = 330\n",
        "b = 330\n",
        "print(\"A\") if a > b else print(\"=\") if a == b else print(\"B\")"
      ]
    },
    {
      "cell_type": "code",
      "execution_count": null,
      "metadata": {
        "colab": {
          "base_uri": "https://localhost:8080/",
          "height": 106
        },
        "id": "sdW_elUCC6Rn",
        "outputId": "dd33d9df-f726-43cb-a2ae-6f64c8d38717"
      },
      "outputs": [
        {
          "ename": "SyntaxError",
          "evalue": "expected 'else' after 'if' expression (<ipython-input-93-0c3362bcdfc3>, line 1)",
          "output_type": "error",
          "traceback": [
            "\u001b[0;36m  File \u001b[0;32m\"<ipython-input-93-0c3362bcdfc3>\"\u001b[0;36m, line \u001b[0;32m1\u001b[0m\n\u001b[0;31m    print('a') if a > b\u001b[0m\n\u001b[0m    ^\u001b[0m\n\u001b[0;31mSyntaxError\u001b[0m\u001b[0;31m:\u001b[0m expected 'else' after 'if' expression\n"
          ]
        }
      ],
      "source": []
    },
    {
      "cell_type": "code",
      "execution_count": null,
      "metadata": {
        "colab": {
          "base_uri": "https://localhost:8080/"
        },
        "id": "sLzrll1kDDP8",
        "outputId": "43893ad8-cda0-4f80-eea9-30713bde1a11"
      },
      "outputs": [
        {
          "name": "stdout",
          "output_type": "stream",
          "text": [
            "Above ten,\n",
            "and also above 20!\n"
          ]
        }
      ],
      "source": [
        "x = 41\n",
        "\n",
        "if x > 10:\n",
        "  print(\"Above ten,\")\n",
        "  if x > 20:\n",
        "    print(\"and also above 20!\")\n",
        "  else:\n",
        "    print(\"but not above 20.\")"
      ]
    },
    {
      "cell_type": "code",
      "execution_count": null,
      "metadata": {
        "colab": {
          "base_uri": "https://localhost:8080/"
        },
        "id": "P5fbACZRDW8-",
        "outputId": "0a26252d-c3db-4cf8-8274-d5a785a2412c"
      },
      "outputs": [
        {
          "name": "stdout",
          "output_type": "stream",
          "text": [
            "apple\n",
            "banana\n"
          ]
        }
      ],
      "source": [
        "fruits = [\"apple\", \"banana\", \"cherry\"]\n",
        "for x in fruits:\n",
        "  print(x)\n",
        "  if x == \"banana\":\n",
        "    break"
      ]
    },
    {
      "cell_type": "code",
      "execution_count": null,
      "metadata": {
        "colab": {
          "base_uri": "https://localhost:8080/"
        },
        "id": "r2Lf9UH6FDXP",
        "outputId": "bb7d6d4d-3aff-4c45-ea37-de35c0bb5259"
      },
      "outputs": [
        {
          "name": "stdout",
          "output_type": "stream",
          "text": [
            "apple\n",
            "cherry\n"
          ]
        }
      ],
      "source": [
        "fruits = [\"apple\", \"banana\", \"cherry\"]\n",
        "for x in fruits:\n",
        "  if x == \"banana\":\n",
        "    continue\n",
        "  print(x)"
      ]
    },
    {
      "cell_type": "code",
      "execution_count": null,
      "metadata": {
        "colab": {
          "base_uri": "https://localhost:8080/"
        },
        "id": "5-QJaIUGFY_s",
        "outputId": "4dabacc2-f577-4eec-ebf4-6860443e56a0"
      },
      "outputs": [
        {
          "name": "stdout",
          "output_type": "stream",
          "text": [
            "apple\n"
          ]
        }
      ],
      "source": [
        "fruits = [\"apple\", \"banana\", \"cherry\"]\n",
        "for x in fruits:\n",
        "  if x == \"banana\":\n",
        "    break\n",
        "  print(x)"
      ]
    },
    {
      "cell_type": "code",
      "execution_count": null,
      "metadata": {
        "colab": {
          "base_uri": "https://localhost:8080/"
        },
        "id": "lK1nzaCvFtBP",
        "outputId": "dccd9399-f61a-4ca7-dc8e-f0b6cc62b864"
      },
      "outputs": [
        {
          "name": "stdout",
          "output_type": "stream",
          "text": [
            "2\n",
            "5\n",
            "8\n",
            "11\n",
            "14\n",
            "17\n",
            "20\n",
            "23\n",
            "26\n",
            "29\n"
          ]
        }
      ],
      "source": [
        "for x in range(2, 30, 3):\n",
        "  print(x)"
      ]
    },
    {
      "cell_type": "code",
      "execution_count": null,
      "metadata": {
        "colab": {
          "base_uri": "https://localhost:8080/"
        },
        "id": "6QJW71sZGHXt",
        "outputId": "284097dd-c6cd-404e-9764-ffb4dc0ff5d9"
      },
      "outputs": [
        {
          "name": "stdout",
          "output_type": "stream",
          "text": [
            "red apple\n",
            "red banana\n",
            "red cherry\n",
            "big apple\n",
            "big banana\n",
            "big cherry\n",
            "tasty apple\n",
            "tasty banana\n",
            "tasty cherry\n"
          ]
        }
      ],
      "source": [
        "adj = [\"red\", \"big\", \"tasty\"]\n",
        "fruits = [\"apple\", \"banana\", \"cherry\"]\n",
        "\n",
        "for x in adj:\n",
        "  for y in fruits:\n",
        "    print(x, y)"
      ]
    },
    {
      "cell_type": "code",
      "execution_count": null,
      "metadata": {
        "colab": {
          "base_uri": "https://localhost:8080/"
        },
        "id": "qotsuGDUGivc",
        "outputId": "5bd82bdd-44c3-4d73-db6b-bef9f8368ad6"
      },
      "outputs": [
        {
          "name": "stdout",
          "output_type": "stream",
          "text": [
            "Emil Refsnes\n",
            "Tobias Refsnes\n",
            "Linus Refsnes\n"
          ]
        }
      ],
      "source": [
        "def my_function(fname):\n",
        "  print(fname + \" Refsnes\")\n",
        "\n",
        "my_function(\"Emil\")\n",
        "my_function(\"Tobias\")\n",
        "my_function(\"Linus\")"
      ]
    },
    {
      "cell_type": "code",
      "execution_count": null,
      "metadata": {
        "colab": {
          "base_uri": "https://localhost:8080/"
        },
        "id": "QsrhptxxJLFr",
        "outputId": "dd848b4e-1c5e-490d-8a4b-092c5d72d2b2"
      },
      "outputs": [
        {
          "name": "stdout",
          "output_type": "stream",
          "text": [
            "Recursion Example Results:\n",
            "6\n",
            "5\n",
            "4\n",
            "3\n",
            "2\n",
            "1\n",
            "1\n",
            "3\n",
            "6\n",
            "10\n",
            "15\n",
            "21\n"
          ]
        },
        {
          "data": {
            "text/plain": [
              "21"
            ]
          },
          "execution_count": 17,
          "metadata": {},
          "output_type": "execute_result"
        }
      ],
      "source": [
        "def tri_recursion(k):\n",
        "  if(k > 0):\n",
        "    print(k)\n",
        "    result = k + tri_recursion(k - 1) # 6 + 5 + 4 +3 + 2 +1\n",
        "    print(result)\n",
        "  else:\n",
        "    result = 0\n",
        "  return result\n",
        "\n",
        "print(\"Recursion Example Results:\")\n",
        "tri_recursion(6)"
      ]
    },
    {
      "cell_type": "code",
      "execution_count": null,
      "metadata": {
        "colab": {
          "base_uri": "https://localhost:8080/"
        },
        "id": "7VcXbAfmi8An",
        "outputId": "b7ac554b-1ba9-45b2-c4ae-7c369a5cac9d"
      },
      "outputs": [
        {
          "name": "stdout",
          "output_type": "stream",
          "text": [
            "Recursion Example Results:\n",
            "Initial k value: \n",
            "6\n",
            "Initial k value: \n",
            "5\n",
            "Initial k value: \n",
            "4\n",
            "Initial k value: \n",
            "3\n",
            "Initial k value: \n",
            "2\n",
            "Initial k value: \n",
            "1\n",
            "second k value: \n",
            "1\n",
            "Result: \n",
            "1\n",
            "second k value: \n",
            "2\n",
            "Result: \n",
            "3\n",
            "second k value: \n",
            "3\n",
            "Result: \n",
            "6\n",
            "second k value: \n",
            "4\n",
            "Result: \n",
            "10\n",
            "second k value: \n",
            "5\n",
            "Result: \n",
            "15\n",
            "second k value: \n",
            "6\n",
            "Result: \n",
            "21\n"
          ]
        },
        {
          "data": {
            "text/plain": [
              "21"
            ]
          },
          "execution_count": 20,
          "metadata": {},
          "output_type": "execute_result"
        }
      ],
      "source": [
        "def tri_recursion(k):\n",
        "  if(k > 0):\n",
        "    print(\"Initial k value: \")\n",
        "    print(k)\n",
        "    result = k + tri_recursion(k - 1) # 6 + 5 + 4 +3 + 2 +1\n",
        "    print(\"second k value: \")\n",
        "    print(k)\n",
        "    print(\"Result: \")\n",
        "    print(result)\n",
        "  else:\n",
        "    result = 0\n",
        "  return result\n",
        "print(\"Recursion Example Results:\")\n",
        "tri_recursion(6)"
      ]
    },
    {
      "cell_type": "code",
      "execution_count": null,
      "metadata": {
        "id": "jxYrC7WWjA1h"
      },
      "outputs": [],
      "source": [
        "while i < 0:\n",
        "  print(i)\n",
        "  i += 1\n",
        "else:\n",
        "  print(\"i is no longer less than 6\")"
      ]
    },
    {
      "cell_type": "code",
      "execution_count": null,
      "metadata": {
        "id": "zfd3L2ZekC7l"
      },
      "outputs": [],
      "source": []
    },
    {
      "cell_type": "code",
      "execution_count": null,
      "metadata": {
        "colab": {
          "base_uri": "https://localhost:8080/"
        },
        "id": "DQFsCShiLJry",
        "outputId": "50130d4b-35f9-480e-c84e-8b08f296cd3e"
      },
      "outputs": [
        {
          "data": {
            "text/plain": [
              "2"
            ]
          },
          "execution_count": 102,
          "metadata": {},
          "output_type": "execute_result"
        }
      ],
      "source": [
        "len(\"he\")"
      ]
    },
    {
      "cell_type": "code",
      "execution_count": null,
      "metadata": {
        "colab": {
          "base_uri": "https://localhost:8080/"
        },
        "id": "syx1_NhlQH-a",
        "outputId": "ca7ccdc6-0c61-4c96-997e-3c7396f91dcd"
      },
      "outputs": [
        {
          "name": "stdout",
          "output_type": "stream",
          "text": [
            "hello\n"
          ]
        }
      ],
      "source": [
        "print(\"hello\")"
      ]
    },
    {
      "cell_type": "code",
      "execution_count": null,
      "metadata": {
        "colab": {
          "base_uri": "https://localhost:8080/"
        },
        "id": "T_1A7fQsVK9f",
        "outputId": "c43f89c2-f50f-4738-b16e-d07c110cff16"
      },
      "outputs": [
        {
          "name": "stdout",
          "output_type": "stream",
          "text": [
            "Test 1: Valid input\n",
            "Enter a number: 42\n",
            "This will run no matter what.\n",
            "\n",
            "Test 2: Invalid input\n",
            "Enter a number: abc\n",
            "That's not a valid number!\n",
            "This will run no matter what.\n"
          ]
        }
      ],
      "source": [
        "def get_number():\n",
        "    try:\n",
        "        number = int(input(\"Enter a number: \"))  # Try to convert input to an integer\n",
        "    except ValueError:  # If the input can't be converted to an integer\n",
        "        print(\"That's not a valid number!\")\n",
        "    finally:  # This always runs, regardless of what happens\n",
        "        print(\"This will run no matter what.\")\n",
        "\n",
        "# Running the function with a valid number input\n",
        "print(\"Test 1: Valid input\")\n",
        "get_number()  # Example: input 42\n",
        "\n",
        "# Running the function with an invalid number input\n",
        "print(\"\\nTest 2: Invalid input\")\n",
        "get_number()  # Example: input 'abc'\n"
      ]
    },
    {
      "cell_type": "code",
      "execution_count": null,
      "metadata": {
        "colab": {
          "base_uri": "https://localhost:8080/",
          "height": 35
        },
        "id": "wFL6u2tucLDX",
        "outputId": "13f1113e-3e4f-40f9-8560-2cc9e905beb9"
      },
      "outputs": [
        {
          "data": {
            "application/vnd.google.colaboratory.intrinsic+json": {
              "type": "string"
            },
            "text/plain": [
              "'This is a test.'"
            ]
          },
          "execution_count": 107,
          "metadata": {},
          "output_type": "execute_result"
        }
      ],
      "source": [
        " x = \"This is a test.\"\n",
        " x.capitalize()"
      ]
    },
    {
      "cell_type": "code",
      "execution_count": null,
      "metadata": {
        "id": "GiBOh05LdKnC"
      },
      "outputs": [],
      "source": [
        "name = \"Alice\"\n",
        "age = 30\n",
        "print(\"Name: %s, Age: %d\" % (name, age))\n",
        "\n"
      ]
    },
    {
      "cell_type": "code",
      "execution_count": null,
      "metadata": {
        "colab": {
          "base_uri": "https://localhost:8080/"
        },
        "id": "g_MrLbmZdGk4",
        "outputId": "df49a780-e592-4168-f0dd-d91449d09aed"
      },
      "outputs": [
        {
          "data": {
            "text/plain": [
              "['strings']"
            ]
          },
          "execution_count": 10,
          "metadata": {},
          "output_type": "execute_result"
        }
      ],
      "source": [
        "#digit\n",
        "z='strings'\n",
        "\n",
        "z.split(',')"
      ]
    },
    {
      "cell_type": "code",
      "execution_count": null,
      "metadata": {
        "colab": {
          "base_uri": "https://localhost:8080/"
        },
        "id": "pURQpGkIdLlL",
        "outputId": "d1af1b9d-af81-4506-cdbb-b4fc5638b9b9"
      },
      "outputs": [
        {
          "data": {
            "text/plain": [
              "['', 'tring', '']"
            ]
          },
          "execution_count": 11,
          "metadata": {},
          "output_type": "execute_result"
        }
      ],
      "source": [
        "z.split('s')"
      ]
    },
    {
      "cell_type": "code",
      "execution_count": null,
      "metadata": {
        "id": "4wz5Cu7heVqs"
      },
      "outputs": [],
      "source": [
        "def read_file_at_once(filename):\n",
        "    output=[]\n",
        "    with open(filename) as fp:\n",
        "        for line in fp:\n",
        "            output.append(line)\n",
        "\n",
        "    return output"
      ]
    },
    {
      "cell_type": "code",
      "execution_count": null,
      "metadata": {
        "id": "4dASQhYnCqUk"
      },
      "outputs": [],
      "source": [
        "def read_file_with_generator(filename):\n",
        "    with open(filename) as fp:\n",
        "        for line in fp:\n",
        "            yield line"
      ]
    },
    {
      "cell_type": "code",
      "execution_count": null,
      "metadata": {
        "colab": {
          "base_uri": "https://localhost:8080/"
        },
        "id": "d9YLKy7aD6XA",
        "outputId": "c6266806-b7a9-42e1-9bbe-bec985ade83e"
      },
      "outputs": [
        {
          "name": "stdout",
          "output_type": "stream",
          "text": [
            "apple\n",
            "banana\n",
            "cherry\n"
          ]
        }
      ],
      "source": [
        "mytuple = (\"apple\", \"banana\", \"cherry\")\n",
        "myit = iter(mytuple)\n",
        "\n",
        "print(next(myit))\n",
        "print(next(myit))\n",
        "print(next(myit))"
      ]
    },
    {
      "cell_type": "code",
      "execution_count": null,
      "metadata": {
        "colab": {
          "base_uri": "https://localhost:8080/"
        },
        "id": "umZRI1TQEKUQ",
        "outputId": "9933922f-6492-42d9-ee35-3be2c8bdcaf3"
      },
      "outputs": [
        {
          "name": "stdout",
          "output_type": "stream",
          "text": [
            "b\n",
            "a\n",
            "n\n",
            "a\n",
            "n\n",
            "a\n"
          ]
        }
      ],
      "source": [
        "mystr = \"banana\"\n",
        "myit = iter(mystr)\n",
        "\n",
        "print(next(myit))\n",
        "print(next(myit))\n",
        "print(next(myit))\n",
        "print(next(myit))\n",
        "print(next(myit))\n",
        "print(next(myit))"
      ]
    },
    {
      "cell_type": "code",
      "execution_count": null,
      "metadata": {
        "colab": {
          "base_uri": "https://localhost:8080/"
        },
        "id": "zE5KkAsUD60i",
        "outputId": "ab9abe0a-810c-4813-b12e-b8fffbda2ffb"
      },
      "outputs": [
        {
          "data": {
            "text/plain": [
              "1"
            ]
          },
          "execution_count": 25,
          "metadata": {},
          "output_type": "execute_result"
        }
      ],
      "source": [
        "#function has three return lines\n",
        "def f():\n",
        "    return 1\n",
        "    return 2\n",
        "    return 3\n",
        "f()\n",
        "\n",
        "#you would think you get three return lines, but you only get 1 output"
      ]
    },
    {
      "cell_type": "code",
      "execution_count": null,
      "metadata": {
        "colab": {
          "base_uri": "https://localhost:8080/"
        },
        "id": "Y0NEoD9AGA8Z",
        "outputId": "37c89e2e-03a1-4a8c-c99a-182f01d33d9c"
      },
      "outputs": [
        {
          "data": {
            "text/plain": [
              "<generator object g at 0x7cb93956ecf0>"
            ]
          },
          "execution_count": 26,
          "metadata": {},
          "output_type": "execute_result"
        }
      ],
      "source": [
        "#similar function but we use yield instead of return\n",
        "def g():\n",
        "    yield 1\n",
        "    yield 2\n",
        "    yield 3\n",
        "\n",
        "g()\n",
        "#doesn't return a number, instead returns a generator object. Since a generator is a type of iterator, we can loop over g()."
      ]
    },
    {
      "cell_type": "code",
      "execution_count": null,
      "metadata": {
        "colab": {
          "base_uri": "https://localhost:8080/"
        },
        "id": "5goiAjZ-GHcT",
        "outputId": "fb948e3b-94bd-47a4-8b6d-a3519d09e060"
      },
      "outputs": [
        {
          "name": "stdout",
          "output_type": "stream",
          "text": [
            "1\n",
            "2\n",
            "3\n"
          ]
        }
      ],
      "source": [
        "for x in g():\n",
        "    print (x)"
      ]
    },
    {
      "cell_type": "code",
      "execution_count": null,
      "metadata": {
        "colab": {
          "base_uri": "https://localhost:8080/"
        },
        "id": "AnbZnn2zGixZ",
        "outputId": "5c561a60-d0b5-49d4-d84a-fe8bf4ce58ec"
      },
      "outputs": [
        {
          "name": "stdout",
          "output_type": "stream",
          "text": [
            "a\n",
            "b\n",
            "c\n",
            "d\n",
            "e\n",
            "f\n",
            "g\n",
            "h\n",
            "i\n",
            "j\n",
            "k\n",
            "l\n",
            "m\n",
            "n\n",
            "o\n",
            "p\n",
            "q\n",
            "r\n",
            "s\n",
            "t\n",
            "u\n",
            "v\n",
            "w\n",
            "x\n",
            "y\n",
            "z\n"
          ]
        }
      ],
      "source": [
        "import string\n",
        "#write a function that yields each lower-case letter in the English alphabet\n",
        "#instead of typing 26 letters, we'll use string module.\n",
        "\n",
        "def english_letters():\n",
        "    for c in string.ascii_lowercase:\n",
        "        yield c\n",
        "# now loop over this generator\n",
        "for letter in english_letters():\n",
        "    print(letter)"
      ]
    },
    {
      "cell_type": "code",
      "execution_count": null,
      "metadata": {
        "colab": {
          "base_uri": "https://localhost:8080/"
        },
        "id": "AZD1OGSqIeBA",
        "outputId": "7355c840-358d-4bc6-9032-50689397dbf4"
      },
      "outputs": [
        {
          "name": "stdout",
          "output_type": "stream",
          "text": [
            "2\n",
            "3\n",
            "5\n",
            "7\n",
            "11\n",
            "13\n",
            "17\n",
            "19\n",
            "23\n",
            "29\n",
            "31\n",
            "37\n",
            "41\n",
            "43\n",
            "47\n",
            "53\n",
            "59\n",
            "61\n",
            "67\n",
            "71\n",
            "73\n",
            "79\n",
            "83\n",
            "89\n",
            "97\n",
            "101\n"
          ]
        }
      ],
      "source": [
        "import itertools\n",
        "#power of generator: generator that yields all prime numbers\n",
        "#other than 2, all prime numbers are odd, so handle 2 differently\n",
        "#generator will yield 2,, then store it in a list of prime numbers\n",
        "def prime_numbers():\n",
        "    yield 2\n",
        "    prime_cache = [2] #this serves as a cache of the prime numbers\n",
        "\n",
        "#loop over positive, odd integers, starting with 3. to do this, import itertools module. Use count module. Pass in the starting value, and how much to increase by in each step (start with 3, go every 2)\n",
        "    for n in itertools.count(3,2):\n",
        "        is_prime = True #assume n is prime\n",
        "\n",
        "        #test to see if it is divisible by any other numbers in our cache\n",
        "        for p in prime_cache:\n",
        "            if n % p == 0:\n",
        "                is_prime = False\n",
        "                break\n",
        "\n",
        "        #if we finish checking all cache primes, we have found the next prime\n",
        "        if is_prime:\n",
        "            prime_cache.append(n)\n",
        "            yield n\n",
        "\n",
        "for p in prime_numbers():\n",
        "    print (p)\n",
        "    if p > 100:\n",
        "        break #must stop loop\n"
      ]
    },
    {
      "cell_type": "markdown",
      "metadata": {
        "id": "0fuvVLhWJJk_"
      },
      "source": []
    },
    {
      "cell_type": "code",
      "execution_count": null,
      "metadata": {
        "id": "C1sqxGtYLa9x"
      },
      "outputs": [],
      "source": [
        "#Reading a TSV file\n",
        "\n",
        "def read_tsv_files(filename):\n",
        "    with open(filename) as fp:\n",
        "        for line in fp:\n",
        "            line=line.rstrip(\"\\n\") #this strips newline at the end of the line\n",
        "            yield line.split(\"\\t\")"
      ]
    },
    {
      "cell_type": "code",
      "execution_count": null,
      "metadata": {
        "colab": {
          "base_uri": "https://localhost:8080/",
          "height": 35
        },
        "id": "oRhg8rW3MFu5",
        "outputId": "ae23258f-75b0-421a-a7f0-63d5ac9d8c05"
      },
      "outputs": [
        {
          "data": {
            "application/vnd.google.colaboratory.intrinsic+json": {
              "type": "string"
            },
            "text/plain": [
              "'hi, my name, is, Justin Choi'"
            ]
          },
          "execution_count": 38,
          "metadata": {},
          "output_type": "execute_result"
        }
      ],
      "source": [
        "x=\"hi, my name, is, Justin Choi\"\n",
        "x.split('m')\n",
        "x"
      ]
    },
    {
      "cell_type": "code",
      "execution_count": null,
      "metadata": {
        "id": "u-Ixnl1-Mp50"
      },
      "outputs": [],
      "source": [
        "#reading a TSV with a header and yielding contents as dictionaries.\n",
        "def read_tsv_dictionaries(filename):\n",
        "    with open(filename) as fp:\n",
        "        def parse_line(line):\n",
        "            return line.rstrip(\"\\n\"),split(\"\\t\")\n",
        "\n",
        "        header= parse_line(next(fp))\n",
        "        for line in fp:\n",
        "            line = parse_line(line)\n",
        "            yield dict(zip(header, line))"
      ]
    },
    {
      "cell_type": "code",
      "execution_count": null,
      "metadata": {
        "id": "Ba3rOMdtP91w"
      },
      "outputs": [],
      "source": [
        "def write_tsv(filename, column_names, rows):\n",
        "    with open(filename, \"w\") as fp:\n",
        "        def write_line(row):\n",
        "            fp.write(\"\\t\".join(str(v) for v in row) + \"\\n\")\n",
        "\n",
        "        write_line(column_names)\n",
        "        for row in rows:\n",
        "            write_line(row)"
      ]
    },
    {
      "cell_type": "code",
      "execution_count": null,
      "metadata": {
        "colab": {
          "base_uri": "https://localhost:8080/",
          "height": 35
        },
        "id": "23847e5MQGsq",
        "outputId": "6872a2ec-dba6-4e63-fc31-d98e853263e5"
      },
      "outputs": [
        {
          "data": {
            "application/vnd.google.colaboratory.intrinsic+json": {
              "type": "string"
            },
            "text/plain": [
              "'a\\tb\\tc'"
            ]
          },
          "execution_count": 40,
          "metadata": {},
          "output_type": "execute_result"
        }
      ],
      "source": [
        "\"\\t\".join([\"a\", \"b\", \"c\"])"
      ]
    },
    {
      "cell_type": "code",
      "execution_count": null,
      "metadata": {
        "id": "pSBGfZ7lRKjP"
      },
      "outputs": [],
      "source": [
        "import csv\n",
        "with open(\"test.csv\", \"w\") as test_fp:\n",
        "    test_writer = csv.writer(test_fp)\n",
        "    test_writer.writerow([\"hi\", \"hello, and goobye\"])"
      ]
    },
    {
      "cell_type": "code",
      "execution_count": null,
      "metadata": {
        "colab": {
          "base_uri": "https://localhost:8080/"
        },
        "id": "8E_EmNdUSsK9",
        "outputId": "130900d5-51e0-42e2-a099-da8bf7043fc9"
      },
      "outputs": [
        {
          "name": "stdout",
          "output_type": "stream",
          "text": [
            "hi,\"hello, and goobye\"\n",
            "\n"
          ]
        }
      ],
      "source": [
        "with open(\"test.csv\") as test_fp:\n",
        "    for l in test_fp:\n",
        "        print(l)"
      ]
    },
    {
      "cell_type": "code",
      "execution_count": null,
      "metadata": {
        "colab": {
          "base_uri": "https://localhost:8080/"
        },
        "id": "f2EvN6g-TLYJ",
        "outputId": "6a3ec810-7ba3-48b9-8557-6ad4ec99d383"
      },
      "outputs": [
        {
          "name": "stdout",
          "output_type": "stream",
          "text": [
            "hi,5,42.0,bye\n",
            "\n"
          ]
        }
      ],
      "source": [
        "def test_csv(row):\n",
        "    with open(\"test.csv\", \"w\") as test_fp:\n",
        "        test_writer = csv.writer(test_fp)\n",
        "        test_writer.writerow(row)\n",
        "    with open(\"test.csv\") as test_fp:\n",
        "        for l in test_fp:\n",
        "            print(l)\n",
        "\n",
        "\n",
        "test_csv([\"hi\",5,42.0,\"bye\"])"
      ]
    },
    {
      "cell_type": "code",
      "execution_count": null,
      "metadata": {
        "id": "cUkX2xE_UBHO"
      },
      "outputs": [],
      "source": []
    },
    {
      "cell_type": "markdown",
      "metadata": {
        "id": "kpxSoQy7ferS"
      },
      "source": [
        "# Week 3 Scope Notes"
      ]
    },
    {
      "cell_type": "code",
      "execution_count": null,
      "metadata": {
        "colab": {
          "base_uri": "https://localhost:8080/"
        },
        "id": "K5jiE0DCfitU",
        "outputId": "446d9c44-e466-4ea5-dc94-0829e7d383d6"
      },
      "outputs": [
        {
          "name": "stdout",
          "output_type": "stream",
          "text": [
            "300\n"
          ]
        }
      ],
      "source": [
        "def myfunc():\n",
        "  x = 300\n",
        "  def myinnerfunc():\n",
        "    print(x)\n",
        "  return myinnerfunc()\n",
        "\n",
        "myfunc()\n"
      ]
    },
    {
      "cell_type": "code",
      "execution_count": null,
      "metadata": {
        "colab": {
          "base_uri": "https://localhost:8080/"
        },
        "id": "oDelQjO5fmpK",
        "outputId": "13d06e29-cab6-4cb6-e34c-c8bf06cdae62"
      },
      "outputs": [
        {
          "name": "stdout",
          "output_type": "stream",
          "text": [
            "10\n",
            "300\n"
          ]
        }
      ],
      "source": [
        "x = 300\n",
        "\n",
        "def myfunc():\n",
        "  x=10\n",
        "  print(x)\n",
        "\n",
        "myfunc()\n",
        "\n",
        "print(x)"
      ]
    },
    {
      "cell_type": "code",
      "execution_count": null,
      "metadata": {
        "colab": {
          "base_uri": "https://localhost:8080/"
        },
        "id": "b3eVvko6f6ZN",
        "outputId": "dee16fc8-2a26-4493-e6fd-1eda5e72ff1c"
      },
      "outputs": [
        {
          "data": {
            "text/plain": [
              "<_io.TextIOWrapper name='my_file.txt' mode='w' encoding='UTF-8'>"
            ]
          },
          "execution_count": 6,
          "metadata": {},
          "output_type": "execute_result"
        }
      ],
      "source": [
        "f = open(\"my_file.txt\", \"w\")\n",
        "f.write(\"This is some text.\")\n",
        "f.close()\n",
        "\n",
        "f"
      ]
    },
    {
      "cell_type": "code",
      "execution_count": null,
      "metadata": {
        "colab": {
          "base_uri": "https://localhost:8080/"
        },
        "id": "YxlvZDZjouBx",
        "outputId": "dacc9030-a04e-4207-a90b-d20194b85384"
      },
      "outputs": [
        {
          "name": "stdout",
          "output_type": "stream",
          "text": [
            "35.82\n"
          ]
        }
      ],
      "source": [
        "print(str(35.82))"
      ]
    },
    {
      "cell_type": "code",
      "execution_count": null,
      "metadata": {
        "colab": {
          "base_uri": "https://localhost:8080/",
          "height": 106
        },
        "id": "hqCT8kKtsmHj",
        "outputId": "e6962d67-a53a-4777-e6e9-ea8b47802d54"
      },
      "outputs": [
        {
          "ename": "SyntaxError",
          "evalue": "invalid syntax (<ipython-input-11-a7100c4cfb6a>, line 1)",
          "output_type": "error",
          "traceback": [
            "\u001b[0;36m  File \u001b[0;32m\"<ipython-input-11-a7100c4cfb6a>\"\u001b[0;36m, line \u001b[0;32m1\u001b[0m\n\u001b[0;31m    demofile.txt= text(Hello! Welcome to demofile.txt\u001b[0m\n\u001b[0m                            ^\u001b[0m\n\u001b[0;31mSyntaxError\u001b[0m\u001b[0;31m:\u001b[0m invalid syntax\n"
          ]
        }
      ],
      "source": [
        "\n"
      ]
    },
    {
      "cell_type": "code",
      "execution_count": null,
      "metadata": {
        "id": "d7rFOBi4yrQR"
      },
      "outputs": [],
      "source": []
    },
    {
      "cell_type": "markdown",
      "metadata": {
        "id": "zcnQNFq02PPr"
      },
      "source": [
        "# Week 4 Python File Handling"
      ]
    },
    {
      "cell_type": "code",
      "execution_count": null,
      "metadata": {
        "colab": {
          "base_uri": "https://localhost:8080/",
          "height": 159
        },
        "id": "q0gM-EBP2Q3V",
        "outputId": "69fb6bc8-8841-4a00-c2d9-7072a27a4ad7"
      },
      "outputs": [
        {
          "ename": "UnsupportedOperation",
          "evalue": "not readable",
          "output_type": "error",
          "traceback": [
            "\u001b[0;31m---------------------------------------------------------------------------\u001b[0m",
            "\u001b[0;31mUnsupportedOperation\u001b[0m                      Traceback (most recent call last)",
            "\u001b[0;32m<ipython-input-14-ad40efb7fb00>\u001b[0m in \u001b[0;36m<cell line: 0>\u001b[0;34m()\u001b[0m\n\u001b[1;32m      1\u001b[0m \u001b[0mf\u001b[0m \u001b[0;34m=\u001b[0m \u001b[0mopen\u001b[0m\u001b[0;34m(\u001b[0m\u001b[0;34m\"myfile.txt\"\u001b[0m\u001b[0;34m,\u001b[0m \u001b[0;34m\"w\"\u001b[0m\u001b[0;34m)\u001b[0m\u001b[0;34m\u001b[0m\u001b[0;34m\u001b[0m\u001b[0m\n\u001b[0;32m----> 2\u001b[0;31m \u001b[0mprint\u001b[0m\u001b[0;34m(\u001b[0m\u001b[0mf\u001b[0m\u001b[0;34m.\u001b[0m\u001b[0mread\u001b[0m\u001b[0;34m(\u001b[0m\u001b[0;34m)\u001b[0m\u001b[0;34m)\u001b[0m\u001b[0;34m\u001b[0m\u001b[0;34m\u001b[0m\u001b[0m\n\u001b[0m",
            "\u001b[0;31mUnsupportedOperation\u001b[0m: not readable"
          ]
        }
      ],
      "source": [
        "f = open(\"myfile.txt\", \"w\")\n",
        "print(f.read())"
      ]
    },
    {
      "cell_type": "code",
      "execution_count": null,
      "metadata": {
        "colab": {
          "base_uri": "https://localhost:8080/"
        },
        "id": "gH6gUdN32RUX",
        "outputId": "06394287-7f4a-4b47-8a22-4b1ecd673207"
      },
      "outputs": [
        {
          "name": "stdout",
          "output_type": "stream",
          "text": [
            "name: John\n",
            "age: 30\n",
            "city: New York\n"
          ]
        }
      ],
      "source": [
        "data = \"name=John;age=30;city=New York\"\n",
        "pairs = data.split(\";\")\n",
        "for pair in pairs:\n",
        "    key, value = pair.split(\"=\")\n",
        "    print(f\"{key}: {value}\")"
      ]
    },
    {
      "cell_type": "code",
      "execution_count": null,
      "metadata": {
        "id": "CVau35XH9DLE"
      },
      "outputs": [],
      "source": [
        "def write_tsv(filename, column_names, rows):\n",
        "    with open(filename, \"w\") as fp:\n",
        "        def write_line(row):\n",
        "            fp.write(\"\\t\".join(str(v) for v in row) + \"\\n\")\n",
        "\n",
        "        write_line(column_names)\n",
        "        for row in rows:\n",
        "            write_line(row)"
      ]
    },
    {
      "cell_type": "code",
      "execution_count": null,
      "metadata": {
        "id": "SjV1--qZMBqr"
      },
      "outputs": [],
      "source": [
        "import csv\n",
        "\n",
        "def read_mango_data(filename):\n",
        "    with open(filename) as file:\n",
        "        reader = csv.DictReader(file, dialect=\"excel-tab\")\n",
        "        for row in reader:\n",
        "            for column_name in row:\n",
        "                if column_name != \"mango_id\":\n",
        "                    try:\n",
        "                        row[column_name] = float(row[column_name])\n",
        "                    except:\n",
        "                        row[column_name] = None\n",
        "\n",
        "            yield row"
      ]
    },
    {
      "cell_type": "code",
      "execution_count": null,
      "metadata": {
        "colab": {
          "base_uri": "https://localhost:8080/"
        },
        "id": "foAov4ixkHFI",
        "outputId": "7a5df5aa-5f62-40f6-e926-4ec901cd6436"
      },
      "outputs": [
        {
          "name": "stdout",
          "output_type": "stream",
          "text": [
            "--2025-02-13 23:06:39--  https://raw.githubusercontent.com/bu-cds-omds/dx601-examples/main/data/mango-tiny.tsv\n",
            "Resolving raw.githubusercontent.com (raw.githubusercontent.com)... 185.199.108.133, 185.199.109.133, 185.199.110.133, ...\n",
            "Connecting to raw.githubusercontent.com (raw.githubusercontent.com)|185.199.108.133|:443... connected.\n",
            "HTTP request sent, awaiting response... 200 OK\n",
            "Length: 207 [text/plain]\n",
            "Saving to: ‘mango-tiny.tsv’\n",
            "\n",
            "mango-tiny.tsv      100%[===================>]     207  --.-KB/s    in 0s      \n",
            "\n",
            "2025-02-13 23:06:40 (6.33 MB/s) - ‘mango-tiny.tsv’ saved [207/207]\n",
            "\n"
          ]
        }
      ],
      "source": [
        "!wget https://raw.githubusercontent.com/bu-cds-omds/dx601-examples/main/data/mango-tiny.tsv"
      ]
    },
    {
      "cell_type": "code",
      "execution_count": null,
      "metadata": {
        "colab": {
          "base_uri": "https://localhost:8080/"
        },
        "id": "Nato4atLkIXt",
        "outputId": "ec842621-c459-4882-fb38-41dc4be72193"
      },
      "outputs": [
        {
          "name": "stdout",
          "output_type": "stream",
          "text": [
            "green_rating\tyellow_rating\tsoftness\twrinkles\testimated_flavor\testimated_sweetness\trated_flavor\n",
            "1\t5\t4\t0\t4\t4\t5\n",
            "1\t5\t5\t1\t5\t5\t1\n",
            "2\t4\t3\t1\t3\t3\t3\n",
            "3\t3\t2\t0\t2\t1\t2\n",
            "5\t1\t1\t1\t1\t1\t1\n",
            "4\t2\t1\t1\t1\t1\t1\n",
            "5\t1\t1\t1\t2\t1\t1\n",
            "3\t3\t2\t1\t2\t2\t2\n"
          ]
        }
      ],
      "source": [
        "!head mango-tiny.tsv"
      ]
    },
    {
      "cell_type": "code",
      "execution_count": null,
      "metadata": {
        "colab": {
          "base_uri": "https://localhost:8080/"
        },
        "id": "CfvJFIbNiKUK",
        "outputId": "72f40acb-328c-4278-e3f5-b30948d68442"
      },
      "outputs": [
        {
          "name": "stdout",
          "output_type": "stream",
          "text": [
            "{'green_rating': '1', 'yellow_rating': '5', 'softness': '4', 'wrinkles': '0', 'estimated_flavor': '4', 'estimated_sweetness': '4', 'rated_flavor': '5'}\n"
          ]
        }
      ],
      "source": [
        "import csv\n",
        "with open(\"mango-tiny.tsv\") as file:\n",
        "    reader = csv.DictReader(file, dialect=\"excel-tab\")\n",
        "    data = list(reader)\n",
        "    print(data[0])"
      ]
    },
    {
      "cell_type": "code",
      "execution_count": null,
      "metadata": {
        "colab": {
          "base_uri": "https://localhost:8080/"
        },
        "id": "cFVw3GDJj_Vj",
        "outputId": "29f54852-9091-434b-d25f-80d6f26fd001"
      },
      "outputs": [
        {
          "name": "stdout",
          "output_type": "stream",
          "text": [
            "{\"config\": {\"important\": true, \"purple_factor\": 0.9, \"exceptions\": [\"brown\", \"red\"]}}\n"
          ]
        },
        {
          "data": {
            "text/plain": [
              "{'config': {'important': True,\n",
              "  'purple_factor': 0.9,\n",
              "  'exceptions': ['brown', 'red']}}"
            ]
          },
          "execution_count": 34,
          "metadata": {},
          "output_type": "execute_result"
        }
      ],
      "source": [
        "import json\n",
        "\n",
        "data= {\"config\": {\"important\": True, \"purple_factor\": 0.9, \"exceptions\":[\"brown\", \"red\"]}}\n",
        "\n",
        "#to write a file, open the file for writing and call json.dump\n",
        "with open(\"test.json\", \"w\") as file:\n",
        "    json.dump(data, file)\n",
        "\n",
        "#look at what this wrote out\n",
        "with open(\"test.json\", \"r\") as file:\n",
        "    for line in file:\n",
        "        print(line)\n",
        "\n",
        "#let's read it back\n",
        "with open(\"test.json\") as file:\n",
        "    new_data=json.load(file) #converting the json file to python dictionary\n",
        "new_data\n",
        "\n"
      ]
    },
    {
      "cell_type": "code",
      "execution_count": null,
      "metadata": {
        "colab": {
          "base_uri": "https://localhost:8080/"
        },
        "id": "rSdqOOi4nxtb",
        "outputId": "6c398b5f-e96e-4773-e166-9a80b4a1ac6b"
      },
      "outputs": [
        {
          "name": "stdout",
          "output_type": "stream",
          "text": [
            "{\"config\": {\"important\": true, \"purple_factor\": 0.9, \"exceptions\": [\"brown\", \"red\"]}}\n"
          ]
        }
      ],
      "source": [
        "data_json=json.dumps(data)\n",
        "print(data_json)"
      ]
    },
    {
      "cell_type": "code",
      "execution_count": null,
      "metadata": {
        "colab": {
          "base_uri": "https://localhost:8080/"
        },
        "id": "r-24ONaspRlZ",
        "outputId": "4aa1c42f-afc1-40be-be7f-74cfbd7bc47a"
      },
      "outputs": [
        {
          "data": {
            "text/plain": [
              "{'config': {'important': True,\n",
              "  'purple_factor': 0.9,\n",
              "  'exceptions': ['brown', 'red']}}"
            ]
          },
          "execution_count": 36,
          "metadata": {},
          "output_type": "execute_result"
        }
      ],
      "source": [
        "json.loads(data_json)"
      ]
    },
    {
      "cell_type": "code",
      "execution_count": null,
      "metadata": {
        "colab": {
          "base_uri": "https://localhost:8080/"
        },
        "id": "1rJm_1e1pYNs",
        "outputId": "1338a000-1251-4eef-8323-4bf18ecb4710"
      },
      "outputs": [
        {
          "name": "stdout",
          "output_type": "stream",
          "text": [
            "<_csv.writer object at 0x7e7923650ee0>\n"
          ]
        }
      ],
      "source": [
        "import csv\n",
        "\n",
        "with open(\"test.csv\", \"w\") as test_fp:\n",
        "    test_writer = csv.writer(test_fp)\n",
        "    test_writer.writerow([\"hi\", \"hello, and goodbye\"])\n",
        "\n",
        "print(test_writer)"
      ]
    },
    {
      "cell_type": "code",
      "execution_count": null,
      "metadata": {
        "colab": {
          "base_uri": "https://localhost:8080/"
        },
        "id": "Kft_ydRy1q_7",
        "outputId": "9f54df27-a0c9-4397-aeb3-90f05ef935ae"
      },
      "outputs": [
        {
          "name": "stdout",
          "output_type": "stream",
          "text": [
            "<map object at 0x7eabb3f2ee30>\n"
          ]
        }
      ],
      "source": [
        "a = [1, 2, 3]\n",
        "b = [4, 5, 6]\n",
        "res = map(lambda x, y: x + y, a, b)\n",
        "print(res)"
      ]
    },
    {
      "cell_type": "code",
      "execution_count": null,
      "metadata": {
        "colab": {
          "base_uri": "https://localhost:8080/",
          "height": 472
        },
        "id": "qgosX0jHdlKa",
        "outputId": "8689f0ca-2bfd-4989-b981-f3daecfd1d59"
      },
      "outputs": [
        {
          "data": {
            "image/png": "[encoded data removed]",
            "text/plain": [
              "<Figure size 640x480 with 1 Axes>"
            ]
          },
          "metadata": {},
          "output_type": "display_data"
        }
      ],
      "source": [
        "import matplotlib.pyplot as plt\n",
        "\n",
        "x = [1, 2, 3, 4, 5]\n",
        "y = [10, 20, 25, 30, 50]\n",
        "sizes = [20, 40, 60, 80, 100]  # Varying point sizes\n",
        "colors = ['red', 'blue', 'green', 'purple', 'orange']  # Different colors\n",
        "\n",
        "plt.scatter(x, y, s=sizes, c=colors, alpha=0.7, edgecolors='black')\n",
        "plt.xlabel('X-axis')\n",
        "plt.ylabel('Y-axis')\n",
        "plt.title('Scatter Plot Example')\n",
        "plt.show()"
      ]
    },
    {
      "cell_type": "code",
      "execution_count": null,
      "metadata": {
        "colab": {
          "base_uri": "https://localhost:8080/",
          "height": 452
        },
        "id": "FCOvR-aUk9bb",
        "outputId": "e293cfda-570d-4115-d279-b88661e773b8"
      },
      "outputs": [
        {
          "data": {
            "image/png": "[encoded data removed]",
            "text/plain": [
              "<Figure size 640x480 with 1 Axes>"
            ]
          },
          "metadata": {},
          "output_type": "display_data"
        }
      ],
      "source": [
        "import matplotlib.pyplot as plt\n",
        "\n",
        "days = [1, 2, 3, 4, 5, 6, 7]\n",
        "daily_mangos = [3, 1, 1, 4, 5, 6, 7]\n",
        "\n",
        "\n",
        "daily_papayas = [1, 1, 0, 3, 2, 1, 0]\n",
        "\n",
        "plt.bar(days, daily_mangos, label=\"mangos\")\n",
        "plt.bar(days, daily_papayas, label=\"papayas\")\n",
        "plt.legend()\n",
        "plt.title(\"Daily Fruit Consumption\")\n",
        "None"
      ]
    },
    {
      "cell_type": "code",
      "execution_count": null,
      "metadata": {
        "colab": {
          "base_uri": "https://localhost:8080/",
          "height": 469
        },
        "id": "dh976C-yp2t_",
        "outputId": "802c8b46-77ad-49d0-b220-b2649340b304"
      },
      "outputs": [
        {
          "data": {
            "text/plain": [
              "Text(0.5, 1.0, 'Daily Fruit Consumption')"
            ]
          },
          "execution_count": 1,
          "metadata": {},
          "output_type": "execute_result"
        },
        {
          "data": {
            "image/png": "[encoded data removed]",
            "text/plain": [
              "<Figure size 640x480 with 1 Axes>"
            ]
          },
          "metadata": {},
          "output_type": "display_data"
        }
      ],
      "source": [
        "import matplotlib.pyplot as plt\n",
        "\n",
        "days = [1, 2, 3, 4, 5, 6, 7]\n",
        "daily_mangos = [3, 1, 1, 4, 5, 6, 7]\n",
        "\n",
        "plt.bar(days, daily_mangos, label=\"mangos\")\n",
        "plt.legend()\n",
        "plt.title(\"Daily Fruit Consumption\")"
      ]
    },
    {
      "cell_type": "code",
      "execution_count": null,
      "metadata": {
        "colab": {
          "base_uri": "https://localhost:8080/",
          "height": 469
        },
        "id": "27xJh9T5Ur52",
        "outputId": "18b36eeb-6602-4ad9-b2b5-25d258017648"
      },
      "outputs": [
        {
          "data": {
            "text/plain": [
              "Text(0.5, 1.0, 'Daily Fruit Consumption')"
            ]
          },
          "execution_count": 2,
          "metadata": {},
          "output_type": "execute_result"
        },
        {
          "data": {
            "image/png": "[encoded data removed]",
            "text/plain": [
              "<Figure size 640x480 with 1 Axes>"
            ]
          },
          "metadata": {},
          "output_type": "display_data"
        }
      ],
      "source": [
        "daily_papayas = [1, 1, 0, 3, 2, 1, 0]\n",
        "\n",
        "plt.bar(days, daily_mangos, label=\"mangos\")\n",
        "plt.bar(days, daily_papayas, label=\"papayas\", bottom=daily_mangos)\n",
        "plt.legend()\n",
        "plt.title(\"Daily Fruit Consumption\")"
      ]
    },
    {
      "cell_type": "code",
      "execution_count": null,
      "metadata": {
        "colab": {
          "base_uri": "https://localhost:8080/",
          "height": 447
        },
        "id": "UnxR_t8nVKs3",
        "outputId": "7e91656e-b2e1-4fb5-8093-c885dab0eed9"
      },
      "outputs": [
        {
          "name": "stdout",
          "output_type": "stream",
          "text": [
            "Axes(0.125,0.11;0.775x0.77)\n"
          ]
        },
        {
          "data": {
            "image/png": "[encoded data removed]",
            "text/plain": [
              "<Figure size 640x480 with 1 Axes>"
            ]
          },
          "metadata": {},
          "output_type": "display_data"
        }
      ],
      "source": [
        "import matplotlib.pyplot as plt\n",
        "import numpy as np\n",
        "\n",
        "x = np.linspace(0, 10, 100)\n",
        "y = np.sin(x)\n",
        "\n",
        "plt.plot(x, y)  # Create a plot\n",
        "ax = plt.gca()  # Get current axes\n",
        "\n",
        "print(ax)  # Prints information about the Axes object\n",
        "plt.show()"
      ]
    },
    {
      "cell_type": "code",
      "execution_count": null,
      "metadata": {
        "colab": {
          "base_uri": "https://localhost:8080/",
          "height": 472
        },
        "id": "KyPXvHOWljO8",
        "outputId": "74f519ec-f2b7-4780-fbb3-29be1d4106bc"
      },
      "outputs": [
        {
          "data": {
            "image/png": "[encoded data removed]",
            "text/plain": [
              "<Figure size 640x480 with 1 Axes>"
            ]
          },
          "metadata": {},
          "output_type": "display_data"
        }
      ],
      "source": [
        "ax = plt.gca()\n",
        "ax.set_title(\"Sine Wave\")\n",
        "ax.set_xlabel(\"Time\")\n",
        "ax.set_ylabel(\"Amplitude\")\n",
        "ax.set_xlim(0, 10)\n",
        "ax.set_ylim(-1.5, 1.5)\n",
        "plt.show()"
      ]
    },
    {
      "cell_type": "code",
      "execution_count": null,
      "metadata": {
        "id": "Ywvl_gT1mYdL"
      },
      "outputs": [],
      "source": [
        "ax.grid(True)  # Enable grid\n",
        "ax.xaxis.label.set_color('red')  # Change x-label color\n",
        "ax.yaxis.label.set_fontsize(14)"
      ]
    },
    {
      "cell_type": "code",
      "execution_count": null,
      "metadata": {
        "colab": {
          "base_uri": "https://localhost:8080/",
          "height": 452
        },
        "id": "cRJ6CYCumb5A",
        "outputId": "70fd11db-cd1f-43e8-b928-bd4a99993522"
      },
      "outputs": [
        {
          "data": {
            "image/png": "[encoded data removed]",
            "text/plain": [
              "<Figure size 640x480 with 2 Axes>"
            ]
          },
          "metadata": {},
          "output_type": "display_data"
        }
      ],
      "source": [
        "import matplotlib.pyplot as plt\n",
        "\n",
        "fig, ax = plt.subplots(2, 1)  # Two subplots\n",
        "\n",
        "ax[0].plot([1, 2, 3], [4, 5, 6])\n",
        "ax[0].set_title(\"First Plot\")\n",
        "\n",
        "ax[1].plot([1, 2, 3], [6, 5, 4])\n",
        "ax[1].set_title(\"Second Plot\")\n",
        "\n",
        "plt.show()"
      ]
    },
    {
      "cell_type": "code",
      "execution_count": null,
      "metadata": {
        "colab": {
          "base_uri": "https://localhost:8080/",
          "height": 452
        },
        "id": "_Bf-mMlGnKqH",
        "outputId": "9d975e2c-fea6-4379-b037-199d1da9e2d0"
      },
      "outputs": [
        {
          "data": {
            "image/png": "[encoded data removed]",
            "text/plain": [
              "<Figure size 640x480 with 1 Axes>"
            ]
          },
          "metadata": {},
          "output_type": "display_data"
        }
      ],
      "source": [
        "import matplotlib.pyplot as plt\n",
        "\n",
        "plt.plot([1, 2, 3], [4, 5, 6])\n",
        "plt.title(\"Global Title\")  # Adds title to the current plot\n",
        "plt.show()"
      ]
    },
    {
      "cell_type": "code",
      "execution_count": null,
      "metadata": {
        "colab": {
          "base_uri": "https://localhost:8080/",
          "height": 430
        },
        "id": "npibzc2mnMpy",
        "outputId": "ee3bcb29-9149-4a42-ee9f-002c9aa65a74"
      },
      "outputs": [
        {
          "data": {
            "image/png": "[encoded data removed]",
            "text/plain": [
              "<Figure size 640x480 with 1 Axes>"
            ]
          },
          "metadata": {},
          "output_type": "display_data"
        }
      ],
      "source": [
        "fig, ax = plt.subplots()\n",
        "ax.plot([1, 2, 3, 4], [10, 20, 25, 30])\n",
        "\n",
        "ax.hlines(y=20, xmin=1, xmax=3, color='g', linestyle='-.', linewidth=2)  # Green dash-dot line from x=1 to x=3\n",
        "ax.hlines(y=25, xmin=2, xmax=4, color='m', linestyle=':', linewidth=2)  # Magenta dotted line from x=2 to x=4\n",
        "\n",
        "plt.show()"
      ]
    },
    {
      "cell_type": "code",
      "execution_count": null,
      "metadata": {
        "colab": {
          "base_uri": "https://localhost:8080/",
          "height": 430
        },
        "id": "fuDkTVfD5cU8",
        "outputId": "12b716c1-0085-416e-b5ec-3ae028b02ae5"
      },
      "outputs": [
        {
          "data": {
            "image/png": "[encoded data removed]",
            "text/plain": [
              "<Figure size 640x480 with 1 Axes>"
            ]
          },
          "metadata": {},
          "output_type": "display_data"
        }
      ],
      "source": [
        "import matplotlib.pyplot as plt\n",
        "\n",
        "fig, ax = plt.subplots()\n",
        "ax.plot([1, 2, 3, 4], [10, 20, 25, 30])\n",
        "\n",
        "ax.axhline(y=20, color='r', linestyle='--', linewidth=2)  # Red dashed line across full width\n",
        "ax.axhline(y=15, xmin=0.2, xmax=0.8, color='b', linewidth=3)  # Blue line from 20% to 80% of x-axis\n",
        "\n",
        "plt.show()"
      ]
    },
    {
      "cell_type": "code",
      "execution_count": null,
      "metadata": {
        "colab": {
          "base_uri": "https://localhost:8080/",
          "height": 489
        },
        "id": "iRe113Sg5euv",
        "outputId": "cccc764c-e5f1-4f6d-c1fe-00d5390507ac"
      },
      "outputs": [
        {
          "data": {
            "text/plain": [
              "Text(0.5, 1.0, 'mystery #4')"
            ]
          },
          "execution_count": 13,
          "metadata": {},
          "output_type": "execute_result"
        },
        {
          "data": {
            "image/png": "[encoded data removed]",
            "text/plain": [
              "<Figure size 640x480 with 1 Axes>"
            ]
          },
          "metadata": {},
          "output_type": "display_data"
        }
      ],
      "source": [
        "plt.plot(1, 2, label=\"mystery #1\")\n",
        "plt.xlabel(\"mystery #2\")\n",
        "plt.ylabel(\"mystery #3\")\n",
        "plt.title(\"mystery #4\")"
      ]
    },
    {
      "cell_type": "code",
      "execution_count": null,
      "metadata": {
        "id": "jBXQkTN5BxUk"
      },
      "outputs": [],
      "source": [
        "import math\n",
        "\n",
        "q7y = [i / 500 for i in range(1000)]\n",
        "q7x = [math.sqrt(1 - (y - 1)**2) for y in q7y]"
      ]
    },
    {
      "cell_type": "code",
      "execution_count": null,
      "metadata": {
        "colab": {
          "base_uri": "https://localhost:8080/",
          "height": 624
        },
        "id": "JEyQZ7bW9pa8",
        "outputId": "7bd14774-9f3b-42ae-b4de-6d76b17bf51b"
      },
      "outputs": [
        {
          "ename": "TypeError",
          "evalue": "bad operand type for unary -: 'list'",
          "output_type": "error",
          "traceback": [
            "\u001b[0;31m---------------------------------------------------------------------------\u001b[0m",
            "\u001b[0;31mTypeError\u001b[0m                                 Traceback (most recent call last)",
            "\u001b[0;32m<ipython-input-20-9f6450dd4f50>\u001b[0m in \u001b[0;36m<cell line: 0>\u001b[0;34m()\u001b[0m\n\u001b[1;32m      6\u001b[0m \u001b[0;34m\u001b[0m\u001b[0m\n\u001b[1;32m      7\u001b[0m \u001b[0;31m# 2. Horizontally flipped data (-x, y)\u001b[0m\u001b[0;34m\u001b[0m\u001b[0;34m\u001b[0m\u001b[0m\n\u001b[0;32m----> 8\u001b[0;31m \u001b[0max\u001b[0m\u001b[0;34m.\u001b[0m\u001b[0mscatter\u001b[0m\u001b[0;34m(\u001b[0m\u001b[0;34m-\u001b[0m\u001b[0mq7x\u001b[0m\u001b[0;34m,\u001b[0m \u001b[0mq7y\u001b[0m\u001b[0;34m,\u001b[0m \u001b[0mlabel\u001b[0m\u001b[0;34m=\u001b[0m\u001b[0;34m'Flipped Horizontally'\u001b[0m\u001b[0;34m)\u001b[0m\u001b[0;34m\u001b[0m\u001b[0;34m\u001b[0m\u001b[0m\n\u001b[0m\u001b[1;32m      9\u001b[0m \u001b[0;34m\u001b[0m\u001b[0m\n\u001b[1;32m     10\u001b[0m \u001b[0;31m# Add labels and legend\u001b[0m\u001b[0;34m\u001b[0m\u001b[0;34m\u001b[0m\u001b[0m\n",
            "\u001b[0;31mTypeError\u001b[0m: bad operand type for unary -: 'list'"
          ]
        },
        {
          "data": {
            "image/png": "[encoded data removed]",
            "text/plain": [
              "<Figure size 640x480 with 1 Axes>"
            ]
          },
          "metadata": {},
          "output_type": "display_data"
        }
      ],
      "source": []
    },
    {
      "cell_type": "code",
      "execution_count": null,
      "metadata": {
        "colab": {
          "base_uri": "https://localhost:8080/",
          "height": 447
        },
        "id": "a4Tpp7VvBsc0",
        "outputId": "1b7af87f-75b2-450a-b64f-01c921f368ae"
      },
      "outputs": [
        {
          "data": {
            "text/plain": [
              "(-2.0, 5.0)"
            ]
          },
          "execution_count": 22,
          "metadata": {},
          "output_type": "execute_result"
        },
        {
          "data": {
            "image/png": "[encoded data removed]",
            "text/plain": [
              "<Figure size 640x480 with 2 Axes>"
            ]
          },
          "metadata": {},
          "output_type": "display_data"
        }
      ],
      "source": [
        "import matplotlib.pyplot as plt\n",
        "import numpy as np\n",
        "\n",
        "t = np.arange(0.0, 2.0, 0.01)\n",
        "s1 = np.sin(2*np.pi*t)\n",
        "s2 = np.sin(4*np.pi*t)\n",
        "\n",
        "plt.figure(1)\n",
        "plt.subplot(211)\n",
        "plt.plot(t, s1)\n",
        "plt.xlim(0,1.5)\n",
        "plt.subplot(212)\n",
        "plt.plot(t, 2*s1)\n",
        "plt.ylim(-2,5)\n"
      ]
    },
    {
      "cell_type": "code",
      "execution_count": null,
      "metadata": {
        "colab": {
          "base_uri": "https://localhost:8080/",
          "height": 447
        },
        "id": "bt8NF8s1GWAH",
        "outputId": "22e91a12-801f-4e58-acda-818736380e50"
      },
      "outputs": [
        {
          "data": {
            "text/plain": [
              "(-2.0, 5.0)"
            ]
          },
          "execution_count": 24,
          "metadata": {},
          "output_type": "execute_result"
        },
        {
          "data": {
            "image/png": "[encoded data removed]",
            "text/plain": [
              "<Figure size 640x480 with 2 Axes>"
            ]
          },
          "metadata": {},
          "output_type": "display_data"
        }
      ],
      "source": [
        "import matplotlib.pyplot as plt\n",
        "import numpy as np\n",
        "\n",
        "t = np.arange(0.0, 2.0, 0.01)\n",
        "s1 = np.sin(2*np.pi*t)\n",
        "\n",
        "\n",
        "fig, ax = plt.subplots(2, 1)\n",
        "ax[0].plot(t, s1)\n",
        "ax[0].set_xlim(0,1.5)\n",
        "ax[1].plot(t, 2*s1)\n",
        "ax[1].set_ylim(-2,5)\n",
        "\n"
      ]
    },
    {
      "cell_type": "code",
      "execution_count": null,
      "metadata": {
        "id": "u2m-ZTIdGbzj"
      },
      "outputs": [],
      "source": []
    },
    {
      "cell_type": "markdown",
      "metadata": {
        "id": "OHyVNheDUC7f"
      },
      "source": [
        "#  Week 4 etc.. Reading and Writing Files (txt, tsv, csv) scratchwork\n"
      ]
    },
    {
      "cell_type": "code",
      "execution_count": null,
      "metadata": {
        "colab": {
          "base_uri": "https://localhost:8080/"
        },
        "id": "wV8II41DUGuF",
        "outputId": "13036ff7-8624-4e3f-da97-60fc6a792e46"
      },
      "outputs": [
        {
          "name": "stdout",
          "output_type": "stream",
          "text": [
            "3.14159265\n"
          ]
        }
      ],
      "source": [
        "with open('test_digits_pi.txt', 'w') as file:\n",
        "    file.write(\"3.14159265\")\n",
        "\n",
        "with open('test_digits_pi.txt', 'r') as file:\n",
        "        print(file.read())\n",
        "\n"
      ]
    },
    {
      "cell_type": "code",
      "execution_count": null,
      "metadata": {
        "colab": {
          "base_uri": "https://localhost:8080/"
        },
        "id": "5_heGw85USjm",
        "outputId": "b35e79b2-851a-481f-b734-ee61f9909186"
      },
      "outputs": [
        {
          "name": "stdout",
          "output_type": "stream",
          "text": [
            "Hello, World!\n",
            "This is a text file.\n",
            "Let's learn how to read and write files.\n"
          ]
        }
      ],
      "source": [
        "# Writing to a text file\n",
        "with open('example.txt', 'w') as file:\n",
        "    file.write(\"Hello, World!\\n\")\n",
        "    file.write(\"This is a text file.\\n\")\n",
        "    file.write(\"Let's learn how to read and write files.\")\n",
        "\n",
        "# Reading from a text file\n",
        "with open('example.txt', 'r') as file:\n",
        "    content = file.read()\n",
        "    print(content)\n"
      ]
    },
    {
      "cell_type": "code",
      "execution_count": null,
      "metadata": {
        "colab": {
          "base_uri": "https://localhost:8080/"
        },
        "id": "NnB8N6rJU3iC",
        "outputId": "2d30023a-73be-4241-8ae8-b8ad9a3c0aa3"
      },
      "outputs": [
        {
          "name": "stdout",
          "output_type": "stream",
          "text": [
            "Reading TSV File:\n",
            "['Name', 'Age', 'City']\n",
            "['Alice', '30', 'New York']\n",
            "['Bob', '25', 'Los Angeles']\n",
            "['Charlie', '35', 'Chicago']\n",
            "\n",
            "Parsing TSV Data:\n",
            "{'Name': 'Alice', 'Age': '30', 'City': 'New York'}\n",
            "{'Name': 'Bob', 'Age': '25', 'City': 'Los Angeles'}\n",
            "{'Name': 'Charlie', 'Age': '35', 'City': 'Chicago'}\n"
          ]
        }
      ],
      "source": [
        "import csv\n",
        "\n",
        "# Sample data to write\n",
        "data = [\n",
        "    [\"Name\", \"Age\", \"City\"],\n",
        "    [\"Alice\", \"30\", \"New York\"],\n",
        "    [\"Bob\", \"25\", \"Los Angeles\"],\n",
        "    [\"Charlie\", \"35\", \"Chicago\"]\n",
        "]\n",
        "\n",
        "# Writing to a TSV file\n",
        "with open('example.tsv', 'w', newline='') as file:\n",
        "    writer = csv.writer(file, delimiter='\\t')\n",
        "    writer.writerows(data)\n",
        "\n",
        "# Reading from a TSV file\n",
        "print(\"Reading TSV File:\")\n",
        "with open('example.tsv', 'r') as file:\n",
        "    reader = csv.reader(file, delimiter='\\t')\n",
        "    for row in reader:\n",
        "        print(row)\n",
        "\n",
        "# Parsing TSV data into a list of dictionaries\n",
        "print(\"\\nParsing TSV Data:\")\n",
        "with open('example.tsv', 'r') as file:\n",
        "    reader = csv.DictReader(file, delimiter='\\t')\n",
        "    for row in reader:\n",
        "        print(row)  # Each row is a dictionary\n"
      ]
    },
    {
      "cell_type": "code",
      "execution_count": null,
      "metadata": {
        "colab": {
          "base_uri": "https://localhost:8080/"
        },
        "id": "y1jc6PQkV5Ou",
        "outputId": "80dfdf4e-8fa2-4155-a3e6-cd2bda2508f6"
      },
      "outputs": [
        {
          "name": "stdout",
          "output_type": "stream",
          "text": [
            "writing a new example tsv file:\n",
            "reading this example tsv file\n",
            "['Name', 'Age', 'City']\n",
            "['Alice', '30', 'New York']\n",
            "['Bob', '25', 'Los Angeles']\n",
            "['Charlie', '35', 'Chicago']\n",
            "parsing this tsv file into a dictionary\n",
            "[{'Name': 'Alice', 'Age': '30', 'City': 'New York'}, {'Name': 'Bob', 'Age': '25', 'City': 'Los Angeles'}, {'Name': 'Charlie', 'Age': '35', 'City': 'Chicago'}]\n",
            "{'Name': 'Alice', 'Age': '30', 'City': 'New York'}\n",
            "{'Name': 'Bob', 'Age': '25', 'City': 'Los Angeles'}\n",
            "{'Name': 'Charlie', 'Age': '35', 'City': 'Chicago'}\n"
          ]
        }
      ],
      "source": [
        "\n",
        "data = [['Name', 'Age', 'City'], ['Alice', '30', 'New York'], ['Bob', '25', 'Los Angeles'], ['Charlie', '35', 'Chicago']]\n",
        "\n",
        "\n",
        "#writing to a tsv file:\n",
        "print(\"writing a new example tsv file:\")\n",
        "with open ('example.tsv', 'w', newline = '') as file:\n",
        "    for row in data:\n",
        "        file.write('\\t'.join(row) + ('\\n')) #join the elements with a tab and add a new line\n",
        "\n",
        "print(\"reading this example tsv file\")\n",
        "with open('example.tsv' , 'r') as file:\n",
        "    for line in file:\n",
        "        lines=line.strip().split('\\t') #strip whitespace and split by tab\n",
        "        print(lines)\n",
        "\n",
        "print(\"parsing this tsv file into a dictionary\")\n",
        "with open('example.tsv' , 'r') as file:\n",
        "    header = file.readline().strip().split('\\t') #reading the header\n",
        "    data_list = [] #making a new list of the files without header\n",
        "\n",
        "    for line in file:\n",
        "        values = line.strip().split('\\t')\n",
        "        entry = {header[i]: values[i] for i in range(len(header))}\n",
        "        data_list.append(entry)\n",
        "\n",
        "print(data_list)\n",
        "for dict in data_list:\n",
        "    print(dict)\n",
        "\n"
      ]
    },
    {
      "cell_type": "code",
      "execution_count": null,
      "metadata": {
        "colab": {
          "base_uri": "https://localhost:8080/"
        },
        "id": "vXpdJt0gX_bb",
        "outputId": "1702d841-44f6-4cab-ebca-d84c1be88ba2"
      },
      "outputs": [
        {
          "name": "stdout",
          "output_type": "stream",
          "text": [
            "['Name', 'Age', 'City']\n",
            "['Alice', '30', 'New York']\n",
            "['Bob', '25', 'Los Angeles']\n",
            "['Charlie', '35', 'Chicago']\n",
            "[{'Name': 'Alice', 'Age': '30', 'City': 'New York'}, {'Name': 'Bob', 'Age': '25', 'City': 'Los Angeles'}, {'Name': 'Charlie', 'Age': '35', 'City': 'Chicago'}]\n"
          ]
        }
      ],
      "source": [
        "import csv\n",
        "\n",
        "# Sample data to write\n",
        "data = [\n",
        "    [\"Name\", \"Age\", \"City\"],\n",
        "    [\"Alice\", \"30\", \"New York\"],\n",
        "    [\"Bob\", \"25\", \"Los Angeles\"],\n",
        "    [\"Charlie\", \"35\", \"Chicago\"]\n",
        "]\n",
        "\n",
        "with open('example.tsv' , 'w', newline = '') as file:\n",
        "    writer = csv.writer(file, delimiter = '\\t')\n",
        "    writer.writerows(data)\n",
        "\n",
        "with open('example.tsv', 'r') as file:\n",
        "    reader = csv.reader(file, delimiter = '\\t')\n",
        "    for rows in reader:\n",
        "        print(rows)\n",
        "\n",
        "with open('example.tsv', 'r') as file:\n",
        "    reader=csv.DictReader(file, delimiter = '\\t')\n",
        "    data_list = [row for row in reader]\n",
        "    print(data_list)"
      ]
    },
    {
      "cell_type": "code",
      "execution_count": null,
      "metadata": {
        "colab": {
          "base_uri": "https://localhost:8080/",
          "height": 211
        },
        "id": "HpcXwvq4fmf7",
        "outputId": "a0d48284-677a-442e-e052-0dbbb34ee218"
      },
      "outputs": [
        {
          "ename": "TypeError",
          "evalue": "'int' object is not iterable",
          "output_type": "error",
          "traceback": [
            "\u001b[0;31m---------------------------------------------------------------------------\u001b[0m",
            "\u001b[0;31mTypeError\u001b[0m                                 Traceback (most recent call last)",
            "\u001b[0;32m<ipython-input-44-8c698a49d7d8>\u001b[0m in \u001b[0;36m<cell line: 0>\u001b[0;34m()\u001b[0m\n\u001b[1;32m     17\u001b[0m     \u001b[0mheader\u001b[0m\u001b[0;34m=\u001b[0m\u001b[0mnext\u001b[0m\u001b[0;34m(\u001b[0m\u001b[0mreader\u001b[0m\u001b[0;34m)\u001b[0m\u001b[0;34m\u001b[0m\u001b[0;34m\u001b[0m\u001b[0m\n\u001b[1;32m     18\u001b[0m     \u001b[0;32mfor\u001b[0m \u001b[0mindex\u001b[0m\u001b[0;34m,\u001b[0m\u001b[0mcolumn_name\u001b[0m \u001b[0;32min\u001b[0m \u001b[0menumerate\u001b[0m\u001b[0;34m(\u001b[0m\u001b[0mheader\u001b[0m\u001b[0;34m)\u001b[0m\u001b[0;34m:\u001b[0m\u001b[0;34m\u001b[0m\u001b[0;34m\u001b[0m\u001b[0m\n\u001b[0;32m---> 19\u001b[0;31m         \u001b[0mprint\u001b[0m\u001b[0;34m(\u001b[0m\u001b[0mzip\u001b[0m\u001b[0;34m(\u001b[0m\u001b[0mindex\u001b[0m\u001b[0;34m,\u001b[0m\u001b[0mcolumn_name\u001b[0m\u001b[0;34m)\u001b[0m\u001b[0;34m)\u001b[0m\u001b[0;34m\u001b[0m\u001b[0;34m\u001b[0m\u001b[0m\n\u001b[0m\u001b[1;32m     20\u001b[0m \u001b[0;34m\u001b[0m\u001b[0m\n\u001b[1;32m     21\u001b[0m \u001b[0;34m\u001b[0m\u001b[0m\n",
            "\u001b[0;31mTypeError\u001b[0m: 'int' object is not iterable"
          ]
        }
      ],
      "source": [
        "import csv\n",
        "\n",
        "# Sample data to write\n",
        "data = [\n",
        "    [\"Name\", \"Age\", \"City\"],\n",
        "    [\"Alice\", \"30\", \"New York\"],\n",
        "    [\"Bob\", \"25\", \"Los Angeles\"],\n",
        "    [\"Charlie\", \"35\", \"Chicago\"]\n",
        "]\n",
        "\n",
        "with open('example.csv', 'w', newline='') as file:\n",
        "    writer=csv.writer(file)\n",
        "    writer.writerows(data)\n",
        "\n",
        "with open('example.csv', 'r') as file:\n",
        "    reader = csv.reader(file)\n",
        "    header=next(reader)\n",
        "    for index,column_name in enumerate(header):\n",
        "        print(zip(index,column_name))\n",
        "\n",
        "\n",
        "with open('example.csv', 'r') as file:\n",
        "    reader=csv.DictReader(file)\n",
        "\n"
      ]
    },
    {
      "cell_type": "code",
      "execution_count": null,
      "metadata": {
        "colab": {
          "base_uri": "https://localhost:8080/"
        },
        "id": "S-4YLoA2i5ug",
        "outputId": "9d628f97-d255-4c31-c783-2870efee8f29"
      },
      "outputs": [
        {
          "name": "stdout",
          "output_type": "stream",
          "text": [
            "['Spam', 'Spam', 'Spam', 'Spam', 'Spam', 'Baked Beans']\n",
            "['Spam', 'Lovely Spam', 'Wonderful Spam']\n"
          ]
        }
      ],
      "source": [
        "import csv\n",
        "\n",
        "with open('eggs.csv', 'w', newline='') as csvfile:\n",
        "    spamwriter = csv.writer(csvfile, delimiter = ',', quotechar='|', quoting=csv.QUOTE_MINIMAL)\n",
        "    spamwriter.writerow(['Spam'] * 5 + ['Baked Beans'])\n",
        "    spamwriter.writerow(['Spam', 'Lovely Spam', 'Wonderful Spam'])\n",
        "\n",
        "with open('eggs.csv') as filename:\n",
        "    reader=csv.reader(filename)\n",
        "    for rows in reader:\n",
        "        print(rows)"
      ]
    },
    {
      "cell_type": "code",
      "execution_count": null,
      "metadata": {
        "colab": {
          "base_uri": "https://localhost:8080/"
        },
        "id": "psv8WUYDlgnr",
        "outputId": "4e673db3-de17-41ac-eac4-ef768fdf42d5"
      },
      "outputs": [
        {
          "name": "stdout",
          "output_type": "stream",
          "text": [
            "['one', 'two', 'three']\n"
          ]
        }
      ],
      "source": [
        "import csv\n",
        "for row in csv.reader(['one,two,three']):\n",
        "    print(row)"
      ]
    },
    {
      "cell_type": "code",
      "execution_count": null,
      "metadata": {
        "colab": {
          "base_uri": "https://localhost:8080/",
          "height": 245
        },
        "id": "lbqxrAZx1ZdK",
        "outputId": "ec506b1e-883f-4a35-81d6-642c044275e2"
      },
      "outputs": [
        {
          "name": "stdout",
          "output_type": "stream",
          "text": [
            "a\n",
            "b\n",
            "c\n",
            "d\n"
          ]
        },
        {
          "ename": "NameError",
          "evalue": "name 'keys' is not defined",
          "output_type": "error",
          "traceback": [
            "\u001b[0;31m---------------------------------------------------------------------------\u001b[0m",
            "\u001b[0;31mNameError\u001b[0m                                 Traceback (most recent call last)",
            "\u001b[0;32m<ipython-input-22-b02d75efa551>\u001b[0m in \u001b[0;36m<cell line: 0>\u001b[0;34m()\u001b[0m\n\u001b[1;32m      6\u001b[0m     \u001b[0mprint\u001b[0m\u001b[0;34m(\u001b[0m\u001b[0mitem\u001b[0m\u001b[0;34m)\u001b[0m\u001b[0;34m\u001b[0m\u001b[0;34m\u001b[0m\u001b[0m\n\u001b[1;32m      7\u001b[0m \u001b[0;34m\u001b[0m\u001b[0m\n\u001b[0;32m----> 8\u001b[0;31m \u001b[0mkeys\u001b[0m\u001b[0;34m(\u001b[0m\u001b[0mdict\u001b[0m\u001b[0;34m)\u001b[0m\u001b[0;34m\u001b[0m\u001b[0;34m\u001b[0m\u001b[0m\n\u001b[0m",
            "\u001b[0;31mNameError\u001b[0m: name 'keys' is not defined"
          ]
        }
      ],
      "source": [
        "dict={'a':1, 'b':2, 'c':3, 'd':4}\n",
        "list(dict)\n",
        "len(dict)\n",
        "iter(dict)\n",
        "for item in list(dict):\n",
        "    print(item)\n",
        "\n",
        "keys(dict)"
      ]
    },
    {
      "cell_type": "code",
      "execution_count": null,
      "metadata": {
        "colab": {
          "base_uri": "https://localhost:8080/",
          "height": 211
        },
        "id": "2f6Z3S2V1vUJ",
        "outputId": "2091f9c2-4b22-4ecf-9317-96d5b932b232"
      },
      "outputs": [
        {
          "ename": "FileNotFoundError",
          "evalue": "[Errno 2] No such file or directory: 'data.tsv'",
          "output_type": "error",
          "traceback": [
            "\u001b[0;31m---------------------------------------------------------------------------\u001b[0m",
            "\u001b[0;31mFileNotFoundError\u001b[0m                         Traceback (most recent call last)",
            "\u001b[0;32m<ipython-input-23-f3bb0a0f48b2>\u001b[0m in \u001b[0;36m<cell line: 0>\u001b[0;34m()\u001b[0m\n\u001b[0;32m----> 1\u001b[0;31m \u001b[0;32mwith\u001b[0m \u001b[0mopen\u001b[0m\u001b[0;34m(\u001b[0m\u001b[0;34m'data.tsv'\u001b[0m\u001b[0;34m)\u001b[0m \u001b[0;32mas\u001b[0m \u001b[0mfile\u001b[0m\u001b[0;34m:\u001b[0m\u001b[0;34m\u001b[0m\u001b[0;34m\u001b[0m\u001b[0m\n\u001b[0m\u001b[1;32m      2\u001b[0m     \u001b[0mheader\u001b[0m\u001b[0;34m=\u001b[0m\u001b[0mfile\u001b[0m\u001b[0;34m.\u001b[0m\u001b[0mreadline\u001b[0m\u001b[0;34m(\u001b[0m\u001b[0;34m)\u001b[0m\u001b[0;34m.\u001b[0m\u001b[0mstrip\u001b[0m\u001b[0;34m(\u001b[0m\u001b[0;34m)\u001b[0m\u001b[0;34m.\u001b[0m\u001b[0msplit\u001b[0m\u001b[0;34m(\u001b[0m\u001b[0;34m'\\t'\u001b[0m\u001b[0;34m)\u001b[0m\u001b[0;34m\u001b[0m\u001b[0;34m\u001b[0m\u001b[0m\n\u001b[1;32m      3\u001b[0m     \u001b[0mdata_list\u001b[0m\u001b[0;34m=\u001b[0m\u001b[0;34m[\u001b[0m\u001b[0;34m]\u001b[0m\u001b[0;34m\u001b[0m\u001b[0;34m\u001b[0m\u001b[0m\n\u001b[1;32m      4\u001b[0m     \u001b[0;32mfor\u001b[0m \u001b[0mline\u001b[0m \u001b[0;32min\u001b[0m \u001b[0mfile\u001b[0m\u001b[0;34m:\u001b[0m\u001b[0;34m\u001b[0m\u001b[0;34m\u001b[0m\u001b[0m\n\u001b[1;32m      5\u001b[0m         \u001b[0mvalues\u001b[0m\u001b[0;34m=\u001b[0m\u001b[0mline\u001b[0m\u001b[0;34m.\u001b[0m\u001b[0mstrip\u001b[0m\u001b[0;34m(\u001b[0m\u001b[0;34m)\u001b[0m\u001b[0;34m.\u001b[0m\u001b[0msplit\u001b[0m\u001b[0;34m(\u001b[0m\u001b[0;34m'\\t'\u001b[0m\u001b[0;34m)\u001b[0m\u001b[0;34m\u001b[0m\u001b[0;34m\u001b[0m\u001b[0m\n",
            "\u001b[0;31mFileNotFoundError\u001b[0m: [Errno 2] No such file or directory: 'data.tsv'"
          ]
        }
      ],
      "source": [
        "with open('data.tsv') as file:\n",
        "    header=file.readline().strip().split('\\t')\n",
        "    data_list=[]\n",
        "    for line in file:\n",
        "        values=line.strip().split('\\t')\n",
        "        row_dict=dict(zip(header,values))\n",
        "        data_list.append(row_dict)\n",
        "\n",
        "\n"
      ]
    },
    {
      "cell_type": "code",
      "execution_count": null,
      "metadata": {
        "colab": {
          "base_uri": "https://localhost:8080/",
          "height": 193
        },
        "id": "8hSJvv3k9SOR",
        "outputId": "2b10528c-c34f-41b3-b4e6-0d52e43870d6"
      },
      "outputs": [
        {
          "ename": "FileNotFoundError",
          "evalue": "[Errno 2] No such file or directory: 'messy.csv'",
          "output_type": "error",
          "traceback": [
            "\u001b[0;31m---------------------------------------------------------------------------\u001b[0m",
            "\u001b[0;31mFileNotFoundError\u001b[0m                         Traceback (most recent call last)",
            "\u001b[0;32m<ipython-input-24-a4f725cd840a>\u001b[0m in \u001b[0;36m<cell line: 0>\u001b[0;34m()\u001b[0m\n\u001b[0;32m----> 1\u001b[0;31m \u001b[0;32mwith\u001b[0m \u001b[0mopen\u001b[0m\u001b[0;34m(\u001b[0m\u001b[0;34m'messy.csv'\u001b[0m\u001b[0;34m)\u001b[0m \u001b[0;32mas\u001b[0m \u001b[0mfile\u001b[0m\u001b[0;34m:\u001b[0m\u001b[0;34m\u001b[0m\u001b[0;34m\u001b[0m\u001b[0m\n\u001b[0m\u001b[1;32m      2\u001b[0m     \u001b[0mheader\u001b[0m\u001b[0;34m=\u001b[0m\u001b[0mfile\u001b[0m\u001b[0;34m.\u001b[0m\u001b[0mreadline\u001b[0m\u001b[0;34m(\u001b[0m\u001b[0;34m)\u001b[0m\u001b[0;34m.\u001b[0m\u001b[0mstrip\u001b[0m\u001b[0;34m(\u001b[0m\u001b[0;34m)\u001b[0m\u001b[0;34m.\u001b[0m\u001b[0msplit\u001b[0m\u001b[0;34m(\u001b[0m\u001b[0;34m'\\t'\u001b[0m\u001b[0;34m)\u001b[0m\u001b[0;34m\u001b[0m\u001b[0;34m\u001b[0m\u001b[0m\n\u001b[1;32m      3\u001b[0m     \u001b[0mvalues\u001b[0m\u001b[0;34m=\u001b[0m\u001b[0mfile\u001b[0m\u001b[0;34m.\u001b[0m\u001b[0mreadlines\u001b[0m\u001b[0;34m(\u001b[0m\u001b[0;34m)\u001b[0m\u001b[0;34m.\u001b[0m\u001b[0mstrip\u001b[0m\u001b[0;34m(\u001b[0m\u001b[0;34m)\u001b[0m\u001b[0;34m.\u001b[0m\u001b[0msplit\u001b[0m\u001b[0;34m(\u001b[0m\u001b[0;34m'\\t'\u001b[0m\u001b[0;34m)\u001b[0m\u001b[0;34m\u001b[0m\u001b[0;34m\u001b[0m\u001b[0m\n\u001b[1;32m      4\u001b[0m     \u001b[0mnew_dict\u001b[0m\u001b[0;34m=\u001b[0m\u001b[0mdict\u001b[0m\u001b[0;34m(\u001b[0m\u001b[0mzip\u001b[0m\u001b[0;34m(\u001b[0m\u001b[0mheader\u001b[0m\u001b[0;34m,\u001b[0m\u001b[0mvalues\u001b[0m\u001b[0;34m)\u001b[0m\u001b[0;34m)\u001b[0m\u001b[0;34m\u001b[0m\u001b[0;34m\u001b[0m\u001b[0m\n",
            "\u001b[0;31mFileNotFoundError\u001b[0m: [Errno 2] No such file or directory: 'messy.csv'"
          ]
        }
      ],
      "source": [
        "with open('messy.csv') as file:\n",
        "    header=file.readline().strip().split('\\t')\n",
        "    values=file.readlines().strip().split('\\t')\n",
        "    new_dict=dict(zip(header,values))"
      ]
    },
    {
      "cell_type": "code",
      "execution_count": null,
      "metadata": {
        "id": "cSnPVBUX99EG"
      },
      "outputs": [],
      "source": [
        "with open(filename, 'w') as file:\n",
        "    headers = [row.keys() for row in data]\n",
        "    file.write(','.join(headers) + '\\n')\n",
        "    file.write()"
      ]
    },
    {
      "cell_type": "code",
      "execution_count": null,
      "metadata": {
        "id": "yRSE5VKJsGcY"
      },
      "outputs": [],
      "source": []
    },
    {
      "cell_type": "markdown",
      "metadata": {
        "id": "fdT4L-XWsGxC"
      },
      "source": [
        "# Week 6 NumPy and Arrays"
      ]
    },
    {
      "cell_type": "code",
      "execution_count": null,
      "metadata": {
        "colab": {
          "base_uri": "https://localhost:8080/"
        },
        "id": "26KA1ef7sIkw",
        "outputId": "14f083ed-d56f-4296-ffff-a0b287dfede2"
      },
      "outputs": [
        {
          "name": "stdout",
          "output_type": "stream",
          "text": [
            "[1 2 3 4 5]\n",
            "[[1 2 3]\n",
            " [4 5 6]]\n"
          ]
        }
      ],
      "source": [
        "import numpy as np\n",
        "a = np.array([1, 2, 3, 4, 5])  # 1D array\n",
        "b = np.array([[1, 2, 3], [4, 5, 6]])  # 2D array\n",
        "print(a)\n",
        "print(b)"
      ]
    },
    {
      "cell_type": "code",
      "execution_count": null,
      "metadata": {
        "colab": {
          "base_uri": "https://localhost:8080/"
        },
        "id": "P3dgfN2psJAs",
        "outputId": "93d9a445-2ac6-48c4-a643-69d4c35c40cd"
      },
      "outputs": [
        {
          "name": "stdout",
          "output_type": "stream",
          "text": [
            "Python List Time: 0.009401082992553711\n",
            "NumPy Array Time: 0.0013895034790039062\n"
          ]
        }
      ],
      "source": [
        "import numpy as np\n",
        "import time\n",
        "\n",
        "# Python list\n",
        "lst = list(range(1000000))\n",
        "start = time.time()\n",
        "sum(lst)\n",
        "end = time.time()\n",
        "print(\"Python List Time:\", end - start)\n",
        "\n",
        "# NumPy array\n",
        "arr = np.array(lst)\n",
        "start = time.time()\n",
        "np.sum(arr)\n",
        "end = time.time()\n",
        "print(\"NumPy Array Time:\", end - start)"
      ]
    },
    {
      "cell_type": "code",
      "execution_count": null,
      "metadata": {
        "colab": {
          "base_uri": "https://localhost:8080/",
          "height": 35
        },
        "id": "v-p_d1lesu22",
        "outputId": "ea0cf275-ca3c-4a35-f944-be24ba6aed9a"
      },
      "outputs": [
        {
          "data": {
            "application/vnd.google.colaboratory.intrinsic+json": {
              "type": "string"
            },
            "text/plain": [
              "'1.26.4'"
            ]
          },
          "execution_count": 3,
          "metadata": {},
          "output_type": "execute_result"
        }
      ],
      "source": [
        "np.__version__"
      ]
    },
    {
      "cell_type": "code",
      "execution_count": null,
      "metadata": {
        "id": "bK0RpveHvWaM"
      },
      "outputs": [],
      "source": [
        "import numpy as np\n"
      ]
    },
    {
      "cell_type": "code",
      "execution_count": null,
      "metadata": {
        "colab": {
          "base_uri": "https://localhost:8080/"
        },
        "id": "ySBXxpGHxGFY",
        "outputId": "19bdd910-1a0f-4411-b1f1-13945c22c843"
      },
      "outputs": [
        {
          "data": {
            "text/plain": [
              "array([1, 2, 3])"
            ]
          },
          "execution_count": 8,
          "metadata": {},
          "output_type": "execute_result"
        }
      ],
      "source": [
        "my_data_array=np.array([1,2,3])\n",
        "my_data_array\n"
      ]
    },
    {
      "cell_type": "code",
      "execution_count": null,
      "metadata": {
        "colab": {
          "base_uri": "https://localhost:8080/"
        },
        "id": "h5S0HPvTxKfW",
        "outputId": "78e63781-4751-4569-eafc-a83633f49a89"
      },
      "outputs": [
        {
          "data": {
            "text/plain": [
              "dtype('int64')"
            ]
          },
          "execution_count": 7,
          "metadata": {},
          "output_type": "execute_result"
        }
      ],
      "source": [
        "my_data_array.dtype"
      ]
    },
    {
      "cell_type": "code",
      "execution_count": null,
      "metadata": {
        "colab": {
          "base_uri": "https://localhost:8080/"
        },
        "id": "5_Sl1CfLxO-_",
        "outputId": "1f4d9dcf-322f-4b0f-b63b-b4b965d49c76"
      },
      "outputs": [
        {
          "data": {
            "text/plain": [
              "(3,)"
            ]
          },
          "execution_count": 9,
          "metadata": {},
          "output_type": "execute_result"
        }
      ],
      "source": [
        "my_data_array.shape #The shape has one size, so this array is 1-dimensional, and has length 3 along that dimension."
      ]
    },
    {
      "cell_type": "code",
      "execution_count": null,
      "metadata": {
        "colab": {
          "base_uri": "https://localhost:8080/"
        },
        "id": "FrDPo4aZxRBB",
        "outputId": "8a5e4723-3e95-42e7-fd10-d2bdc4164d72"
      },
      "outputs": [
        {
          "data": {
            "text/plain": [
              "1"
            ]
          },
          "execution_count": 10,
          "metadata": {},
          "output_type": "execute_result"
        }
      ],
      "source": [
        "my_data_array[0]"
      ]
    },
    {
      "cell_type": "code",
      "execution_count": null,
      "metadata": {
        "colab": {
          "base_uri": "https://localhost:8080/"
        },
        "id": "aiHASywTxz30",
        "outputId": "baadc0b7-683f-4382-dc4a-3a6ea51ecd52"
      },
      "outputs": [
        {
          "data": {
            "text/plain": [
              "2"
            ]
          },
          "execution_count": 11,
          "metadata": {},
          "output_type": "execute_result"
        }
      ],
      "source": [
        "my_data_array[1]"
      ]
    },
    {
      "cell_type": "code",
      "execution_count": null,
      "metadata": {
        "colab": {
          "base_uri": "https://localhost:8080/"
        },
        "id": "sx_6GASrx1MP",
        "outputId": "62f7c709-50fb-4acc-899c-cafbfef24852"
      },
      "outputs": [
        {
          "data": {
            "text/plain": [
              "3"
            ]
          },
          "execution_count": 13,
          "metadata": {},
          "output_type": "execute_result"
        }
      ],
      "source": [
        "my_data_array[-1]"
      ]
    },
    {
      "cell_type": "code",
      "execution_count": null,
      "metadata": {
        "colab": {
          "base_uri": "https://localhost:8080/"
        },
        "id": "wlWIREYLx2wg",
        "outputId": "3121bb9d-da13-4f33-8e35-e2ba0864422f"
      },
      "outputs": [
        {
          "name": "stdout",
          "output_type": "stream",
          "text": [
            "[1. 2. 3.]\n",
            "float64\n",
            "(3,)\n"
          ]
        }
      ],
      "source": [
        "my_data_array=np.array([1.0,2.0,3.0])\n",
        "print(my_data_array)\n",
        "print(my_data_array.dtype)\n",
        "print(my_data_array.shape)"
      ]
    },
    {
      "cell_type": "code",
      "execution_count": null,
      "metadata": {
        "colab": {
          "base_uri": "https://localhost:8080/"
        },
        "id": "t5Qbg6d8yP5j",
        "outputId": "fe493fd5-f429-4059-b1d2-c1bd676b5329"
      },
      "outputs": [
        {
          "name": "stdout",
          "output_type": "stream",
          "text": [
            "[1. 2. 3.]\n",
            "float64\n"
          ]
        }
      ],
      "source": [
        "my_data_array = np.array([1, 2, 3.0])\n",
        "print(my_data_array)\n",
        "print(my_data_array.dtype)"
      ]
    },
    {
      "cell_type": "code",
      "execution_count": null,
      "metadata": {
        "colab": {
          "base_uri": "https://localhost:8080/"
        },
        "id": "vI-V4nP0zpw3",
        "outputId": "1baf23f1-9caf-449c-e5c5-a0dae05b531a"
      },
      "outputs": [
        {
          "name": "stdout",
          "output_type": "stream",
          "text": [
            "[[1 2]\n",
            " [3 4]\n",
            " [5 6]]\n",
            "int64\n",
            "(3, 2)\n"
          ]
        }
      ],
      "source": [
        "data=np.array([[1,2], [3,4], [5,6]])\n",
        "print(data)\n",
        "print(data.dtype)\n",
        "print(data.shape)"
      ]
    },
    {
      "cell_type": "code",
      "execution_count": null,
      "metadata": {
        "colab": {
          "base_uri": "https://localhost:8080/"
        },
        "id": "a8IAgGhW0LyO",
        "outputId": "f0495501-7a09-475b-8d58-a40c3f3b4bd6"
      },
      "outputs": [
        {
          "name": "stdout",
          "output_type": "stream",
          "text": [
            "[1, 2]\n",
            "[3, 4]\n"
          ]
        }
      ],
      "source": [
        "data_list=[[1,2], [3,4], [5,6]]\n",
        "print(data_list[0])\n",
        "print(data_list[1])"
      ]
    },
    {
      "cell_type": "code",
      "execution_count": null,
      "metadata": {
        "colab": {
          "base_uri": "https://localhost:8080/"
        },
        "id": "1Q8hYCR_0soA",
        "outputId": "77229c9a-a63c-424c-a148-5d94ce1c0058"
      },
      "outputs": [
        {
          "name": "stdout",
          "output_type": "stream",
          "text": [
            "[1 2]\n",
            "[3 4]\n"
          ]
        }
      ],
      "source": [
        "print(data[0])\n",
        "print(data[1])"
      ]
    },
    {
      "cell_type": "code",
      "execution_count": null,
      "metadata": {
        "colab": {
          "base_uri": "https://localhost:8080/"
        },
        "id": "Tkilk-XO06XA",
        "outputId": "a10b1ce8-4147-44c4-9e0d-a9bb92bace8d"
      },
      "outputs": [
        {
          "data": {
            "text/plain": [
              "array([[1, 2],\n",
              "       [3, 4],\n",
              "       [5, 6]])"
            ]
          },
          "execution_count": 27,
          "metadata": {},
          "output_type": "execute_result"
        }
      ],
      "source": [
        "data_asarray = np.asarray([[1,2], [3,4], [5,6]])\n",
        "data_asarray"
      ]
    },
    {
      "cell_type": "code",
      "execution_count": null,
      "metadata": {
        "colab": {
          "base_uri": "https://localhost:8080/"
        },
        "id": "hhrRpfqp2miO",
        "outputId": "b5a16e5e-bcef-4bdf-ebf2-6d23715706df"
      },
      "outputs": [
        {
          "data": {
            "text/plain": [
              "array([[1, 2],\n",
              "       [3, 4],\n",
              "       [5, 6]])"
            ]
          },
          "execution_count": 28,
          "metadata": {},
          "output_type": "execute_result"
        }
      ],
      "source": [
        "data_array=np.array([[1,2], [3,4], [5,6]])\n",
        "data_array"
      ]
    },
    {
      "cell_type": "code",
      "execution_count": null,
      "metadata": {
        "colab": {
          "base_uri": "https://localhost:8080/"
        },
        "id": "aeFB-CuB2rQS",
        "outputId": "b0c77dd1-0076-4cc2-c5d2-e0bc1534fa22"
      },
      "outputs": [
        {
          "data": {
            "text/plain": [
              "array([1.2, 1.2, 1.2, 1.2, 1.2, 1.2, 1.2, 1.2, 1.2, 1.2])"
            ]
          },
          "execution_count": 29,
          "metadata": {},
          "output_type": "execute_result"
        }
      ],
      "source": [
        "np.array([1.2 for i in range(10)])"
      ]
    },
    {
      "cell_type": "code",
      "execution_count": null,
      "metadata": {
        "colab": {
          "base_uri": "https://localhost:8080/"
        },
        "id": "BVlYgTGY4OnT",
        "outputId": "4b48123b-be83-451a-83c7-64283fb24988"
      },
      "outputs": [
        {
          "data": {
            "text/plain": [
              "array([0, 1, 2, 3, 4, 5, 6, 7, 8, 9])"
            ]
          },
          "execution_count": 30,
          "metadata": {},
          "output_type": "execute_result"
        }
      ],
      "source": [
        "np.array(range(10))"
      ]
    },
    {
      "cell_type": "code",
      "execution_count": null,
      "metadata": {
        "colab": {
          "base_uri": "https://localhost:8080/"
        },
        "id": "F98FzyBS4sv5",
        "outputId": "a9db843e-127e-4c94-f43a-d7873aaf5ac3"
      },
      "outputs": [
        {
          "data": {
            "text/plain": [
              "array(<generator object <genexpr> at 0x7dfd4ec40450>, dtype=object)"
            ]
          },
          "execution_count": 31,
          "metadata": {},
          "output_type": "execute_result"
        }
      ],
      "source": [
        "np.array(i for i in range(10))"
      ]
    },
    {
      "cell_type": "code",
      "execution_count": null,
      "metadata": {
        "colab": {
          "base_uri": "https://localhost:8080/"
        },
        "id": "ZyzcIhEr42oS",
        "outputId": "0b8f9b76-2a6c-4889-c9ed-eaf6aa8c46bc"
      },
      "outputs": [
        {
          "data": {
            "text/plain": [
              "array([0, 1, 2, 3, 4, 5, 6, 7, 8, 9])"
            ]
          },
          "execution_count": 32,
          "metadata": {},
          "output_type": "execute_result"
        }
      ],
      "source": [
        "np.array([i for i in range(10)])"
      ]
    },
    {
      "cell_type": "code",
      "execution_count": null,
      "metadata": {
        "colab": {
          "base_uri": "https://localhost:8080/"
        },
        "id": "QcmWooX15NLX",
        "outputId": "427b8f64-f2fc-419d-9ecc-86b11b5c41d6"
      },
      "outputs": [
        {
          "data": {
            "text/plain": [
              "array([0., 1., 2., 3., 4., 5., 6., 7., 8., 9.])"
            ]
          },
          "execution_count": 34,
          "metadata": {},
          "output_type": "execute_result"
        }
      ],
      "source": [
        "np.fromiter((i for i in range(10)), dtype=np.dtype(\"float64\"))"
      ]
    },
    {
      "cell_type": "code",
      "execution_count": null,
      "metadata": {
        "colab": {
          "base_uri": "https://localhost:8080/"
        },
        "id": "6tsgjwXD5zU4",
        "outputId": "9df4a98f-c123-409c-93ad-eff393bb84f8"
      },
      "outputs": [
        {
          "data": {
            "text/plain": [
              "array([0., 1., 2., 3., 4.])"
            ]
          },
          "execution_count": 35,
          "metadata": {},
          "output_type": "execute_result"
        }
      ],
      "source": [
        "np.fromiter((i for i in range(10)), dtype=np.dtype(\"float64\"), count=5)"
      ]
    },
    {
      "cell_type": "code",
      "execution_count": null,
      "metadata": {
        "colab": {
          "base_uri": "https://localhost:8080/"
        },
        "id": "Cm5gvxsj6CcQ",
        "outputId": "ee9364ca-5399-4635-8fbf-ff7cf4211e1f"
      },
      "outputs": [
        {
          "name": "stdout",
          "output_type": "stream",
          "text": [
            "[-32768]\n"
          ]
        }
      ],
      "source": [
        "import numpy as np\n",
        "\n",
        "x = np.array([32767], dtype=np.int16)  # Max value for int16\n",
        "x[0] += 1  # Adding 1\n",
        "print(x)  #adding 1 should give 32768, but since int16 can't store that, it wraps around to -32768"
      ]
    },
    {
      "cell_type": "code",
      "execution_count": null,
      "metadata": {
        "colab": {
          "base_uri": "https://localhost:8080/",
          "height": 211
        },
        "id": "t6p1I0DwQn7P",
        "outputId": "7639cb78-1a69-4fa0-cec0-6b23a9fd9e9a"
      },
      "outputs": [
        {
          "ename": "NameError",
          "evalue": "name 'float16' is not defined",
          "output_type": "error",
          "traceback": [
            "\u001b[0;31m---------------------------------------------------------------------------\u001b[0m",
            "\u001b[0;31mNameError\u001b[0m                                 Traceback (most recent call last)",
            "\u001b[0;32m<ipython-input-39-7bf68a3c4fa8>\u001b[0m in \u001b[0;36m<cell line: 0>\u001b[0;34m()\u001b[0m\n\u001b[1;32m      5\u001b[0m \u001b[0;34m\u001b[0m\u001b[0m\n\u001b[1;32m      6\u001b[0m \u001b[0mnp\u001b[0m\u001b[0;34m.\u001b[0m\u001b[0marray\u001b[0m\u001b[0;34m(\u001b[0m\u001b[0;36m65504\u001b[0m\u001b[0;34m,\u001b[0m \u001b[0mdtype\u001b[0m\u001b[0;34m=\u001b[0m\u001b[0;34m\"float16\"\u001b[0m\u001b[0;34m)\u001b[0m\u001b[0;34m\u001b[0m\u001b[0;34m\u001b[0m\u001b[0m\n\u001b[0;32m----> 7\u001b[0;31m \u001b[0mnp\u001b[0m\u001b[0;34m.\u001b[0m\u001b[0marray\u001b[0m\u001b[0;34m(\u001b[0m\u001b[0;36m65504.\u001b[0m\u001b[0;34m,\u001b[0m \u001b[0mdtype\u001b[0m\u001b[0;34m=\u001b[0m\u001b[0mfloat16\u001b[0m\u001b[0;34m)\u001b[0m\u001b[0;34m\u001b[0m\u001b[0;34m\u001b[0m\u001b[0m\n\u001b[0m\u001b[1;32m      8\u001b[0m \u001b[0;34m\u001b[0m\u001b[0m\n\u001b[1;32m      9\u001b[0m \u001b[0mnp\u001b[0m\u001b[0;34m.\u001b[0m\u001b[0miinfo\u001b[0m\u001b[0;34m(\u001b[0m\u001b[0;34m\"int16\"\u001b[0m\u001b[0;34m)\u001b[0m\u001b[0;34m.\u001b[0m\u001b[0mmax\u001b[0m\u001b[0;34m\u001b[0m\u001b[0;34m\u001b[0m\u001b[0m\n",
            "\u001b[0;31mNameError\u001b[0m: name 'float16' is not defined"
          ]
        }
      ],
      "source": [
        "import numpy as np\n",
        "\n",
        "np.finfo(\"float16\").max\n",
        "65500.0\n",
        "\n",
        "np.array(65504, dtype=\"float16\")\n",
        "np.array(65504., dtype=float16)\n",
        "\n",
        "np.iinfo(\"int16\").max\n",
        "32767"
      ]
    },
    {
      "cell_type": "code",
      "execution_count": null,
      "metadata": {
        "colab": {
          "base_uri": "https://localhost:8080/"
        },
        "id": "rSqOWsANQ82b",
        "outputId": "9fcc80a1-25de-4db7-f6a2-a7d7867241dd"
      },
      "outputs": [
        {
          "data": {
            "text/plain": [
              "array(65504., dtype=float16)"
            ]
          },
          "execution_count": 42,
          "metadata": {},
          "output_type": "execute_result"
        }
      ],
      "source": [
        "np.array(65511, dtype=\"float16\")"
      ]
    },
    {
      "cell_type": "code",
      "execution_count": null,
      "metadata": {
        "colab": {
          "base_uri": "https://localhost:8080/"
        },
        "id": "_UY4kfXGRZrg",
        "outputId": "e5179613-523d-4d21-caf9-2e156e4e22be"
      },
      "outputs": [
        {
          "data": {
            "text/plain": [
              "array([0., 0., 0., 0., 0., 0., 0., 0., 0., 0.])"
            ]
          },
          "execution_count": 44,
          "metadata": {},
          "output_type": "execute_result"
        }
      ],
      "source": [
        "import numpy as np\n",
        "\n",
        "z=np.zeros(10)\n",
        "z"
      ]
    },
    {
      "cell_type": "code",
      "execution_count": null,
      "metadata": {
        "colab": {
          "base_uri": "https://localhost:8080/"
        },
        "id": "RWVG0klXTTRV",
        "outputId": "35d2d19a-8153-424a-cae8-130e4a3edfbe"
      },
      "outputs": [
        {
          "data": {
            "text/plain": [
              "array([[0., 0., 0., 0., 0.],\n",
              "       [0., 0., 0., 0., 0.]])"
            ]
          },
          "execution_count": 45,
          "metadata": {},
          "output_type": "execute_result"
        }
      ],
      "source": [
        "y=np.zeros((2,5))\n",
        "y"
      ]
    },
    {
      "cell_type": "code",
      "execution_count": null,
      "metadata": {
        "colab": {
          "base_uri": "https://localhost:8080/"
        },
        "id": "RjjZ6m7aT0tp",
        "outputId": "69d1773d-c9c1-411c-cb78-613b00a69b2d"
      },
      "outputs": [
        {
          "data": {
            "text/plain": [
              "array([[0, 0, 0, 0, 0],\n",
              "       [0, 0, 0, 0, 0]], dtype=int32)"
            ]
          },
          "execution_count": 47,
          "metadata": {},
          "output_type": "execute_result"
        }
      ],
      "source": [
        "x=np.zeros((2,5), dtype='int32')\n",
        "x"
      ]
    },
    {
      "cell_type": "code",
      "execution_count": null,
      "metadata": {
        "colab": {
          "base_uri": "https://localhost:8080/"
        },
        "id": "W4IfTxqXUw8J",
        "outputId": "13bc5692-df8b-47a2-d731-70c79f0005ce"
      },
      "outputs": [
        {
          "data": {
            "text/plain": [
              "array([[0, 0, 0, 0, 0],\n",
              "       [0, 0, 0, 0, 0]], dtype=int32)"
            ]
          },
          "execution_count": 49,
          "metadata": {},
          "output_type": "execute_result"
        }
      ],
      "source": [
        "x2=np.zeros_like(x)\n",
        "x2"
      ]
    },
    {
      "cell_type": "code",
      "execution_count": null,
      "metadata": {
        "colab": {
          "base_uri": "https://localhost:8080/"
        },
        "id": "gIzbgNaXVmDI",
        "outputId": "270b063c-6813-486d-a700-d74b2fe40210"
      },
      "outputs": [
        {
          "data": {
            "text/plain": [
              "array([[1., 1., 1., 1., 1.],\n",
              "       [1., 1., 1., 1., 1.]])"
            ]
          },
          "execution_count": 52,
          "metadata": {},
          "output_type": "execute_result"
        }
      ],
      "source": [
        "o3=np.ones((2,5))\n",
        "o3"
      ]
    },
    {
      "cell_type": "code",
      "execution_count": null,
      "metadata": {
        "colab": {
          "base_uri": "https://localhost:8080/"
        },
        "id": "gZbLbB8KWMkY",
        "outputId": "e39e0b7a-2e44-4b49-a045-eb56f381f7e0"
      },
      "outputs": [
        {
          "data": {
            "text/plain": [
              "array([[1., 1., 1., 1., 1.],\n",
              "       [1., 1., 1., 1., 1.]])"
            ]
          },
          "execution_count": 53,
          "metadata": {},
          "output_type": "execute_result"
        }
      ],
      "source": [
        "o4=np.ones_like(o3)\n",
        "o4"
      ]
    },
    {
      "cell_type": "code",
      "execution_count": null,
      "metadata": {
        "colab": {
          "base_uri": "https://localhost:8080/"
        },
        "id": "u7cfaWesWVsN",
        "outputId": "b09defe7-9f0a-4be0-ce1f-54d2286a2e72"
      },
      "outputs": [
        {
          "data": {
            "text/plain": [
              "array([3, 3, 3, 3, 3, 3, 3, 3, 3, 3])"
            ]
          },
          "execution_count": 54,
          "metadata": {},
          "output_type": "execute_result"
        }
      ],
      "source": [
        "f=np.full(10,3)\n",
        "f"
      ]
    },
    {
      "cell_type": "code",
      "execution_count": null,
      "metadata": {
        "colab": {
          "base_uri": "https://localhost:8080/"
        },
        "id": "rUIqF11QW4S6",
        "outputId": "f32397f8-314f-44dd-de72-f61b519ca4f2"
      },
      "outputs": [
        {
          "name": "stdout",
          "output_type": "stream",
          "text": [
            "[[3. 3. 3. 3. 3.]\n",
            " [3. 3. 3. 3. 3.]]\n",
            "float64\n"
          ]
        }
      ],
      "source": [
        "f1=np.full((2,5),3.0)\n",
        "print(f1)\n",
        "print(f1.dtype)"
      ]
    },
    {
      "cell_type": "code",
      "execution_count": null,
      "metadata": {
        "colab": {
          "base_uri": "https://localhost:8080/"
        },
        "id": "EyXqgWYkW7Ss",
        "outputId": "95a98265-287d-453c-c616-412a29be464d"
      },
      "outputs": [
        {
          "data": {
            "text/plain": [
              "array([[4., 4., 4., 4., 4.],\n",
              "       [4., 4., 4., 4., 4.]])"
            ]
          },
          "execution_count": 70,
          "metadata": {},
          "output_type": "execute_result"
        }
      ],
      "source": [
        "f2=np.full_like(f1, 4)\n",
        "f2"
      ]
    },
    {
      "cell_type": "code",
      "execution_count": null,
      "metadata": {
        "colab": {
          "base_uri": "https://localhost:8080/",
          "height": 430
        },
        "id": "ca3iSuf8Xby7",
        "outputId": "a7ba1ff8-cbbc-4c41-d7e5-1a26b6679123"
      },
      "outputs": [
        {
          "data": {
            "image/png": "[encoded data removed]",
            "text/plain": [
              "<Figure size 640x480 with 1 Axes>"
            ]
          },
          "metadata": {},
          "output_type": "display_data"
        }
      ],
      "source": [
        "import matplotlib.pyplot as plt\n",
        "import numpy as np\n",
        "plt.plot(range(10), [x**2 for x in range(10)], \"*\");"
      ]
    },
    {
      "cell_type": "code",
      "execution_count": null,
      "metadata": {
        "colab": {
          "base_uri": "https://localhost:8080/",
          "height": 430
        },
        "id": "asmsb3IAZiZL",
        "outputId": "2f1dcdbd-5bae-4fb8-e74b-d8a0e3c5daac"
      },
      "outputs": [
        {
          "data": {
            "image/png": "[encoded data removed]",
            "text/plain": [
              "<Figure size 640x480 with 1 Axes>"
            ]
          },
          "metadata": {},
          "output_type": "display_data"
        }
      ],
      "source": [
        "abc = np.linspace(0, 10)\n",
        "\n",
        "plt.plot(abc, [x**2 for x in abc], \"*\");"
      ]
    },
    {
      "cell_type": "code",
      "execution_count": null,
      "metadata": {
        "colab": {
          "base_uri": "https://localhost:8080/"
        },
        "id": "csVyzBQOaua2",
        "outputId": "b669d838-8da6-489a-ae2c-1705b83d16f9"
      },
      "outputs": [
        {
          "data": {
            "text/plain": [
              "array([ 0.        ,  0.20408163,  0.40816327,  0.6122449 ,  0.81632653,\n",
              "        1.02040816,  1.2244898 ,  1.42857143,  1.63265306,  1.83673469,\n",
              "        2.04081633,  2.24489796,  2.44897959,  2.65306122,  2.85714286,\n",
              "        3.06122449,  3.26530612,  3.46938776,  3.67346939,  3.87755102,\n",
              "        4.08163265,  4.28571429,  4.48979592,  4.69387755,  4.89795918,\n",
              "        5.10204082,  5.30612245,  5.51020408,  5.71428571,  5.91836735,\n",
              "        6.12244898,  6.32653061,  6.53061224,  6.73469388,  6.93877551,\n",
              "        7.14285714,  7.34693878,  7.55102041,  7.75510204,  7.95918367,\n",
              "        8.16326531,  8.36734694,  8.57142857,  8.7755102 ,  8.97959184,\n",
              "        9.18367347,  9.3877551 ,  9.59183673,  9.79591837, 10.        ])"
            ]
          },
          "execution_count": 76,
          "metadata": {},
          "output_type": "execute_result"
        }
      ],
      "source": [
        "abc"
      ]
    },
    {
      "cell_type": "code",
      "execution_count": null,
      "metadata": {
        "colab": {
          "base_uri": "https://localhost:8080/"
        },
        "id": "oim67bi6bU2b",
        "outputId": "5b13e48f-6f06-4f3b-c9b7-1a25131930a8"
      },
      "outputs": [
        {
          "data": {
            "text/plain": [
              "(50,)"
            ]
          },
          "execution_count": 77,
          "metadata": {},
          "output_type": "execute_result"
        }
      ],
      "source": [
        "abc.shape"
      ]
    },
    {
      "cell_type": "code",
      "execution_count": null,
      "metadata": {
        "colab": {
          "base_uri": "https://localhost:8080/"
        },
        "id": "M15To7Zhbbw8",
        "outputId": "3c14decf-c4c9-45dc-d7de-08b97f303a6d"
      },
      "outputs": [
        {
          "data": {
            "text/plain": [
              "dtype('float64')"
            ]
          },
          "execution_count": 78,
          "metadata": {},
          "output_type": "execute_result"
        }
      ],
      "source": [
        "abc.dtype"
      ]
    },
    {
      "cell_type": "code",
      "execution_count": null,
      "metadata": {
        "colab": {
          "base_uri": "https://localhost:8080/"
        },
        "id": "Z5yEkDJ5cfrO",
        "outputId": "800106cf-4b53-4b99-b267-8595e49915e4"
      },
      "outputs": [
        {
          "data": {
            "text/plain": [
              "array([ 0.,  2.,  4.,  6.,  8., 10.])"
            ]
          },
          "execution_count": 79,
          "metadata": {},
          "output_type": "execute_result"
        }
      ],
      "source": [
        "np.linspace(0,10,6)"
      ]
    },
    {
      "cell_type": "code",
      "execution_count": null,
      "metadata": {
        "colab": {
          "base_uri": "https://localhost:8080/"
        },
        "id": "71ydy59rctyK",
        "outputId": "e76e5986-1a6c-4b1f-bc50-45619340fbbd"
      },
      "outputs": [
        {
          "data": {
            "text/plain": [
              "[0, 2, 4, 6, 8, 10]"
            ]
          },
          "execution_count": 82,
          "metadata": {},
          "output_type": "execute_result"
        }
      ],
      "source": [
        "list(range(0, 11, 2))"
      ]
    },
    {
      "cell_type": "code",
      "execution_count": null,
      "metadata": {
        "colab": {
          "base_uri": "https://localhost:8080/"
        },
        "id": "fvxWh4dgcwGl",
        "outputId": "db73f30f-e795-4c8e-aef3-35ff93a6aa13"
      },
      "outputs": [
        {
          "data": {
            "text/plain": [
              "array([0, 2, 4, 6, 8])"
            ]
          },
          "execution_count": 83,
          "metadata": {},
          "output_type": "execute_result"
        }
      ],
      "source": [
        "np.arange(0,10,2)"
      ]
    },
    {
      "cell_type": "code",
      "execution_count": null,
      "metadata": {
        "colab": {
          "base_uri": "https://localhost:8080/"
        },
        "id": "JG6YZxtkdYws",
        "outputId": "7d146a93-b77b-4550-cd71-fdbb36e016f2"
      },
      "outputs": [
        {
          "data": {
            "text/plain": [
              "array([ 0., 10.])"
            ]
          },
          "execution_count": 86,
          "metadata": {},
          "output_type": "execute_result"
        }
      ],
      "source": [
        "np.linspace(0,10,2)"
      ]
    },
    {
      "cell_type": "code",
      "execution_count": null,
      "metadata": {
        "colab": {
          "base_uri": "https://localhost:8080/"
        },
        "id": "AibwLDP1drcr",
        "outputId": "8422e4d8-4f27-4b63-86dd-90894c9237e3"
      },
      "outputs": [
        {
          "data": {
            "text/plain": [
              "array([0., 2., 4., 6., 8.])"
            ]
          },
          "execution_count": 87,
          "metadata": {},
          "output_type": "execute_result"
        }
      ],
      "source": [
        "np.arange(0,10,2, dtype='float64')"
      ]
    },
    {
      "cell_type": "code",
      "execution_count": null,
      "metadata": {
        "colab": {
          "base_uri": "https://localhost:8080/"
        },
        "id": "Q6LHkplad6az",
        "outputId": "e86989e3-3047-47f4-c557-e7ee9c372d26"
      },
      "outputs": [
        {
          "data": {
            "text/plain": [
              "array([[5. ],\n",
              "       [3.2]])"
            ]
          },
          "execution_count": 88,
          "metadata": {},
          "output_type": "execute_result"
        }
      ],
      "source": [
        " np.asarray([[5.0], [3.2]])"
      ]
    },
    {
      "cell_type": "code",
      "execution_count": null,
      "metadata": {
        "colab": {
          "base_uri": "https://localhost:8080/"
        },
        "id": "WkhU0iwBy3Vp",
        "outputId": "2e77d690-7bcc-4ba1-b745-d56e8ba14b1f"
      },
      "outputs": [
        {
          "data": {
            "text/plain": [
              "dtype('float64')"
            ]
          },
          "execution_count": 90,
          "metadata": {},
          "output_type": "execute_result"
        }
      ],
      "source": [
        "np.sin([0, 1]).dtype"
      ]
    },
    {
      "cell_type": "code",
      "execution_count": null,
      "metadata": {
        "colab": {
          "base_uri": "https://localhost:8080/"
        },
        "id": "3oBTMT_4y7FB",
        "outputId": "9445faa5-040b-4787-cdb5-c39b6f1791e4"
      },
      "outputs": [
        {
          "data": {
            "text/plain": [
              "array([[3, 4, 5],\n",
              "       [4, 5, 6],\n",
              "       [5, 6, 7],\n",
              "       [6, 7, 8]])"
            ]
          },
          "execution_count": 93,
          "metadata": {},
          "output_type": "execute_result"
        }
      ],
      "source": [
        "np.add([0, 1, 2], [[3], [4], [5], [6]])"
      ]
    },
    {
      "cell_type": "code",
      "execution_count": null,
      "metadata": {
        "colab": {
          "base_uri": "https://localhost:8080/"
        },
        "id": "ZmmWbRDGzBSq",
        "outputId": "14c708ca-e095-4635-f21c-52bcc1fe580e"
      },
      "outputs": [
        {
          "data": {
            "text/plain": [
              "array([[1, 2, 3],\n",
              "       [4, 5, 6]])"
            ]
          },
          "execution_count": 94,
          "metadata": {},
          "output_type": "execute_result"
        }
      ],
      "source": [
        "x = np.array([[1, 2, 3], [4, 5, 6]])\n",
        "x"
      ]
    },
    {
      "cell_type": "code",
      "execution_count": null,
      "metadata": {
        "colab": {
          "base_uri": "https://localhost:8080/"
        },
        "id": "aMIBUILU4xRn",
        "outputId": "35bbb095-8eb9-4d2f-e4d1-65f2d7a7cb48"
      },
      "outputs": [
        {
          "data": {
            "text/plain": [
              "array([[ 7,  8,  9],\n",
              "       [10, 11, 12]])"
            ]
          },
          "execution_count": 95,
          "metadata": {},
          "output_type": "execute_result"
        }
      ],
      "source": [
        "y=np.array([[7, 8, 9] , [10, 11, 12]])\n",
        "y"
      ]
    },
    {
      "cell_type": "code",
      "execution_count": null,
      "metadata": {
        "colab": {
          "base_uri": "https://localhost:8080/"
        },
        "id": "jlsWpFLc470l",
        "outputId": "d8f21e1e-693d-4a55-ba47-7a62d85349b7"
      },
      "outputs": [
        {
          "data": {
            "text/plain": [
              "array([[ 8, 10, 12],\n",
              "       [14, 16, 18]])"
            ]
          },
          "execution_count": 101,
          "metadata": {},
          "output_type": "execute_result"
        }
      ],
      "source": [
        "z= x + y\n",
        "\n",
        "z\n"
      ]
    },
    {
      "cell_type": "code",
      "execution_count": null,
      "metadata": {
        "colab": {
          "base_uri": "https://localhost:8080/"
        },
        "id": "9-s6xGOP5483",
        "outputId": "064bfa4b-8915-4cee-e16b-cd43c447de7a"
      },
      "outputs": [
        {
          "data": {
            "text/plain": [
              "array([[8. , 5. , 4. ],\n",
              "       [3.5, 3.2, 3. ]])"
            ]
          },
          "execution_count": 103,
          "metadata": {},
          "output_type": "execute_result"
        }
      ],
      "source": [
        "z / x"
      ]
    },
    {
      "cell_type": "code",
      "execution_count": null,
      "metadata": {
        "colab": {
          "base_uri": "https://localhost:8080/"
        },
        "id": "HiD-bA_w6tN1",
        "outputId": "7d9dfe3e-df26-4bb1-f2c3-de56a53f3f2a"
      },
      "outputs": [
        {
          "name": "stdout",
          "output_type": "stream",
          "text": [
            "(1, 6)\n",
            "int64\n",
            "[[0 1 2 3 4 5]]\n"
          ]
        }
      ],
      "source": [
        "a = np.array([[0, 1, 2, 3, 4, 5]])\n",
        "print(a.shape)\n",
        "print(a.dtype)\n",
        "print(a)"
      ]
    },
    {
      "cell_type": "code",
      "execution_count": null,
      "metadata": {
        "colab": {
          "base_uri": "https://localhost:8080/"
        },
        "id": "E_8mRKEN-Cfc",
        "outputId": "7a54942a-ea15-495b-ac02-8745ce553a2a"
      },
      "outputs": [
        {
          "data": {
            "text/plain": [
              "array([[10, 11, 12, 13, 14, 15]])"
            ]
          },
          "execution_count": 106,
          "metadata": {},
          "output_type": "execute_result"
        }
      ],
      "source": [
        "a + 10"
      ]
    },
    {
      "cell_type": "code",
      "execution_count": null,
      "metadata": {
        "id": "NF1FwIzY-RvU"
      },
      "outputs": [],
      "source": [
        "x = np.array([[0, 1, 2, 3, 4, 5]])\n",
        "y = np.array([[0], [100], [200], [300], [400]])"
      ]
    },
    {
      "cell_type": "code",
      "execution_count": null,
      "metadata": {
        "colab": {
          "base_uri": "https://localhost:8080/"
        },
        "id": "A-5EoD_r_QvP",
        "outputId": "e2692b89-73f7-46fb-919a-6e49dd071540"
      },
      "outputs": [
        {
          "name": "stdout",
          "output_type": "stream",
          "text": [
            "[[0 1 2 3 4 5]]\n",
            "[[  0]\n",
            " [100]\n",
            " [200]\n",
            " [300]\n",
            " [400]]\n"
          ]
        }
      ],
      "source": [
        "print(x)\n",
        "print(y)"
      ]
    },
    {
      "cell_type": "code",
      "execution_count": null,
      "metadata": {
        "colab": {
          "base_uri": "https://localhost:8080/"
        },
        "id": "qaHKDNpQAS5Q",
        "outputId": "14e26874-e77a-4cc7-a978-94e1d060060e"
      },
      "outputs": [
        {
          "data": {
            "text/plain": [
              "array([[  0,   1,   2,   3,   4,   5],\n",
              "       [100, 101, 102, 103, 104, 105],\n",
              "       [200, 201, 202, 203, 204, 205],\n",
              "       [300, 301, 302, 303, 304, 305],\n",
              "       [400, 401, 402, 403, 404, 405]])"
            ]
          },
          "execution_count": 110,
          "metadata": {},
          "output_type": "execute_result"
        }
      ],
      "source": [
        "x + y"
      ]
    },
    {
      "cell_type": "code",
      "execution_count": null,
      "metadata": {
        "id": "fjywtUQnCDiz"
      },
      "outputs": [],
      "source": []
    },
    {
      "cell_type": "code",
      "execution_count": null,
      "metadata": {
        "colab": {
          "base_uri": "https://localhost:8080/"
        },
        "id": "zxBXF1JYIIBw",
        "outputId": "08cbca11-9b91-432b-fb6b-6241448416f3"
      },
      "outputs": [
        {
          "name": "stdout",
          "output_type": "stream",
          "text": [
            "[[1 2 3]]\n",
            "[[4]\n",
            " [5]]\n"
          ]
        }
      ],
      "source": [
        "x = np.array([[1,2,3]])\n",
        "\n",
        "y = np.array([[4],[5]])\n",
        "\n",
        "print(x)\n",
        "print(y)"
      ]
    },
    {
      "cell_type": "code",
      "execution_count": null,
      "metadata": {
        "colab": {
          "base_uri": "https://localhost:8080/"
        },
        "id": "Iknf7cZMIipx",
        "outputId": "eceedfdd-235c-42eb-d683-3b1ca6c82b08"
      },
      "outputs": [
        {
          "data": {
            "text/plain": [
              "[array([[1, 2, 3],\n",
              "        [1, 2, 3]]),\n",
              " array([[4, 4, 4],\n",
              "        [5, 5, 5]])]"
            ]
          },
          "execution_count": 119,
          "metadata": {},
          "output_type": "execute_result"
        }
      ],
      "source": [
        "np.broadcast_arrays(x, y)"
      ]
    },
    {
      "cell_type": "code",
      "execution_count": null,
      "metadata": {
        "colab": {
          "base_uri": "https://localhost:8080/"
        },
        "id": "8l9FeDidIsOp",
        "outputId": "5b3d8d73-2c00-40cd-db38-8d3b273a9847"
      },
      "outputs": [
        {
          "name": "stdout",
          "output_type": "stream",
          "text": [
            "[[1 2 3]]\n"
          ]
        }
      ],
      "source": [
        "x = np.array([[1, 2, 3]])\n",
        "\n",
        "print(x)\n"
      ]
    },
    {
      "cell_type": "code",
      "execution_count": null,
      "metadata": {
        "colab": {
          "base_uri": "https://localhost:8080/"
        },
        "id": "z3x4IogUJTT5",
        "outputId": "5b8d2615-b3e5-4461-c107-beed41e15c18"
      },
      "outputs": [
        {
          "data": {
            "text/plain": [
              "array([[1, 2, 3],\n",
              "       [1, 2, 3],\n",
              "       [1, 2, 3],\n",
              "       [1, 2, 3]])"
            ]
          },
          "execution_count": 137,
          "metadata": {},
          "output_type": "execute_result"
        }
      ],
      "source": [
        "np.broadcast_to(x, (4,3))"
      ]
    },
    {
      "cell_type": "code",
      "execution_count": null,
      "metadata": {
        "colab": {
          "base_uri": "https://localhost:8080/"
        },
        "id": "Xv7ZJUm6LLb2",
        "outputId": "d1db1856-6c1b-4aa0-a632-664f0b4950a0"
      },
      "outputs": [
        {
          "name": "stdout",
          "output_type": "stream",
          "text": [
            "(2, 3)\n"
          ]
        },
        {
          "data": {
            "text/plain": [
              "array([[1, 3, 6],\n",
              "       [2, 3, 5]])"
            ]
          },
          "execution_count": 141,
          "metadata": {},
          "output_type": "execute_result"
        }
      ],
      "source": [
        "x = np.array([[1, 3, 6], [2, 3, 5]])\n",
        "\n",
        "print(x.shape)\n",
        "x"
      ]
    },
    {
      "cell_type": "code",
      "execution_count": null,
      "metadata": {
        "colab": {
          "base_uri": "https://localhost:8080/"
        },
        "id": "KCf-ewJFMhst",
        "outputId": "79fed14b-dac6-48ee-9915-340ffd59f07b"
      },
      "outputs": [
        {
          "data": {
            "text/plain": [
              "20"
            ]
          },
          "execution_count": 142,
          "metadata": {},
          "output_type": "execute_result"
        }
      ],
      "source": [
        "np.sum(x)"
      ]
    },
    {
      "cell_type": "code",
      "execution_count": null,
      "metadata": {
        "colab": {
          "base_uri": "https://localhost:8080/"
        },
        "id": "Sh0oEwmuMyWS",
        "outputId": "c0faa4f0-dde0-440e-cecd-aef82b5daa94"
      },
      "outputs": [
        {
          "data": {
            "text/plain": [
              "3.3333333333333335"
            ]
          },
          "execution_count": 143,
          "metadata": {},
          "output_type": "execute_result"
        }
      ],
      "source": [
        "np.mean(x)"
      ]
    },
    {
      "cell_type": "code",
      "execution_count": null,
      "metadata": {
        "colab": {
          "base_uri": "https://localhost:8080/"
        },
        "id": "rUeEHkbgM7dn",
        "outputId": "53f405f7-afb2-49a8-d77d-b41ec208b9e8"
      },
      "outputs": [
        {
          "data": {
            "text/plain": [
              "6"
            ]
          },
          "execution_count": 144,
          "metadata": {},
          "output_type": "execute_result"
        }
      ],
      "source": [
        "np.max(x)"
      ]
    },
    {
      "cell_type": "code",
      "execution_count": null,
      "metadata": {
        "colab": {
          "base_uri": "https://localhost:8080/"
        },
        "id": "lOl8309QM8ZX",
        "outputId": "f0205b11-3822-4add-9333-85036876594f"
      },
      "outputs": [
        {
          "data": {
            "text/plain": [
              "array([[1, 3, 6],\n",
              "       [2, 3, 5]])"
            ]
          },
          "execution_count": 145,
          "metadata": {},
          "output_type": "execute_result"
        }
      ],
      "source": [
        "x"
      ]
    },
    {
      "cell_type": "code",
      "execution_count": null,
      "metadata": {
        "colab": {
          "base_uri": "https://localhost:8080/"
        },
        "id": "tFVXQhuoNZpP",
        "outputId": "8e2107b1-feac-4e9d-a2e6-32105f596979"
      },
      "outputs": [
        {
          "data": {
            "text/plain": [
              "array([ 3,  6, 11])"
            ]
          },
          "execution_count": 146,
          "metadata": {},
          "output_type": "execute_result"
        }
      ],
      "source": [
        "np.sum(x, axis=0)"
      ]
    },
    {
      "cell_type": "code",
      "execution_count": null,
      "metadata": {
        "colab": {
          "base_uri": "https://localhost:8080/"
        },
        "id": "Rvx5yP_sNbmu",
        "outputId": "d1eeda47-0502-4c87-d6ea-dd425afa6819"
      },
      "outputs": [
        {
          "data": {
            "text/plain": [
              "array([10, 10])"
            ]
          },
          "execution_count": 147,
          "metadata": {},
          "output_type": "execute_result"
        }
      ],
      "source": [
        "np.sum(x, axis=1)"
      ]
    },
    {
      "cell_type": "code",
      "execution_count": null,
      "metadata": {
        "colab": {
          "base_uri": "https://localhost:8080/"
        },
        "id": "q0JYqGPNNc2S",
        "outputId": "65d44b18-6618-461b-8b73-41defad5091a"
      },
      "outputs": [
        {
          "data": {
            "text/plain": [
              "array([[ 3,  6, 11]])"
            ]
          },
          "execution_count": 150,
          "metadata": {},
          "output_type": "execute_result"
        }
      ],
      "source": [
        "np.sum(x, axis=0, keepdims=True)"
      ]
    },
    {
      "cell_type": "code",
      "execution_count": null,
      "metadata": {
        "id": "d-AHI_whP8UJ"
      },
      "outputs": [],
      "source": []
    },
    {
      "cell_type": "code",
      "execution_count": null,
      "metadata": {
        "colab": {
          "base_uri": "https://localhost:8080/"
        },
        "id": "comG2mR6PxaN",
        "outputId": "17ecc45c-39c2-40c8-ed84-6744b0f6c385"
      },
      "outputs": [
        {
          "name": "stdout",
          "output_type": "stream",
          "text": [
            "[[10]\n",
            " [10]]\n",
            "(2, 1)\n"
          ]
        }
      ],
      "source": [
        "x1 = np.sum(x, axis=1, keepdims=True)\n",
        "print(x1)\n",
        "print(x1.shape)"
      ]
    },
    {
      "cell_type": "code",
      "execution_count": null,
      "metadata": {
        "colab": {
          "base_uri": "https://localhost:8080/"
        },
        "id": "9N7JywAoP48-",
        "outputId": "324b3b66-8485-4f2b-b301-17fc4544492d"
      },
      "outputs": [
        {
          "name": "stdout",
          "output_type": "stream",
          "text": [
            "[[ 3  6 11]]\n",
            "(1, 3)\n"
          ]
        }
      ],
      "source": [
        "x0 = np.sum(x, axis=0, keepdims=True)\n",
        "print(x0)\n",
        "print(x0.shape)"
      ]
    },
    {
      "cell_type": "code",
      "execution_count": null,
      "metadata": {
        "colab": {
          "base_uri": "https://localhost:8080/"
        },
        "id": "ts7brvuiQKH5",
        "outputId": "cbc083da-f94f-46fe-9d6a-a3f1078c6748"
      },
      "outputs": [
        {
          "data": {
            "text/plain": [
              "(2, 3)"
            ]
          },
          "execution_count": 154,
          "metadata": {},
          "output_type": "execute_result"
        }
      ],
      "source": [
        "x.shape"
      ]
    },
    {
      "cell_type": "code",
      "execution_count": null,
      "metadata": {
        "colab": {
          "base_uri": "https://localhost:8080/"
        },
        "id": "sHw-QUd0QpEL",
        "outputId": "3d6a517c-e946-4686-889c-da29099089c9"
      },
      "outputs": [
        {
          "data": {
            "text/plain": [
              "2"
            ]
          },
          "execution_count": 155,
          "metadata": {},
          "output_type": "execute_result"
        }
      ],
      "source": [
        "x0.ndim"
      ]
    },
    {
      "cell_type": "code",
      "execution_count": null,
      "metadata": {
        "colab": {
          "base_uri": "https://localhost:8080/"
        },
        "id": "MAb5-UJiRN1J",
        "outputId": "5bc805c7-e23c-4805-d935-3ea08c2c045f"
      },
      "outputs": [
        {
          "data": {
            "text/plain": [
              "2"
            ]
          },
          "execution_count": 156,
          "metadata": {},
          "output_type": "execute_result"
        }
      ],
      "source": [
        "x1.ndim"
      ]
    },
    {
      "cell_type": "code",
      "execution_count": null,
      "metadata": {
        "id": "20s7mAi4RRGL"
      },
      "outputs": [],
      "source": [
        "def my_add(x, y):\n",
        "    return x + y"
      ]
    },
    {
      "cell_type": "code",
      "execution_count": null,
      "metadata": {
        "id": "Ku_ujoGQdN6o"
      },
      "outputs": [],
      "source": [
        "universal_my_add = np.frompyfunc(my_add, 2, 1)"
      ]
    },
    {
      "cell_type": "code",
      "execution_count": null,
      "metadata": {
        "colab": {
          "base_uri": "https://localhost:8080/"
        },
        "id": "gqLjNY5qdRjY",
        "outputId": "cc24b897-af43-4787-dad0-310942c0ee11"
      },
      "outputs": [
        {
          "data": {
            "text/plain": [
              "array([[ 0,  5, 10],\n",
              "       [ 3,  7, 11]])"
            ]
          },
          "execution_count": 160,
          "metadata": {},
          "output_type": "execute_result"
        }
      ],
      "source": [
        "x = np.array( [[0, 5, 10], [3, 7, 11]])\n",
        "x"
      ]
    },
    {
      "cell_type": "code",
      "execution_count": null,
      "metadata": {
        "colab": {
          "base_uri": "https://localhost:8080/"
        },
        "id": "KUy7Y7C8dZzN",
        "outputId": "6542ce4e-4efc-429d-84b7-82ed6f9fb0c5"
      },
      "outputs": [
        {
          "data": {
            "text/plain": [
              "array([[0, 10, 20],\n",
              "       [6, 14, 22]], dtype=object)"
            ]
          },
          "execution_count": 161,
          "metadata": {},
          "output_type": "execute_result"
        }
      ],
      "source": [
        "universal_my_add(x, x) #do x, x because nin is 2 above"
      ]
    },
    {
      "cell_type": "code",
      "execution_count": null,
      "metadata": {
        "colab": {
          "base_uri": "https://localhost:8080/"
        },
        "id": "_Fng88_NdjHS",
        "outputId": "18c9bbfb-bc0a-4ce5-c086-d8daca0ea0a3"
      },
      "outputs": [
        {
          "data": {
            "text/plain": [
              "array([[ 0,  5, 10],\n",
              "       [ 3,  7, 11]])"
            ]
          },
          "execution_count": 162,
          "metadata": {},
          "output_type": "execute_result"
        }
      ],
      "source": [
        "x"
      ]
    },
    {
      "cell_type": "code",
      "execution_count": null,
      "metadata": {
        "colab": {
          "base_uri": "https://localhost:8080/"
        },
        "id": "IpDbJsyxesh4",
        "outputId": "786c9702-0102-44fa-cd9f-e1852b4a8165"
      },
      "outputs": [
        {
          "data": {
            "text/plain": [
              "array([3, 12, 21], dtype=object)"
            ]
          },
          "execution_count": 163,
          "metadata": {},
          "output_type": "execute_result"
        }
      ],
      "source": [
        "universal_my_add.reduce(x)"
      ]
    },
    {
      "cell_type": "code",
      "execution_count": null,
      "metadata": {
        "colab": {
          "base_uri": "https://localhost:8080/"
        },
        "id": "MP6Csl6weuc7",
        "outputId": "5e3d2943-0400-4561-9058-587746079731"
      },
      "outputs": [
        {
          "data": {
            "text/plain": [
              "array([15, 21], dtype=object)"
            ]
          },
          "execution_count": 164,
          "metadata": {},
          "output_type": "execute_result"
        }
      ],
      "source": [
        "universal_my_add.reduce(x, axis=1)"
      ]
    },
    {
      "cell_type": "code",
      "execution_count": null,
      "metadata": {
        "colab": {
          "base_uri": "https://localhost:8080/"
        },
        "id": "NvZHNwcZe9f5",
        "outputId": "3f4fb46e-447b-4af6-cf72-383fccd861be"
      },
      "outputs": [
        {
          "data": {
            "text/plain": [
              "<numpy.vectorize at 0x7dfd4e99f850>"
            ]
          },
          "execution_count": 167,
          "metadata": {},
          "output_type": "execute_result"
        }
      ],
      "source": [
        "vectorized_my_add = np.vectorize(my_add, otypes=[\"float64\"])\n",
        "vectorized_my_add"
      ]
    },
    {
      "cell_type": "code",
      "execution_count": null,
      "metadata": {
        "colab": {
          "base_uri": "https://localhost:8080/"
        },
        "id": "XQouHqvSf9iX",
        "outputId": "0b9fa7d1-29a6-4a92-86e3-14fd8414e2bf"
      },
      "outputs": [
        {
          "data": {
            "text/plain": [
              "array([[ 0., 10., 20.],\n",
              "       [ 6., 14., 22.]])"
            ]
          },
          "execution_count": 168,
          "metadata": {},
          "output_type": "execute_result"
        }
      ],
      "source": [
        "vectorized_my_add(x,x)"
      ]
    },
    {
      "cell_type": "code",
      "execution_count": null,
      "metadata": {
        "colab": {
          "base_uri": "https://localhost:8080/"
        },
        "id": "iwLsCyS-gJRQ",
        "outputId": "45452927-9430-4442-c68d-4c9a5350deec"
      },
      "outputs": [
        {
          "data": {
            "text/plain": [
              "array([[101., 102., 103.],\n",
              "       [201., 202., 203.],\n",
              "       [301., 302., 303.]])"
            ]
          },
          "execution_count": 169,
          "metadata": {},
          "output_type": "execute_result"
        }
      ],
      "source": [
        "vectorized_my_add([[1, 2, 3]], [[100], [200], [300]])"
      ]
    },
    {
      "cell_type": "code",
      "execution_count": null,
      "metadata": {
        "id": "igiXsAWtgjsg"
      },
      "outputs": [],
      "source": [
        "x = np.array([[1, 2, 3], [4, 5, 6]])"
      ]
    },
    {
      "cell_type": "code",
      "execution_count": null,
      "metadata": {
        "id": "lVMxOWz-hueP"
      },
      "outputs": [],
      "source": [
        "np.savetxt(\"x.txt\", x)"
      ]
    },
    {
      "cell_type": "code",
      "execution_count": null,
      "metadata": {
        "colab": {
          "base_uri": "https://localhost:8080/"
        },
        "id": "WgKV_MOXhzMl",
        "outputId": "83d4bd55-3512-4237-8038-5011db69a05e"
      },
      "outputs": [
        {
          "name": "stdout",
          "output_type": "stream",
          "text": [
            "1.000000000000000000e+00 2.000000000000000000e+00 3.000000000000000000e+00\n",
            "4.000000000000000000e+00 5.000000000000000000e+00 6.000000000000000000e+00\n"
          ]
        }
      ],
      "source": [
        "!cat x.txt"
      ]
    },
    {
      "cell_type": "code",
      "execution_count": null,
      "metadata": {
        "id": "B9fNsWOJif33"
      },
      "outputs": [],
      "source": [
        "np.savetxt(\"x.txt\" , x , fmt = \"%.3f\")"
      ]
    },
    {
      "cell_type": "code",
      "execution_count": null,
      "metadata": {
        "colab": {
          "base_uri": "https://localhost:8080/"
        },
        "id": "aWxZEpjQipyW",
        "outputId": "7ded80b7-2133-45ed-92a9-81d3b8ca71fc"
      },
      "outputs": [
        {
          "name": "stdout",
          "output_type": "stream",
          "text": [
            "1.000 2.000 3.000\n",
            "4.000 5.000 6.000\n"
          ]
        }
      ],
      "source": [
        "!cat x.txt"
      ]
    },
    {
      "cell_type": "code",
      "execution_count": null,
      "metadata": {
        "colab": {
          "base_uri": "https://localhost:8080/"
        },
        "id": "MnyscYnXiqrE",
        "outputId": "2f5ad7c0-1335-48ce-8ba9-5a9099cbf04d"
      },
      "outputs": [
        {
          "data": {
            "text/plain": [
              "array([[1., 2., 3.],\n",
              "       [4., 5., 6.]])"
            ]
          },
          "execution_count": 177,
          "metadata": {},
          "output_type": "execute_result"
        }
      ],
      "source": [
        "np.loadtxt(\"x.txt\" , delimiter = \" \")"
      ]
    },
    {
      "cell_type": "code",
      "execution_count": null,
      "metadata": {
        "colab": {
          "base_uri": "https://localhost:8080/"
        },
        "id": "kVjnu-wXjUQo",
        "outputId": "b7a9f86b-0e97-4a79-c51a-ac04661c674c"
      },
      "outputs": [
        {
          "data": {
            "text/plain": [
              "array([[ 1,  3,  6],\n",
              "       [ 4,  9, 15],\n",
              "       [ 7, 15, 24]])"
            ]
          },
          "execution_count": 3,
          "metadata": {},
          "output_type": "execute_result"
        }
      ],
      "source": [
        "import numpy as np\n",
        "\n",
        "array_2d = np.array([[1, 2, 3],\n",
        "                     [4, 5, 6],\n",
        "                     [7, 8, 9]])\n",
        "\n",
        "# Calculate the cumulative sum\n",
        "cumulative_sum = np.cumsum(array_2d, axis = 1)\n",
        "cumulative_sum"
      ]
    },
    {
      "cell_type": "code",
      "execution_count": null,
      "metadata": {
        "colab": {
          "base_uri": "https://localhost:8080/"
        },
        "id": "KbRnrMMh-LB7",
        "outputId": "6422d97c-61a7-407b-ba0c-487334667f4a"
      },
      "outputs": [
        {
          "data": {
            "text/plain": [
              "2"
            ]
          },
          "execution_count": 2,
          "metadata": {},
          "output_type": "execute_result"
        }
      ],
      "source": [
        "import numpy as np\n",
        "abc = np.array([[1,2], [3,4], [5,6]])\n",
        "abc.ndim"
      ]
    },
    {
      "cell_type": "code",
      "execution_count": null,
      "metadata": {
        "colab": {
          "base_uri": "https://localhost:8080/"
        },
        "id": "cVU4pfs_gRPS",
        "outputId": "08288f04-2e9a-4baf-b550-cf901c57434f"
      },
      "outputs": [
        {
          "name": "stdout",
          "output_type": "stream",
          "text": [
            "[[2 2 3 4]\n",
            " [5 6 7 8]]\n",
            "[[2 2 3 4]\n",
            " [5 6 7 8]]\n"
          ]
        }
      ],
      "source": [
        "import numpy as np\n",
        "list1=[2,2,3,4]\n",
        "list2=[5,6,7,8]\n",
        "\n",
        "abc = np.array([list1, list2]) #2D\n",
        "print(abc)\n",
        "x = np.asarray(abc)\n",
        "print(x)"
      ]
    },
    {
      "cell_type": "code",
      "execution_count": null,
      "metadata": {
        "colab": {
          "base_uri": "https://localhost:8080/"
        },
        "id": "AzlNbD7PLNZF",
        "outputId": "e81ba891-f474-4c68-e71f-7f0c04fcd8c9"
      },
      "outputs": [
        {
          "name": "stdout",
          "output_type": "stream",
          "text": [
            "()\n"
          ]
        }
      ],
      "source": [
        "x = np.array(10)\n",
        "print(x.shape)"
      ]
    },
    {
      "cell_type": "code",
      "execution_count": null,
      "metadata": {
        "colab": {
          "base_uri": "https://localhost:8080/"
        },
        "id": "DlPGcK4kLuSj",
        "outputId": "57504404-6e7c-4502-bb2e-7e58babf3e1b"
      },
      "outputs": [
        {
          "name": "stdout",
          "output_type": "stream",
          "text": [
            "Using array(): False\n",
            "Using asarray(): True\n"
          ]
        }
      ],
      "source": [
        "import numpy as np\n",
        "\n",
        "original = np.array([1, 2, 3])\n",
        "\n",
        "array_version = np.array(original)\n",
        "asarray_version = np.asarray(original)\n",
        "\n",
        "\n",
        "print(\"Using array():\", original is array_version)    # False - creates a copy\n",
        "print(\"Using asarray():\", original is asarray_version)  # True - references same object\n"
      ]
    },
    {
      "cell_type": "code",
      "execution_count": null,
      "metadata": {
        "colab": {
          "base_uri": "https://localhost:8080/"
        },
        "id": "psad4dsLMlcv",
        "outputId": "eb37bc8f-5a44-4e3a-f770-51ec59afbe87"
      },
      "outputs": [
        {
          "name": "stdout",
          "output_type": "stream",
          "text": [
            "Original after modifying array_version: [1 2 3]\n"
          ]
        }
      ],
      "source": [
        "import numpy as np\n",
        "\n",
        "# Create an original NumPy array\n",
        "original = np.array([1, 2, 3])\n",
        "\n",
        "# Using np.array() and np.asarray()\n",
        "array_version = np.array(original)\n",
        "asarray_version = np.asarray(original)\n",
        "\n",
        "# Modify the derived arrays\n",
        "array_version[0] = 99\n",
        "# asarray_version[0] = 100\n",
        "\n",
        "# Check the original array\n",
        "print(\"Original after modifying array_version:\", original)  # [1, 2, 3] - unchanged\n",
        "# print(\"Original after modifying asarray_version:\", original)  # [100, 2, 3] - changed\n"
      ]
    },
    {
      "cell_type": "code",
      "execution_count": null,
      "metadata": {
        "colab": {
          "base_uri": "https://localhost:8080/"
        },
        "id": "MoD_w4tHM0dN",
        "outputId": "dfbeda29-71c3-4f5e-d7a1-3587bfe00c96"
      },
      "outputs": [
        {
          "data": {
            "text/plain": [
              "2"
            ]
          },
          "execution_count": 24,
          "metadata": {},
          "output_type": "execute_result"
        }
      ],
      "source": [
        "g = np.array([10,2])\n",
        "g[1]"
      ]
    },
    {
      "cell_type": "code",
      "execution_count": null,
      "metadata": {
        "colab": {
          "base_uri": "https://localhost:8080/"
        },
        "id": "WK2vnTHVO-qh",
        "outputId": "424f544f-bbc1-4650-b9b1-1dc27697c65e"
      },
      "outputs": [
        {
          "data": {
            "text/plain": [
              "array([3, 4])"
            ]
          },
          "execution_count": 26,
          "metadata": {},
          "output_type": "execute_result"
        }
      ],
      "source": [
        "c = np.array([[1,2],[3,4],[5,6]])\n",
        "c[2,-2]\n",
        "c[1]"
      ]
    },
    {
      "cell_type": "code",
      "execution_count": null,
      "metadata": {
        "colab": {
          "base_uri": "https://localhost:8080/"
        },
        "id": "8-TVL4IbPogX",
        "outputId": "c7fba565-4108-4411-c9c7-20ada7bdd749"
      },
      "outputs": [
        {
          "data": {
            "text/plain": [
              "(5,)"
            ]
          },
          "execution_count": 27,
          "metadata": {},
          "output_type": "execute_result"
        }
      ],
      "source": [
        "x = np.array([1,2,3,4,5])\n",
        "x.shape"
      ]
    },
    {
      "cell_type": "code",
      "execution_count": null,
      "metadata": {
        "id": "MJGopB4qQIvN"
      },
      "outputs": [],
      "source": []
    }
  ],
  "metadata": {
    "colab": {
      "provenance": [],
      "toc_visible": true
    },
    "kernelspec": {
      "display_name": "Python 3",
      "name": "python3"
    },
    "language_info": {
      "name": "python"
    }
  },
  "nbformat": 4,
  "nbformat_minor": 0
}
