{
 "cells": [
  {
   "cell_type": "markdown",
   "metadata": {},
   "source": [
    "write a script that opens a csv file named data.csv fo rreading, reads the file using csv.reader and prints each row of csv file\n"
   ]
  },
  {
   "cell_type": "code",
   "execution_count": null,
   "metadata": {},
   "outputs": [],
   "source": [
    "with open('data.csv' , 'r') as file:\n",
    "    reader = csv.reader(file)\n",
    "    for row in reader:\n",
    "        print(row)"
   ]
  },
  {
   "cell_type": "markdown",
   "metadata": {},
   "source": [
    "2) Task:\n",
    "Write a Python script that does the following:\n",
    "\n",
    "Creates (or overwrites) a CSV file named output.csv.\n",
    "Writes a header row with the column names: \"Name\", \"Age\", and \"City\".\n",
    "Writes at least two data rows. For example, one row might be [\"Alice\", \"30\", \"New York\"] and another might be [\"Bob\", \"25\", \"San Francisco\"].\n",
    "Closes the file after writing.\n",
    "Hints:\n",
    "\n",
    "Import the csv module.\n",
    "Use the open function with write mode ('w').\n",
    "Use csv.writer to create a writer object.\n",
    "Use the writerow method to write individual rows (or writerows to write multiple rows)."
   ]
  },
  {
   "cell_type": "code",
   "execution_count": null,
   "metadata": {},
   "outputs": [],
   "source": [
    "headers = ['Name', 'Age', 'City']\n",
    "with open('output.csv', 'w', newline='') as file:\n",
    "    writer = csv.writer(file)\n",
    "    writer.writerow(headers)\n",
    "    writer.writerow(['Alice', 24, 'Toronto'])\n",
    "    writer.writerow(['Bob', 19, 'New York'])"
   ]
  },
  {
   "cell_type": "code",
   "execution_count": 1,
   "metadata": {},
   "outputs": [],
   "source": [
    "import numpy as np"
   ]
  },
  {
   "cell_type": "markdown",
   "metadata": {},
   "source": [
    "Practice Problem 3: Filtering a CSV File\n",
    "Task:\n",
    "Write a Python script that does the following:\n",
    "\n",
    "Opens a CSV file named data.csv that has a header row with columns such as \"Name\", \"Age\", and \"City\".\n",
    "Reads the file using csv.DictReader.\n",
    "Filters out any rows where the value in the \"Age\" column is less than 21.\n",
    "Writes the remaining rows (those with \"Age\" ≥ 21) to a new CSV file called filtered.csv, preserving the same header.\n",
    "Hints:\n",
    "\n",
    "Use csv.DictReader to read the CSV file as dictionaries.\n",
    "Convert the \"Age\" value from a string to an integer before filtering.\n",
    "Use csv.DictWriter to write the filtered rows to filtered.csv.\n",
    "Remember to write the header row to the output file using writer.writeheader()."
   ]
  },
  {
   "cell_type": "code",
   "execution_count": null,
   "metadata": {},
   "outputs": [],
   "source": [
    "\n",
    "with open('data.csv') as file:\n",
    "    reader = csv.DictReader(file)\n",
    "    header=reader.fieldnames\n",
    "    for row in reader:\n",
    "        row['Age'] = int(row['Age'])\n",
    "\n",
    "        if row['Age'] > =21:\n",
    "            with open('filtered.csv' , 'w') as outfile:\n",
    "                writer=csv.DictWriter(outfile, fieldnames=header)\n",
    "                writer.writeheader()\n",
    "                writer.writerows(row)\n",
    "\n",
    "#this was my first attempt\n"
   ]
  },
  {
   "cell_type": "code",
   "execution_count": null,
   "metadata": {},
   "outputs": [],
   "source": [
    "#this is my second attempt\n",
    "\n",
    "filt_rows=[]\n",
    "with open('data.csv') as file:\n",
    "    reader=csv.DictReader(file)\n",
    "    header=reader.fieldnames\n",
    "    for row in reader:\n",
    "        row['Age']=int(row['Age'])\n",
    "        if row['Age']>=21:\n",
    "            filt_rows.append(row)\n",
    "with open('filtered.csv','w', newline='') as outfile:\n",
    "    writer=csv.DictWriter(outfile, fieldnames=header)\n",
    "    writer.writeheader()\n",
    "    writer.writerows(filt_rows)"
   ]
  },
  {
   "cell_type": "markdown",
   "metadata": {},
   "source": [
    "Practice Problem 4: Calculating an Additional Column\n",
    "Task:\n",
    "Write a Python script that does the following:\n",
    "\n",
    "Open a CSV file named employees.csv that contains the columns: \"Name\", \"Salary\", and \"Bonus\".\n",
    "Read the file using csv.DictReader.\n",
    "For each row, calculate a new field \"TotalCompensation\" by adding the \"Salary\" and \"Bonus\" values.\n",
    "Assume that \"Salary\" and \"Bonus\" are numeric values (they might be stored as strings in the CSV, so you'll need to convert them to numbers).\n",
    "Write the updated data to a new CSV file called employees_updated.csv. This file should include all the original columns plus the new \"TotalCompensation\" column.\n",
    "Ensure that the header row is updated accordingly.\n",
    "Hints:\n",
    "\n",
    "Use csv.DictReader to read the file.\n",
    "Use csv.DictWriter to write the new file.\n",
    "Convert the salary and bonus values to numbers (e.g., using float() or int() as appropriate) before adding them.\n",
    "Don't forget to write the header row to the output file using writer.writeheader()."
   ]
  },
  {
   "cell_type": "code",
   "execution_count": null,
   "metadata": {},
   "outputs": [],
   "source": [
    "#this was my first attempt\n",
    "new_data=[]\n",
    "\n",
    "with open ('employees.csv') as file:\n",
    "    reader=csv.DictReader(file)\n",
    "    header=reader.fieldnames\n",
    "    for row in reader:\n",
    "        tot_comp_val = int(row['Salary']) + int(row['Bonus'])\n",
    "        row.setdefault('TotalCompensation', tot_comp_val)\n",
    "        new_data.append(row)\n",
    "\n",
    "\n",
    "\n",
    "with open('employees_updated.csv' , 'w', newline='') as outfile:\n",
    "    writer=csv.DictWriter(outfile, fieldnames=header.append('TotalCompensation'))\n",
    "    writer.writeheader()\n",
    "    writer.writerows(new_data)\n",
    "\n"
   ]
  },
  {
   "cell_type": "code",
   "execution_count": null,
   "metadata": {},
   "outputs": [],
   "source": [
    "new_data=[]\n",
    "\n",
    "with open ('employees.csv') as file:\n",
    "    reader=csv.DictReader(file)\n",
    "    header=reader.fieldnames\n",
    "    for row in reader:\n",
    "        tot_comp_val = int(row['Salary']) + int(row['Bonus'])\n",
    "        row['TotalCompensation']=tot_comp_val #can just do this instead of dict.setdefault\n",
    "        new_data.append(row)\n",
    "\n",
    "header.append('TotalCompensation') #added this separate to the parameter of csv.DictWriter\n",
    "\n",
    "with open('employees_updated.csv' , 'w', newline='') as outfile:\n",
    "    writer=csv.DictWriter(outfile, fieldnames=header)\n",
    "    writer.writeheader()\n",
    "    writer.writerows(new_data)\n"
   ]
  },
  {
   "cell_type": "markdown",
   "metadata": {},
   "source": [
    "Practice Problem 5: Aggregating Student Scores\n",
    "Task:\n",
    "Write a Python script that does the following:\n",
    "\n",
    "Open a CSV file named grades.csv that contains the following columns: \"Student\", \"Subject\", and \"Score\".\n",
    "Read the file using csv.DictReader.\n",
    "Compute the average score for each student. (Remember to convert the \"Score\" from a string to a number, like a float or int.)\n",
    "Write the results to a new CSV file called student_averages.csv. This file should have two columns: \"Student\" and \"AverageScore\", and should include a header row.\n",
    "Hints:\n",
    "\n",
    "Use a dictionary to store scores for each student. For example, you might have a dictionary where the keys are student names and the values are lists of their scores.\n",
    "Once you've collected all the scores for each student, compute the average for each.\n",
    "Use csv.DictWriter to write the new CSV file, and remember to write the header row with writer.writeheader().\n"
   ]
  },
  {
   "cell_type": "code",
   "execution_count": null,
   "metadata": {},
   "outputs": [],
   "source": [
    "#this is my first attempt\n",
    "def average_val(seq):\n",
    "    return sum(seq)/len(seq)\n",
    "\n",
    "stud_dict={}\n",
    "\n",
    "with open('grades.csv', 'r') as file:\n",
    "    reader = csv.DictReader(file)\n",
    "    header=reader.fieldnames\n",
    "    for row in reader:\n",
    "        row['Score'] = int(row['Score'])\n",
    "        stud_dict.setdefault(row['Student'], []).append(row['Score'])\n",
    "\n",
    "    for k,v in stud_dict.items():\n",
    "        stud_dict[k]=average_val(v)\n",
    "\n",
    "stud_list=list(stud_dict)\n",
    "col_names=[k for k in stud_dict.keys()]\n",
    "\n",
    "with open('student_averages.csv','w',newline='') as outfile:\n",
    "    writer=csv.DictWriter(outfile, fieldnames=col_names)\n",
    "    writer.writeheader()\n",
    "    writer.writerows(stud_list)\n",
    "        \n",
    "        \n",
    "\n",
    "    "
   ]
  },
  {
   "cell_type": "code",
   "execution_count": null,
   "metadata": {},
   "outputs": [],
   "source": [
    "#this is my second attempt\n",
    "\n",
    "def average_val(seq):\n",
    "    return sum(seq)/len(seq)\n",
    "\n",
    "stud_dict={}\n",
    "\n",
    "with open('grades.csv', 'r') as file:\n",
    "    reader = csv.DictReader(file)\n",
    "    for row in reader:\n",
    "        row['Score'] = int(row['Score'])\n",
    "        stud_dict.setdefault(row['Student'], []).append(row['Score'])\n",
    "\n",
    "for student, scores in stud_dict.items():\n",
    "    stud_dict[student]=average_val(scores)\n",
    "\n",
    "output_data=[{'Student':k, 'AverageScore':v} for k,v in stud_dict.items] #this properly formats the data that will be written with DictWriter\n",
    "\n",
    "with open('student_averages.csv','w',newline='') as outfile:\n",
    "    fieldnames=['Student', 'Average']\n",
    "    writer=csv.DictWriter(outfile, fieldnames=fieldnames)\n",
    "    writer.writeheader()\n",
    "    writer.writerow(output_data)"
   ]
  },
  {
   "cell_type": "markdown",
   "metadata": {},
   "source": [
    "You have a CSV file named \"employees.csv\" with the following columns:\n",
    "\n",
    "EmployeeID\n",
    "Name\n",
    "Department\n",
    "Salary\n",
    "Write a Python script that:\n",
    "\n",
    "Reads the file using csv.DictReader().\n",
    "Filters employees who earn more than $50,000.\n",
    "Writes the filtered employees to a new CSV file called \"high_earners.csv\" with the same columns."
   ]
  },
  {
   "cell_type": "code",
   "execution_count": 5,
   "metadata": {},
   "outputs": [
    {
     "ename": "FileNotFoundError",
     "evalue": "[Errno 2] No such file or directory: 'employees.csv'",
     "output_type": "error",
     "traceback": [
      "\u001b[1;31m---------------------------------------------------------------------------\u001b[0m",
      "\u001b[1;31mFileNotFoundError\u001b[0m                         Traceback (most recent call last)",
      "Cell \u001b[1;32mIn[5], line 5\u001b[0m\n\u001b[0;32m      1\u001b[0m \u001b[38;5;28;01mimport\u001b[39;00m\u001b[38;5;250m \u001b[39m\u001b[38;5;21;01mcsv\u001b[39;00m\n\u001b[0;32m      3\u001b[0m salary_list\u001b[38;5;241m=\u001b[39m[]\n\u001b[1;32m----> 5\u001b[0m \u001b[38;5;28;01mwith\u001b[39;00m \u001b[38;5;28;43mopen\u001b[39;49m\u001b[43m(\u001b[49m\u001b[38;5;124;43m'\u001b[39;49m\u001b[38;5;124;43memployees.csv\u001b[39;49m\u001b[38;5;124;43m'\u001b[39;49m\u001b[43m)\u001b[49m \u001b[38;5;28;01mas\u001b[39;00m file:\n\u001b[0;32m      6\u001b[0m     reader\u001b[38;5;241m=\u001b[39mcsv\u001b[38;5;241m.\u001b[39mDictReader(file)\n\u001b[0;32m      7\u001b[0m     header\u001b[38;5;241m=\u001b[39mreader\u001b[38;5;241m.\u001b[39mfieldnames\n",
      "File \u001b[1;32m~\\AppData\\Roaming\\Python\\Python312\\site-packages\\IPython\\core\\interactiveshell.py:324\u001b[0m, in \u001b[0;36m_modified_open\u001b[1;34m(file, *args, **kwargs)\u001b[0m\n\u001b[0;32m    317\u001b[0m \u001b[38;5;28;01mif\u001b[39;00m file \u001b[38;5;129;01min\u001b[39;00m {\u001b[38;5;241m0\u001b[39m, \u001b[38;5;241m1\u001b[39m, \u001b[38;5;241m2\u001b[39m}:\n\u001b[0;32m    318\u001b[0m     \u001b[38;5;28;01mraise\u001b[39;00m \u001b[38;5;167;01mValueError\u001b[39;00m(\n\u001b[0;32m    319\u001b[0m         \u001b[38;5;124mf\u001b[39m\u001b[38;5;124m\"\u001b[39m\u001b[38;5;124mIPython won\u001b[39m\u001b[38;5;124m'\u001b[39m\u001b[38;5;124mt let you open fd=\u001b[39m\u001b[38;5;132;01m{\u001b[39;00mfile\u001b[38;5;132;01m}\u001b[39;00m\u001b[38;5;124m by default \u001b[39m\u001b[38;5;124m\"\u001b[39m\n\u001b[0;32m    320\u001b[0m         \u001b[38;5;124m\"\u001b[39m\u001b[38;5;124mas it is likely to crash IPython. If you know what you are doing, \u001b[39m\u001b[38;5;124m\"\u001b[39m\n\u001b[0;32m    321\u001b[0m         \u001b[38;5;124m\"\u001b[39m\u001b[38;5;124myou can use builtins\u001b[39m\u001b[38;5;124m'\u001b[39m\u001b[38;5;124m open.\u001b[39m\u001b[38;5;124m\"\u001b[39m\n\u001b[0;32m    322\u001b[0m     )\n\u001b[1;32m--> 324\u001b[0m \u001b[38;5;28;01mreturn\u001b[39;00m \u001b[43mio_open\u001b[49m\u001b[43m(\u001b[49m\u001b[43mfile\u001b[49m\u001b[43m,\u001b[49m\u001b[43m \u001b[49m\u001b[38;5;241;43m*\u001b[39;49m\u001b[43margs\u001b[49m\u001b[43m,\u001b[49m\u001b[43m \u001b[49m\u001b[38;5;241;43m*\u001b[39;49m\u001b[38;5;241;43m*\u001b[39;49m\u001b[43mkwargs\u001b[49m\u001b[43m)\u001b[49m\n",
      "\u001b[1;31mFileNotFoundError\u001b[0m: [Errno 2] No such file or directory: 'employees.csv'"
     ]
    }
   ],
   "source": [
    "import csv\n",
    "\n",
    "salary_list=[]\n",
    "\n",
    "with open('employees.csv') as file:\n",
    "    reader=csv.DictReader(file)\n",
    "    header=reader.fieldnames\n",
    "    for row in reader:\n",
    "        row['Salary']=int(row['Salary'])\n",
    "        if row['Salary'] > 50000:\n",
    "            salary_list.append(row)\n",
    "\n",
    "with open('high_earners.csv','w',newline='') as outfile:\n",
    "    writer=csv.DictWriter(outfile, fieldnames=header)\n",
    "    writer.writeheader()\n",
    "    writer.writerows(salary_list)\n",
    "\n",
    "        \n"
   ]
  },
  {
   "cell_type": "code",
   "execution_count": 9,
   "metadata": {},
   "outputs": [],
   "source": [
    "import csv\n",
    "\n",
    "headers=['ProductID','Name','Category','Price','Stock']\n",
    "\n",
    "with open('products.csv','w') as file:\n",
    "    writer=csv.writer(file)\n",
    "    writer.writerow(headers)\n",
    "    writer.writerow([101,'Laptop','Electronics',800,10])\n",
    "    writer.writerow([102,'Phone','Electronics',500,5])\n",
    "    writer.writerow([103,'Shirt','Clothing',30,20])\n",
    "    writer.writerow([104,'Jeans','Clothing',50,15])"
   ]
  },
  {
   "cell_type": "markdown",
   "metadata": {},
   "source": [
    "Task:\n",
    "Write a Python program that reads the products.csv file and creates a new file called low_stock.csv, containing only products where Stock is less than 10."
   ]
  },
  {
   "cell_type": "code",
   "execution_count": 13,
   "metadata": {},
   "outputs": [],
   "source": [
    "import csv\n",
    "\n",
    "data_list=[]\n",
    "\n",
    "with open('products.csv') as file:\n",
    "    reader=csv.DictReader(file)\n",
    "    header=reader.fieldnames\n",
    "    for row in reader:\n",
    "        row['Stock']=int(row['Stock'])\n",
    "        if row['Stock'] <=10:\n",
    "            data_list.append(row)\n",
    "\n",
    "with open('low_stock.csv','w',newline='') as outfile:\n",
    "    writer=csv.DictWriter(outfile, fieldnames=header)\n",
    "    writer.writeheader()\n",
    "    writer.writerows(data_list)\n",
    "\n"
   ]
  },
  {
   "cell_type": "code",
   "execution_count": null,
   "metadata": {},
   "outputs": [],
   "source": [
    "data_list=[]\n",
    "\n",
    "with open('employees.csv') as file:\n",
    "    reader=csv.DictReader(file)\n",
    "    header=reader.fieldnames\n",
    "    for row in reader:\n",
    "        row['Salary']=int(row['Salary'])\n",
    "        if row['Department'] == \"IT\":\n",
    "            row['Salary']*=1.10\n",
    "        data_list.append(row)\n",
    "\n",
    "with open('updated_employees.csv','w',newline='') as outfile:\n",
    "    writer=csv.DictWriter(outfile, fieldnames=header)\n",
    "    writer.writeheader()\n",
    "    writer.writerows(data_list)"
   ]
  },
  {
   "cell_type": "markdown",
   "metadata": {},
   "source": [
    "using csv.reader and csv.writer only"
   ]
  },
  {
   "cell_type": "code",
   "execution_count": null,
   "metadata": {},
   "outputs": [],
   "source": [
    "with open('sums.csv','w',newline='') as outfile:\n",
    "    outfile=csv.writer(outfile)\n",
    "    data_list=[]\n",
    "    \n",
    "    with open('numbers.csv') as file:\n",
    "        reader=csv.reader(file)\n",
    "        for row in reader:\n",
    "            nums = list(map(int,row))\n",
    "\n",
    "            data_list.append(sums)\n",
    "    outfile.writerows(data_list)\n"
   ]
  }
 ],
 "metadata": {
  "kernelspec": {
   "display_name": "Python 3",
   "language": "python",
   "name": "python3"
  },
  "language_info": {
   "codemirror_mode": {
    "name": "ipython",
    "version": 3
   },
   "file_extension": ".py",
   "mimetype": "text/x-python",
   "name": "python",
   "nbconvert_exporter": "python",
   "pygments_lexer": "ipython3",
   "version": "3.12.4"
  }
 },
 "nbformat": 4,
 "nbformat_minor": 2
}
